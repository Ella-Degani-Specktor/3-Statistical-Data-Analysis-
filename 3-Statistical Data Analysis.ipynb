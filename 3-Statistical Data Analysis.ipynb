{
 "cells": [
  {
   "cell_type": "markdown",
   "metadata": {},
   "source": [
    "# Project description"
   ]
  },
  {
   "cell_type": "markdown",
   "metadata": {},
   "source": [
    "We work as an analyst for the telecom operator Megaline. The company offers its clients two prepaid plans, Surf and Ultimate.\n",
    "\n",
    "Our job is to analyze clients' behavior and determine which prepaid plan brings in more revenue."
   ]
  },
  {
   "cell_type": "markdown",
   "metadata": {},
   "source": [
    "# Data description"
   ]
  },
  {
   "cell_type": "markdown",
   "metadata": {},
   "source": [
    "Megaline rounds seconds up to minutes, and megabytes to gigabytes. For calls, each individual call is rounded up: even if the call lasted just one second, it will be counted as one minute. For web traffic, individual web sessions are not rounded up. Instead, the total for the month is rounded up. If someone uses 1025 megabytes this month, they will be charged for 2 gigabytes.\n",
    "\n",
    "**The users table (data on users):**\n",
    "- user_id — unique user identifier\n",
    "- first_name — user's name\n",
    "- last_name — user's last name\n",
    "- age — user's age (years)\n",
    "- city — user's city of residence\n",
    "- reg_date — subscription date (dd, mm, yy)\n",
    "- plan — calling plan name\n",
    "- churn_date — the date the user stopped using the service (if the value is missing, the - calling plan was being used when this data was retrieved)\n",
    "\n",
    "**The messages table (data on texts):**\n",
    "- id — unique text message identifier\n",
    "- user_id — the identifier of the user sending the text\n",
    "- message_date — text message date\n",
    "\n",
    "**The calls table (data on calls):**\n",
    "- id — unique call identifier\n",
    "- user_id — the identifier of the user making the call\n",
    "- call_date — call date\n",
    "- duration — call duration (in minutes)\n",
    "\n",
    "**The internet table (data on web sessions):**\n",
    "- id — unique session identifier\n",
    "- user_id — user identifier\n",
    "- session_date — web session date\n",
    "- mb_used — the volume of data spent during the session (in megabytes)\n",
    "\n",
    "**The plans table (data on the plans):**\n",
    "- messages_included — monthly text allowance\n",
    "- mb_per_month_included — data volume allowance (in megabytes)\n",
    "- minutes_included — monthly minute allowance\n",
    "- usd_monthly_pay — monthly charge in US dollars\n",
    "- usd_per_gb — price per extra gigabyte of data after exceeding the package limits (1 GB = 1024 megabytes)\n",
    "- usd_per_message — price per text after exceeding the package limits\n",
    "- usd_per_minute — price per minute after exceeding the package limits (e.g., if the package includes 100 minutes, the 101st minute will be charged)\n",
    "- plan_name — calling plan name"
   ]
  },
  {
   "cell_type": "markdown",
   "metadata": {},
   "source": [
    "# Library imports"
   ]
  },
  {
   "cell_type": "code",
   "execution_count": 1,
   "metadata": {},
   "outputs": [],
   "source": [
    "#Libraries and project environment setup:\n",
    "\n",
    "##Pandas and numpy for data preprocessing and manipulation\n",
    "import pandas as pd\n",
    "import numpy as np\n",
    "\n",
    "##Matplotlib for visualization\n",
    "import matplotlib.pyplot as plt\n",
    "\n",
    "##Remove warnings\n",
    "import sys\n",
    "import warnings\n",
    "if not sys.warnoptions:\n",
    "    warnings.simplefilter(\"ignore\");\n",
    "\n",
    "##Scipy for SDA\n",
    "from scipy import stats as st"
   ]
  },
  {
   "cell_type": "markdown",
   "metadata": {},
   "source": [
    "# CSV file read"
   ]
  },
  {
   "cell_type": "code",
   "execution_count": 2,
   "metadata": {},
   "outputs": [],
   "source": [
    "#We use try-except to handle unexpected errors\n",
    "try:\n",
    "    df_users = pd.read_csv('/Users/EllaDS/Downloads/megaline_users.csv')\n",
    "    df_calls = pd.read_csv('/Users/EllaDS/Downloads/megaline_calls.csv')\n",
    "    df_messages = pd.read_csv('/Users/EllaDS/Downloads/megaline_messages.csv')\n",
    "    df_internet = pd.read_csv('/Users/EllaDS/Downloads/megaline_internet.csv')\n",
    "    df_plans = pd.read_csv('/Users/EllaDS/Downloads/megaline_plans.csv')\n",
    "    \n",
    "except:\n",
    "    df_users = pd.read_csv('https://code.s3.yandex.net/datasets/megaline_users.csv')\n",
    "    df_calls = pd.read_csv('https://code.s3.yandex.net/datasets/megaline_calls.csv')\n",
    "    df_messages = pd.read_csv('https://code.s3.yandex.net/datasets/megaline_messages.csvmegaline_messages.csv')\n",
    "    df_internet = pd.read_csv('https://code.s3.yandex.net/datasets/megaline_internet.csv')\n",
    "    df_plans = pd.read_csv('https://code.s3.yandex.net/datasets/megaline_plans.csvmegaline_plans.csv')"
   ]
  },
  {
   "cell_type": "markdown",
   "metadata": {},
   "source": [
    "# General information"
   ]
  },
  {
   "cell_type": "markdown",
   "metadata": {},
   "source": [
    "## Users"
   ]
  },
  {
   "cell_type": "code",
   "execution_count": 3,
   "metadata": {},
   "outputs": [],
   "source": [
    "#First, in order to guarantee efficiency we immediately drop row-based duplicates\n",
    "df_users.drop_duplicates(inplace=True,keep='first')\n",
    "df_users.reset_index(drop=True, inplace=True)"
   ]
  },
  {
   "cell_type": "code",
   "execution_count": 4,
   "metadata": {},
   "outputs": [
    {
     "data": {
      "text/html": [
       "<div>\n",
       "<style scoped>\n",
       "    .dataframe tbody tr th:only-of-type {\n",
       "        vertical-align: middle;\n",
       "    }\n",
       "\n",
       "    .dataframe tbody tr th {\n",
       "        vertical-align: top;\n",
       "    }\n",
       "\n",
       "    .dataframe thead th {\n",
       "        text-align: right;\n",
       "    }\n",
       "</style>\n",
       "<table border=\"1\" class=\"dataframe\">\n",
       "  <thead>\n",
       "    <tr style=\"text-align: right;\">\n",
       "      <th></th>\n",
       "      <th>user_id</th>\n",
       "      <th>first_name</th>\n",
       "      <th>last_name</th>\n",
       "      <th>age</th>\n",
       "      <th>city</th>\n",
       "      <th>reg_date</th>\n",
       "      <th>plan</th>\n",
       "      <th>churn_date</th>\n",
       "    </tr>\n",
       "  </thead>\n",
       "  <tbody>\n",
       "    <tr>\n",
       "      <th>0</th>\n",
       "      <td>1000</td>\n",
       "      <td>Anamaria</td>\n",
       "      <td>Bauer</td>\n",
       "      <td>45</td>\n",
       "      <td>Atlanta-Sandy Springs-Roswell, GA MSA</td>\n",
       "      <td>2018-12-24</td>\n",
       "      <td>ultimate</td>\n",
       "      <td>NaN</td>\n",
       "    </tr>\n",
       "    <tr>\n",
       "      <th>1</th>\n",
       "      <td>1001</td>\n",
       "      <td>Mickey</td>\n",
       "      <td>Wilkerson</td>\n",
       "      <td>28</td>\n",
       "      <td>Seattle-Tacoma-Bellevue, WA MSA</td>\n",
       "      <td>2018-08-13</td>\n",
       "      <td>surf</td>\n",
       "      <td>NaN</td>\n",
       "    </tr>\n",
       "    <tr>\n",
       "      <th>2</th>\n",
       "      <td>1002</td>\n",
       "      <td>Carlee</td>\n",
       "      <td>Hoffman</td>\n",
       "      <td>36</td>\n",
       "      <td>Las Vegas-Henderson-Paradise, NV MSA</td>\n",
       "      <td>2018-10-21</td>\n",
       "      <td>surf</td>\n",
       "      <td>NaN</td>\n",
       "    </tr>\n",
       "    <tr>\n",
       "      <th>3</th>\n",
       "      <td>1003</td>\n",
       "      <td>Reynaldo</td>\n",
       "      <td>Jenkins</td>\n",
       "      <td>52</td>\n",
       "      <td>Tulsa, OK MSA</td>\n",
       "      <td>2018-01-28</td>\n",
       "      <td>surf</td>\n",
       "      <td>NaN</td>\n",
       "    </tr>\n",
       "    <tr>\n",
       "      <th>4</th>\n",
       "      <td>1004</td>\n",
       "      <td>Leonila</td>\n",
       "      <td>Thompson</td>\n",
       "      <td>40</td>\n",
       "      <td>Seattle-Tacoma-Bellevue, WA MSA</td>\n",
       "      <td>2018-05-23</td>\n",
       "      <td>surf</td>\n",
       "      <td>NaN</td>\n",
       "    </tr>\n",
       "  </tbody>\n",
       "</table>\n",
       "</div>"
      ],
      "text/plain": [
       "   user_id first_name  last_name  age                                   city  \\\n",
       "0     1000   Anamaria      Bauer   45  Atlanta-Sandy Springs-Roswell, GA MSA   \n",
       "1     1001     Mickey  Wilkerson   28        Seattle-Tacoma-Bellevue, WA MSA   \n",
       "2     1002     Carlee    Hoffman   36   Las Vegas-Henderson-Paradise, NV MSA   \n",
       "3     1003   Reynaldo    Jenkins   52                          Tulsa, OK MSA   \n",
       "4     1004    Leonila   Thompson   40        Seattle-Tacoma-Bellevue, WA MSA   \n",
       "\n",
       "     reg_date      plan churn_date  \n",
       "0  2018-12-24  ultimate        NaN  \n",
       "1  2018-08-13      surf        NaN  \n",
       "2  2018-10-21      surf        NaN  \n",
       "3  2018-01-28      surf        NaN  \n",
       "4  2018-05-23      surf        NaN  "
      ]
     },
     "execution_count": 4,
     "metadata": {},
     "output_type": "execute_result"
    }
   ],
   "source": [
    "#Print the first five entries in the dataframe\n",
    "df_users.head()"
   ]
  },
  {
   "cell_type": "markdown",
   "metadata": {},
   "source": [
    "As stated in the data description, churn_date — the date the user stopped using the service (if the value is missing, the - calling plan was being used when this data was retrieved). That explains the NaN values in the column."
   ]
  },
  {
   "cell_type": "code",
   "execution_count": 5,
   "metadata": {
    "scrolled": true
   },
   "outputs": [
    {
     "name": "stdout",
     "output_type": "stream",
     "text": [
      "<class 'pandas.core.frame.DataFrame'>\n",
      "RangeIndex: 500 entries, 0 to 499\n",
      "Data columns (total 8 columns):\n",
      " #   Column      Non-Null Count  Dtype \n",
      "---  ------      --------------  ----- \n",
      " 0   user_id     500 non-null    int64 \n",
      " 1   first_name  500 non-null    object\n",
      " 2   last_name   500 non-null    object\n",
      " 3   age         500 non-null    int64 \n",
      " 4   city        500 non-null    object\n",
      " 5   reg_date    500 non-null    object\n",
      " 6   plan        500 non-null    object\n",
      " 7   churn_date  34 non-null     object\n",
      "dtypes: int64(2), object(6)\n",
      "memory usage: 31.4+ KB\n"
     ]
    }
   ],
   "source": [
    "#General file examination\n",
    "df_users.info()"
   ]
  },
  {
   "cell_type": "markdown",
   "metadata": {},
   "source": [
    "- Results show column names are accurate to the project data description.\n",
    "- Dataset includes 500 entries and 8 columns.\n",
    "- Only the churn_date contains missing values, 466 of them, to be exact.\n",
    "- Both reg_date and churn_date contain object type values we'll need to convert to datetime."
   ]
  },
  {
   "cell_type": "code",
   "execution_count": 6,
   "metadata": {},
   "outputs": [
    {
     "data": {
      "text/html": [
       "<div>\n",
       "<style scoped>\n",
       "    .dataframe tbody tr th:only-of-type {\n",
       "        vertical-align: middle;\n",
       "    }\n",
       "\n",
       "    .dataframe tbody tr th {\n",
       "        vertical-align: top;\n",
       "    }\n",
       "\n",
       "    .dataframe thead th {\n",
       "        text-align: right;\n",
       "    }\n",
       "</style>\n",
       "<table border=\"1\" class=\"dataframe\">\n",
       "  <thead>\n",
       "    <tr style=\"text-align: right;\">\n",
       "      <th></th>\n",
       "      <th>user_id</th>\n",
       "      <th>first_name</th>\n",
       "      <th>last_name</th>\n",
       "      <th>age</th>\n",
       "      <th>city</th>\n",
       "      <th>reg_date</th>\n",
       "      <th>plan</th>\n",
       "      <th>churn_date</th>\n",
       "    </tr>\n",
       "  </thead>\n",
       "  <tbody>\n",
       "    <tr>\n",
       "      <th>count</th>\n",
       "      <td>500.000000</td>\n",
       "      <td>500</td>\n",
       "      <td>500</td>\n",
       "      <td>500.000000</td>\n",
       "      <td>500</td>\n",
       "      <td>500</td>\n",
       "      <td>500</td>\n",
       "      <td>34</td>\n",
       "    </tr>\n",
       "    <tr>\n",
       "      <th>unique</th>\n",
       "      <td>NaN</td>\n",
       "      <td>458</td>\n",
       "      <td>399</td>\n",
       "      <td>NaN</td>\n",
       "      <td>73</td>\n",
       "      <td>266</td>\n",
       "      <td>2</td>\n",
       "      <td>29</td>\n",
       "    </tr>\n",
       "    <tr>\n",
       "      <th>top</th>\n",
       "      <td>NaN</td>\n",
       "      <td>Leonila</td>\n",
       "      <td>Grimes</td>\n",
       "      <td>NaN</td>\n",
       "      <td>New York-Newark-Jersey City, NY-NJ-PA MSA</td>\n",
       "      <td>2018-11-29</td>\n",
       "      <td>surf</td>\n",
       "      <td>2018-12-18</td>\n",
       "    </tr>\n",
       "    <tr>\n",
       "      <th>freq</th>\n",
       "      <td>NaN</td>\n",
       "      <td>3</td>\n",
       "      <td>3</td>\n",
       "      <td>NaN</td>\n",
       "      <td>80</td>\n",
       "      <td>5</td>\n",
       "      <td>339</td>\n",
       "      <td>3</td>\n",
       "    </tr>\n",
       "    <tr>\n",
       "      <th>mean</th>\n",
       "      <td>1249.500000</td>\n",
       "      <td>NaN</td>\n",
       "      <td>NaN</td>\n",
       "      <td>45.486000</td>\n",
       "      <td>NaN</td>\n",
       "      <td>NaN</td>\n",
       "      <td>NaN</td>\n",
       "      <td>NaN</td>\n",
       "    </tr>\n",
       "    <tr>\n",
       "      <th>std</th>\n",
       "      <td>144.481833</td>\n",
       "      <td>NaN</td>\n",
       "      <td>NaN</td>\n",
       "      <td>16.972269</td>\n",
       "      <td>NaN</td>\n",
       "      <td>NaN</td>\n",
       "      <td>NaN</td>\n",
       "      <td>NaN</td>\n",
       "    </tr>\n",
       "    <tr>\n",
       "      <th>min</th>\n",
       "      <td>1000.000000</td>\n",
       "      <td>NaN</td>\n",
       "      <td>NaN</td>\n",
       "      <td>18.000000</td>\n",
       "      <td>NaN</td>\n",
       "      <td>NaN</td>\n",
       "      <td>NaN</td>\n",
       "      <td>NaN</td>\n",
       "    </tr>\n",
       "    <tr>\n",
       "      <th>25%</th>\n",
       "      <td>1124.750000</td>\n",
       "      <td>NaN</td>\n",
       "      <td>NaN</td>\n",
       "      <td>30.000000</td>\n",
       "      <td>NaN</td>\n",
       "      <td>NaN</td>\n",
       "      <td>NaN</td>\n",
       "      <td>NaN</td>\n",
       "    </tr>\n",
       "    <tr>\n",
       "      <th>50%</th>\n",
       "      <td>1249.500000</td>\n",
       "      <td>NaN</td>\n",
       "      <td>NaN</td>\n",
       "      <td>46.000000</td>\n",
       "      <td>NaN</td>\n",
       "      <td>NaN</td>\n",
       "      <td>NaN</td>\n",
       "      <td>NaN</td>\n",
       "    </tr>\n",
       "    <tr>\n",
       "      <th>75%</th>\n",
       "      <td>1374.250000</td>\n",
       "      <td>NaN</td>\n",
       "      <td>NaN</td>\n",
       "      <td>61.000000</td>\n",
       "      <td>NaN</td>\n",
       "      <td>NaN</td>\n",
       "      <td>NaN</td>\n",
       "      <td>NaN</td>\n",
       "    </tr>\n",
       "    <tr>\n",
       "      <th>max</th>\n",
       "      <td>1499.000000</td>\n",
       "      <td>NaN</td>\n",
       "      <td>NaN</td>\n",
       "      <td>75.000000</td>\n",
       "      <td>NaN</td>\n",
       "      <td>NaN</td>\n",
       "      <td>NaN</td>\n",
       "      <td>NaN</td>\n",
       "    </tr>\n",
       "  </tbody>\n",
       "</table>\n",
       "</div>"
      ],
      "text/plain": [
       "            user_id first_name last_name         age  \\\n",
       "count    500.000000        500       500  500.000000   \n",
       "unique          NaN        458       399         NaN   \n",
       "top             NaN    Leonila    Grimes         NaN   \n",
       "freq            NaN          3         3         NaN   \n",
       "mean    1249.500000        NaN       NaN   45.486000   \n",
       "std      144.481833        NaN       NaN   16.972269   \n",
       "min     1000.000000        NaN       NaN   18.000000   \n",
       "25%     1124.750000        NaN       NaN   30.000000   \n",
       "50%     1249.500000        NaN       NaN   46.000000   \n",
       "75%     1374.250000        NaN       NaN   61.000000   \n",
       "max     1499.000000        NaN       NaN   75.000000   \n",
       "\n",
       "                                             city    reg_date  plan  \\\n",
       "count                                         500         500   500   \n",
       "unique                                         73         266     2   \n",
       "top     New York-Newark-Jersey City, NY-NJ-PA MSA  2018-11-29  surf   \n",
       "freq                                           80           5   339   \n",
       "mean                                          NaN         NaN   NaN   \n",
       "std                                           NaN         NaN   NaN   \n",
       "min                                           NaN         NaN   NaN   \n",
       "25%                                           NaN         NaN   NaN   \n",
       "50%                                           NaN         NaN   NaN   \n",
       "75%                                           NaN         NaN   NaN   \n",
       "max                                           NaN         NaN   NaN   \n",
       "\n",
       "        churn_date  \n",
       "count           34  \n",
       "unique          29  \n",
       "top     2018-12-18  \n",
       "freq             3  \n",
       "mean           NaN  \n",
       "std            NaN  \n",
       "min            NaN  \n",
       "25%            NaN  \n",
       "50%            NaN  \n",
       "75%            NaN  \n",
       "max            NaN  "
      ]
     },
     "execution_count": 6,
     "metadata": {},
     "output_type": "execute_result"
    }
   ],
   "source": [
    "#Integrated display of the columns\n",
    "df_users.describe(include='all')"
   ]
  },
  {
   "cell_type": "markdown",
   "metadata": {},
   "source": [
    "- There are 500 users, 1 per entry.\n",
    "- The min age is 18 (officially adult) and the max is 75, pretty reasonable.\n",
    "- Most users are around ~45-46 years old.\n",
    "- Outliers aren't currently apparent."
   ]
  },
  {
   "cell_type": "markdown",
   "metadata": {},
   "source": [
    "## Messages"
   ]
  },
  {
   "cell_type": "code",
   "execution_count": 7,
   "metadata": {},
   "outputs": [],
   "source": [
    "#First, in order to guarantee efficiency we immediately drop row-based duplicates\n",
    "df_messages.drop_duplicates(inplace=True,keep='first')\n",
    "df_messages.reset_index(drop=True, inplace=True)"
   ]
  },
  {
   "cell_type": "code",
   "execution_count": 8,
   "metadata": {},
   "outputs": [
    {
     "data": {
      "text/html": [
       "<div>\n",
       "<style scoped>\n",
       "    .dataframe tbody tr th:only-of-type {\n",
       "        vertical-align: middle;\n",
       "    }\n",
       "\n",
       "    .dataframe tbody tr th {\n",
       "        vertical-align: top;\n",
       "    }\n",
       "\n",
       "    .dataframe thead th {\n",
       "        text-align: right;\n",
       "    }\n",
       "</style>\n",
       "<table border=\"1\" class=\"dataframe\">\n",
       "  <thead>\n",
       "    <tr style=\"text-align: right;\">\n",
       "      <th></th>\n",
       "      <th>id</th>\n",
       "      <th>user_id</th>\n",
       "      <th>message_date</th>\n",
       "    </tr>\n",
       "  </thead>\n",
       "  <tbody>\n",
       "    <tr>\n",
       "      <th>0</th>\n",
       "      <td>1000_125</td>\n",
       "      <td>1000</td>\n",
       "      <td>2018-12-27</td>\n",
       "    </tr>\n",
       "    <tr>\n",
       "      <th>1</th>\n",
       "      <td>1000_160</td>\n",
       "      <td>1000</td>\n",
       "      <td>2018-12-31</td>\n",
       "    </tr>\n",
       "    <tr>\n",
       "      <th>2</th>\n",
       "      <td>1000_223</td>\n",
       "      <td>1000</td>\n",
       "      <td>2018-12-31</td>\n",
       "    </tr>\n",
       "    <tr>\n",
       "      <th>3</th>\n",
       "      <td>1000_251</td>\n",
       "      <td>1000</td>\n",
       "      <td>2018-12-27</td>\n",
       "    </tr>\n",
       "    <tr>\n",
       "      <th>4</th>\n",
       "      <td>1000_255</td>\n",
       "      <td>1000</td>\n",
       "      <td>2018-12-26</td>\n",
       "    </tr>\n",
       "  </tbody>\n",
       "</table>\n",
       "</div>"
      ],
      "text/plain": [
       "         id  user_id message_date\n",
       "0  1000_125     1000   2018-12-27\n",
       "1  1000_160     1000   2018-12-31\n",
       "2  1000_223     1000   2018-12-31\n",
       "3  1000_251     1000   2018-12-27\n",
       "4  1000_255     1000   2018-12-26"
      ]
     },
     "execution_count": 8,
     "metadata": {},
     "output_type": "execute_result"
    }
   ],
   "source": [
    "#Print the first five entries in the dataframe\n",
    "df_messages.head()"
   ]
  },
  {
   "cell_type": "code",
   "execution_count": 9,
   "metadata": {},
   "outputs": [
    {
     "name": "stdout",
     "output_type": "stream",
     "text": [
      "<class 'pandas.core.frame.DataFrame'>\n",
      "RangeIndex: 76051 entries, 0 to 76050\n",
      "Data columns (total 3 columns):\n",
      " #   Column        Non-Null Count  Dtype \n",
      "---  ------        --------------  ----- \n",
      " 0   id            76051 non-null  object\n",
      " 1   user_id       76051 non-null  int64 \n",
      " 2   message_date  76051 non-null  object\n",
      "dtypes: int64(1), object(2)\n",
      "memory usage: 1.7+ MB\n"
     ]
    }
   ],
   "source": [
    "#General file examination\n",
    "df_messages.info()"
   ]
  },
  {
   "cell_type": "code",
   "execution_count": 10,
   "metadata": {},
   "outputs": [
    {
     "data": {
      "text/plain": [
       "1343_431     1\n",
       "1120_258     1\n",
       "1435_188     1\n",
       "1043_1014    1\n",
       "1101_10      1\n",
       "            ..\n",
       "1380_314     1\n",
       "1145_144     1\n",
       "1061_52      1\n",
       "1132_740     1\n",
       "1057_82      1\n",
       "Name: id, Length: 76051, dtype: int64"
      ]
     },
     "execution_count": 10,
     "metadata": {},
     "output_type": "execute_result"
    }
   ],
   "source": [
    "#We print id value counts to see the object type values to verify they aren't errors\n",
    "df_messages.id.value_counts()"
   ]
  },
  {
   "cell_type": "markdown",
   "metadata": {},
   "source": [
    "- Results show column names are accurate to the project data description.\n",
    "- Dataset includes 76051 entries and 3 columns.\n",
    "- There are no missing values.\n",
    "- Message_date contains object type values we'll need to convert to datetime.\n",
    "- ID contains object type values."
   ]
  },
  {
   "cell_type": "code",
   "execution_count": 11,
   "metadata": {},
   "outputs": [
    {
     "data": {
      "text/html": [
       "<div>\n",
       "<style scoped>\n",
       "    .dataframe tbody tr th:only-of-type {\n",
       "        vertical-align: middle;\n",
       "    }\n",
       "\n",
       "    .dataframe tbody tr th {\n",
       "        vertical-align: top;\n",
       "    }\n",
       "\n",
       "    .dataframe thead th {\n",
       "        text-align: right;\n",
       "    }\n",
       "</style>\n",
       "<table border=\"1\" class=\"dataframe\">\n",
       "  <thead>\n",
       "    <tr style=\"text-align: right;\">\n",
       "      <th></th>\n",
       "      <th>id</th>\n",
       "      <th>user_id</th>\n",
       "      <th>message_date</th>\n",
       "    </tr>\n",
       "  </thead>\n",
       "  <tbody>\n",
       "    <tr>\n",
       "      <th>count</th>\n",
       "      <td>76051</td>\n",
       "      <td>76051.000000</td>\n",
       "      <td>76051</td>\n",
       "    </tr>\n",
       "    <tr>\n",
       "      <th>unique</th>\n",
       "      <td>76051</td>\n",
       "      <td>NaN</td>\n",
       "      <td>351</td>\n",
       "    </tr>\n",
       "    <tr>\n",
       "      <th>top</th>\n",
       "      <td>1343_431</td>\n",
       "      <td>NaN</td>\n",
       "      <td>2018-12-28</td>\n",
       "    </tr>\n",
       "    <tr>\n",
       "      <th>freq</th>\n",
       "      <td>1</td>\n",
       "      <td>NaN</td>\n",
       "      <td>702</td>\n",
       "    </tr>\n",
       "    <tr>\n",
       "      <th>mean</th>\n",
       "      <td>NaN</td>\n",
       "      <td>1245.972768</td>\n",
       "      <td>NaN</td>\n",
       "    </tr>\n",
       "    <tr>\n",
       "      <th>std</th>\n",
       "      <td>NaN</td>\n",
       "      <td>139.843635</td>\n",
       "      <td>NaN</td>\n",
       "    </tr>\n",
       "    <tr>\n",
       "      <th>min</th>\n",
       "      <td>NaN</td>\n",
       "      <td>1000.000000</td>\n",
       "      <td>NaN</td>\n",
       "    </tr>\n",
       "    <tr>\n",
       "      <th>25%</th>\n",
       "      <td>NaN</td>\n",
       "      <td>1123.000000</td>\n",
       "      <td>NaN</td>\n",
       "    </tr>\n",
       "    <tr>\n",
       "      <th>50%</th>\n",
       "      <td>NaN</td>\n",
       "      <td>1251.000000</td>\n",
       "      <td>NaN</td>\n",
       "    </tr>\n",
       "    <tr>\n",
       "      <th>75%</th>\n",
       "      <td>NaN</td>\n",
       "      <td>1362.000000</td>\n",
       "      <td>NaN</td>\n",
       "    </tr>\n",
       "    <tr>\n",
       "      <th>max</th>\n",
       "      <td>NaN</td>\n",
       "      <td>1497.000000</td>\n",
       "      <td>NaN</td>\n",
       "    </tr>\n",
       "  </tbody>\n",
       "</table>\n",
       "</div>"
      ],
      "text/plain": [
       "              id       user_id message_date\n",
       "count      76051  76051.000000        76051\n",
       "unique     76051           NaN          351\n",
       "top     1343_431           NaN   2018-12-28\n",
       "freq           1           NaN          702\n",
       "mean         NaN   1245.972768          NaN\n",
       "std          NaN    139.843635          NaN\n",
       "min          NaN   1000.000000          NaN\n",
       "25%          NaN   1123.000000          NaN\n",
       "50%          NaN   1251.000000          NaN\n",
       "75%          NaN   1362.000000          NaN\n",
       "max          NaN   1497.000000          NaN"
      ]
     },
     "execution_count": 11,
     "metadata": {},
     "output_type": "execute_result"
    }
   ],
   "source": [
    "#Integrated display of the columns\n",
    "df_messages.describe(include='all')"
   ]
  },
  {
   "cell_type": "markdown",
   "metadata": {},
   "source": [
    "There are 76051 IDs (messages), 1 per entry."
   ]
  },
  {
   "cell_type": "markdown",
   "metadata": {},
   "source": [
    "## Calls"
   ]
  },
  {
   "cell_type": "code",
   "execution_count": 12,
   "metadata": {},
   "outputs": [],
   "source": [
    "#First, in order to guarantee efficiency we immediately drop row-based duplicates\n",
    "df_calls.drop_duplicates(inplace=True,keep='first')\n",
    "df_calls.reset_index(drop=True, inplace=True)"
   ]
  },
  {
   "cell_type": "code",
   "execution_count": 13,
   "metadata": {},
   "outputs": [
    {
     "data": {
      "text/html": [
       "<div>\n",
       "<style scoped>\n",
       "    .dataframe tbody tr th:only-of-type {\n",
       "        vertical-align: middle;\n",
       "    }\n",
       "\n",
       "    .dataframe tbody tr th {\n",
       "        vertical-align: top;\n",
       "    }\n",
       "\n",
       "    .dataframe thead th {\n",
       "        text-align: right;\n",
       "    }\n",
       "</style>\n",
       "<table border=\"1\" class=\"dataframe\">\n",
       "  <thead>\n",
       "    <tr style=\"text-align: right;\">\n",
       "      <th></th>\n",
       "      <th>id</th>\n",
       "      <th>user_id</th>\n",
       "      <th>call_date</th>\n",
       "      <th>duration</th>\n",
       "    </tr>\n",
       "  </thead>\n",
       "  <tbody>\n",
       "    <tr>\n",
       "      <th>0</th>\n",
       "      <td>1000_93</td>\n",
       "      <td>1000</td>\n",
       "      <td>2018-12-27</td>\n",
       "      <td>8.52</td>\n",
       "    </tr>\n",
       "    <tr>\n",
       "      <th>1</th>\n",
       "      <td>1000_145</td>\n",
       "      <td>1000</td>\n",
       "      <td>2018-12-27</td>\n",
       "      <td>13.66</td>\n",
       "    </tr>\n",
       "    <tr>\n",
       "      <th>2</th>\n",
       "      <td>1000_247</td>\n",
       "      <td>1000</td>\n",
       "      <td>2018-12-27</td>\n",
       "      <td>14.48</td>\n",
       "    </tr>\n",
       "    <tr>\n",
       "      <th>3</th>\n",
       "      <td>1000_309</td>\n",
       "      <td>1000</td>\n",
       "      <td>2018-12-28</td>\n",
       "      <td>5.76</td>\n",
       "    </tr>\n",
       "    <tr>\n",
       "      <th>4</th>\n",
       "      <td>1000_380</td>\n",
       "      <td>1000</td>\n",
       "      <td>2018-12-30</td>\n",
       "      <td>4.22</td>\n",
       "    </tr>\n",
       "  </tbody>\n",
       "</table>\n",
       "</div>"
      ],
      "text/plain": [
       "         id  user_id   call_date  duration\n",
       "0   1000_93     1000  2018-12-27      8.52\n",
       "1  1000_145     1000  2018-12-27     13.66\n",
       "2  1000_247     1000  2018-12-27     14.48\n",
       "3  1000_309     1000  2018-12-28      5.76\n",
       "4  1000_380     1000  2018-12-30      4.22"
      ]
     },
     "execution_count": 13,
     "metadata": {},
     "output_type": "execute_result"
    }
   ],
   "source": [
    "#Print the first five entries in the dataframe\n",
    "df_calls.head()"
   ]
  },
  {
   "cell_type": "code",
   "execution_count": 14,
   "metadata": {},
   "outputs": [
    {
     "name": "stdout",
     "output_type": "stream",
     "text": [
      "<class 'pandas.core.frame.DataFrame'>\n",
      "RangeIndex: 137735 entries, 0 to 137734\n",
      "Data columns (total 4 columns):\n",
      " #   Column     Non-Null Count   Dtype  \n",
      "---  ------     --------------   -----  \n",
      " 0   id         137735 non-null  object \n",
      " 1   user_id    137735 non-null  int64  \n",
      " 2   call_date  137735 non-null  object \n",
      " 3   duration   137735 non-null  float64\n",
      "dtypes: float64(1), int64(1), object(2)\n",
      "memory usage: 4.2+ MB\n"
     ]
    }
   ],
   "source": [
    "#General file examination\n",
    "df_calls.info()"
   ]
  },
  {
   "cell_type": "markdown",
   "metadata": {},
   "source": [
    "- Results show column names are accurate to the project data description.\n",
    "- Dataset includes 137735 entries and 4 columns.\n",
    "- There are no missing values.\n",
    "- Call_date contains object type values we'll need to convert to datetime.\n",
    "- Duration contains float type values that will be changed to integer. Megaline rounds seconds up to minutes, each individual call is rounded up."
   ]
  },
  {
   "cell_type": "code",
   "execution_count": 15,
   "metadata": {},
   "outputs": [
    {
     "data": {
      "text/html": [
       "<div>\n",
       "<style scoped>\n",
       "    .dataframe tbody tr th:only-of-type {\n",
       "        vertical-align: middle;\n",
       "    }\n",
       "\n",
       "    .dataframe tbody tr th {\n",
       "        vertical-align: top;\n",
       "    }\n",
       "\n",
       "    .dataframe thead th {\n",
       "        text-align: right;\n",
       "    }\n",
       "</style>\n",
       "<table border=\"1\" class=\"dataframe\">\n",
       "  <thead>\n",
       "    <tr style=\"text-align: right;\">\n",
       "      <th></th>\n",
       "      <th>id</th>\n",
       "      <th>user_id</th>\n",
       "      <th>call_date</th>\n",
       "      <th>duration</th>\n",
       "    </tr>\n",
       "  </thead>\n",
       "  <tbody>\n",
       "    <tr>\n",
       "      <th>count</th>\n",
       "      <td>137735</td>\n",
       "      <td>137735.000000</td>\n",
       "      <td>137735</td>\n",
       "      <td>137735.000000</td>\n",
       "    </tr>\n",
       "    <tr>\n",
       "      <th>unique</th>\n",
       "      <td>137735</td>\n",
       "      <td>NaN</td>\n",
       "      <td>351</td>\n",
       "      <td>NaN</td>\n",
       "    </tr>\n",
       "    <tr>\n",
       "      <th>top</th>\n",
       "      <td>1398_16</td>\n",
       "      <td>NaN</td>\n",
       "      <td>2018-12-27</td>\n",
       "      <td>NaN</td>\n",
       "    </tr>\n",
       "    <tr>\n",
       "      <th>freq</th>\n",
       "      <td>1</td>\n",
       "      <td>NaN</td>\n",
       "      <td>1091</td>\n",
       "      <td>NaN</td>\n",
       "    </tr>\n",
       "    <tr>\n",
       "      <th>mean</th>\n",
       "      <td>NaN</td>\n",
       "      <td>1247.658046</td>\n",
       "      <td>NaN</td>\n",
       "      <td>6.745927</td>\n",
       "    </tr>\n",
       "    <tr>\n",
       "      <th>std</th>\n",
       "      <td>NaN</td>\n",
       "      <td>139.416268</td>\n",
       "      <td>NaN</td>\n",
       "      <td>5.839241</td>\n",
       "    </tr>\n",
       "    <tr>\n",
       "      <th>min</th>\n",
       "      <td>NaN</td>\n",
       "      <td>1000.000000</td>\n",
       "      <td>NaN</td>\n",
       "      <td>0.000000</td>\n",
       "    </tr>\n",
       "    <tr>\n",
       "      <th>25%</th>\n",
       "      <td>NaN</td>\n",
       "      <td>1128.000000</td>\n",
       "      <td>NaN</td>\n",
       "      <td>1.290000</td>\n",
       "    </tr>\n",
       "    <tr>\n",
       "      <th>50%</th>\n",
       "      <td>NaN</td>\n",
       "      <td>1247.000000</td>\n",
       "      <td>NaN</td>\n",
       "      <td>5.980000</td>\n",
       "    </tr>\n",
       "    <tr>\n",
       "      <th>75%</th>\n",
       "      <td>NaN</td>\n",
       "      <td>1365.000000</td>\n",
       "      <td>NaN</td>\n",
       "      <td>10.690000</td>\n",
       "    </tr>\n",
       "    <tr>\n",
       "      <th>max</th>\n",
       "      <td>NaN</td>\n",
       "      <td>1499.000000</td>\n",
       "      <td>NaN</td>\n",
       "      <td>37.600000</td>\n",
       "    </tr>\n",
       "  </tbody>\n",
       "</table>\n",
       "</div>"
      ],
      "text/plain": [
       "             id        user_id   call_date       duration\n",
       "count    137735  137735.000000      137735  137735.000000\n",
       "unique   137735            NaN         351            NaN\n",
       "top     1398_16            NaN  2018-12-27            NaN\n",
       "freq          1            NaN        1091            NaN\n",
       "mean        NaN    1247.658046         NaN       6.745927\n",
       "std         NaN     139.416268         NaN       5.839241\n",
       "min         NaN    1000.000000         NaN       0.000000\n",
       "25%         NaN    1128.000000         NaN       1.290000\n",
       "50%         NaN    1247.000000         NaN       5.980000\n",
       "75%         NaN    1365.000000         NaN      10.690000\n",
       "max         NaN    1499.000000         NaN      37.600000"
      ]
     },
     "execution_count": 15,
     "metadata": {},
     "output_type": "execute_result"
    }
   ],
   "source": [
    "#Integrated display of the columns\n",
    "df_calls.describe(include='all')"
   ]
  },
  {
   "cell_type": "markdown",
   "metadata": {},
   "source": [
    "- There are 137735 IDs (calls), 1 per entry.\n",
    "- Most calls (duration) are around ~6-7 minutes long.\n",
    "- Mean and median values are almost the same, implying that the distribution doesn't have long tails. \n",
    "- Min duration (calls) is 0 minutes, maybe meaning a few seconds, so we'll round up these seconds to 1 minute. Max duration is ~37 minutes."
   ]
  },
  {
   "cell_type": "markdown",
   "metadata": {},
   "source": [
    "## Internet"
   ]
  },
  {
   "cell_type": "code",
   "execution_count": 16,
   "metadata": {},
   "outputs": [],
   "source": [
    "#First, in order to guarantee efficiency we immediately drop row-based duplicates\n",
    "df_internet.drop_duplicates(inplace=True,keep='first')\n",
    "df_internet.reset_index(drop=True, inplace=True)"
   ]
  },
  {
   "cell_type": "code",
   "execution_count": 17,
   "metadata": {},
   "outputs": [
    {
     "data": {
      "text/html": [
       "<div>\n",
       "<style scoped>\n",
       "    .dataframe tbody tr th:only-of-type {\n",
       "        vertical-align: middle;\n",
       "    }\n",
       "\n",
       "    .dataframe tbody tr th {\n",
       "        vertical-align: top;\n",
       "    }\n",
       "\n",
       "    .dataframe thead th {\n",
       "        text-align: right;\n",
       "    }\n",
       "</style>\n",
       "<table border=\"1\" class=\"dataframe\">\n",
       "  <thead>\n",
       "    <tr style=\"text-align: right;\">\n",
       "      <th></th>\n",
       "      <th>id</th>\n",
       "      <th>user_id</th>\n",
       "      <th>session_date</th>\n",
       "      <th>mb_used</th>\n",
       "    </tr>\n",
       "  </thead>\n",
       "  <tbody>\n",
       "    <tr>\n",
       "      <th>0</th>\n",
       "      <td>1000_13</td>\n",
       "      <td>1000</td>\n",
       "      <td>2018-12-29</td>\n",
       "      <td>89.86</td>\n",
       "    </tr>\n",
       "    <tr>\n",
       "      <th>1</th>\n",
       "      <td>1000_204</td>\n",
       "      <td>1000</td>\n",
       "      <td>2018-12-31</td>\n",
       "      <td>0.00</td>\n",
       "    </tr>\n",
       "    <tr>\n",
       "      <th>2</th>\n",
       "      <td>1000_379</td>\n",
       "      <td>1000</td>\n",
       "      <td>2018-12-28</td>\n",
       "      <td>660.40</td>\n",
       "    </tr>\n",
       "    <tr>\n",
       "      <th>3</th>\n",
       "      <td>1000_413</td>\n",
       "      <td>1000</td>\n",
       "      <td>2018-12-26</td>\n",
       "      <td>270.99</td>\n",
       "    </tr>\n",
       "    <tr>\n",
       "      <th>4</th>\n",
       "      <td>1000_442</td>\n",
       "      <td>1000</td>\n",
       "      <td>2018-12-27</td>\n",
       "      <td>880.22</td>\n",
       "    </tr>\n",
       "  </tbody>\n",
       "</table>\n",
       "</div>"
      ],
      "text/plain": [
       "         id  user_id session_date  mb_used\n",
       "0   1000_13     1000   2018-12-29    89.86\n",
       "1  1000_204     1000   2018-12-31     0.00\n",
       "2  1000_379     1000   2018-12-28   660.40\n",
       "3  1000_413     1000   2018-12-26   270.99\n",
       "4  1000_442     1000   2018-12-27   880.22"
      ]
     },
     "execution_count": 17,
     "metadata": {},
     "output_type": "execute_result"
    }
   ],
   "source": [
    "#Print the first five entries in the dataframe\n",
    "df_internet.head()"
   ]
  },
  {
   "cell_type": "code",
   "execution_count": 18,
   "metadata": {},
   "outputs": [
    {
     "name": "stdout",
     "output_type": "stream",
     "text": [
      "<class 'pandas.core.frame.DataFrame'>\n",
      "RangeIndex: 104825 entries, 0 to 104824\n",
      "Data columns (total 4 columns):\n",
      " #   Column        Non-Null Count   Dtype  \n",
      "---  ------        --------------   -----  \n",
      " 0   id            104825 non-null  object \n",
      " 1   user_id       104825 non-null  int64  \n",
      " 2   session_date  104825 non-null  object \n",
      " 3   mb_used       104825 non-null  float64\n",
      "dtypes: float64(1), int64(1), object(2)\n",
      "memory usage: 3.2+ MB\n"
     ]
    }
   ],
   "source": [
    "#General file examination\n",
    "df_internet.info()"
   ]
  },
  {
   "cell_type": "markdown",
   "metadata": {},
   "source": [
    "- Results show column names are accurate to the project data description.\n",
    "- Dataset includes 104825 entries and 4 columns.\n",
    "- There are no missing values.\n",
    "- Session_date contains object type values we'll need to convert to datetime.\n",
    "- Megaline rounds megabytes up to gigabytes, individual web sessions (mb_used) are not rounded up. Instead, the total for the month is rounded up."
   ]
  },
  {
   "cell_type": "code",
   "execution_count": 19,
   "metadata": {},
   "outputs": [
    {
     "data": {
      "text/html": [
       "<div>\n",
       "<style scoped>\n",
       "    .dataframe tbody tr th:only-of-type {\n",
       "        vertical-align: middle;\n",
       "    }\n",
       "\n",
       "    .dataframe tbody tr th {\n",
       "        vertical-align: top;\n",
       "    }\n",
       "\n",
       "    .dataframe thead th {\n",
       "        text-align: right;\n",
       "    }\n",
       "</style>\n",
       "<table border=\"1\" class=\"dataframe\">\n",
       "  <thead>\n",
       "    <tr style=\"text-align: right;\">\n",
       "      <th></th>\n",
       "      <th>id</th>\n",
       "      <th>user_id</th>\n",
       "      <th>session_date</th>\n",
       "      <th>mb_used</th>\n",
       "    </tr>\n",
       "  </thead>\n",
       "  <tbody>\n",
       "    <tr>\n",
       "      <th>count</th>\n",
       "      <td>104825</td>\n",
       "      <td>104825.000000</td>\n",
       "      <td>104825</td>\n",
       "      <td>104825.000000</td>\n",
       "    </tr>\n",
       "    <tr>\n",
       "      <th>unique</th>\n",
       "      <td>104825</td>\n",
       "      <td>NaN</td>\n",
       "      <td>351</td>\n",
       "      <td>NaN</td>\n",
       "    </tr>\n",
       "    <tr>\n",
       "      <th>top</th>\n",
       "      <td>1220_200</td>\n",
       "      <td>NaN</td>\n",
       "      <td>2018-12-24</td>\n",
       "      <td>NaN</td>\n",
       "    </tr>\n",
       "    <tr>\n",
       "      <th>freq</th>\n",
       "      <td>1</td>\n",
       "      <td>NaN</td>\n",
       "      <td>851</td>\n",
       "      <td>NaN</td>\n",
       "    </tr>\n",
       "    <tr>\n",
       "      <th>mean</th>\n",
       "      <td>NaN</td>\n",
       "      <td>1242.496361</td>\n",
       "      <td>NaN</td>\n",
       "      <td>366.713701</td>\n",
       "    </tr>\n",
       "    <tr>\n",
       "      <th>std</th>\n",
       "      <td>NaN</td>\n",
       "      <td>142.053913</td>\n",
       "      <td>NaN</td>\n",
       "      <td>277.170542</td>\n",
       "    </tr>\n",
       "    <tr>\n",
       "      <th>min</th>\n",
       "      <td>NaN</td>\n",
       "      <td>1000.000000</td>\n",
       "      <td>NaN</td>\n",
       "      <td>0.000000</td>\n",
       "    </tr>\n",
       "    <tr>\n",
       "      <th>25%</th>\n",
       "      <td>NaN</td>\n",
       "      <td>1122.000000</td>\n",
       "      <td>NaN</td>\n",
       "      <td>136.080000</td>\n",
       "    </tr>\n",
       "    <tr>\n",
       "      <th>50%</th>\n",
       "      <td>NaN</td>\n",
       "      <td>1236.000000</td>\n",
       "      <td>NaN</td>\n",
       "      <td>343.980000</td>\n",
       "    </tr>\n",
       "    <tr>\n",
       "      <th>75%</th>\n",
       "      <td>NaN</td>\n",
       "      <td>1367.000000</td>\n",
       "      <td>NaN</td>\n",
       "      <td>554.610000</td>\n",
       "    </tr>\n",
       "    <tr>\n",
       "      <th>max</th>\n",
       "      <td>NaN</td>\n",
       "      <td>1499.000000</td>\n",
       "      <td>NaN</td>\n",
       "      <td>1693.470000</td>\n",
       "    </tr>\n",
       "  </tbody>\n",
       "</table>\n",
       "</div>"
      ],
      "text/plain": [
       "              id        user_id session_date        mb_used\n",
       "count     104825  104825.000000       104825  104825.000000\n",
       "unique    104825            NaN          351            NaN\n",
       "top     1220_200            NaN   2018-12-24            NaN\n",
       "freq           1            NaN          851            NaN\n",
       "mean         NaN    1242.496361          NaN     366.713701\n",
       "std          NaN     142.053913          NaN     277.170542\n",
       "min          NaN    1000.000000          NaN       0.000000\n",
       "25%          NaN    1122.000000          NaN     136.080000\n",
       "50%          NaN    1236.000000          NaN     343.980000\n",
       "75%          NaN    1367.000000          NaN     554.610000\n",
       "max          NaN    1499.000000          NaN    1693.470000"
      ]
     },
     "execution_count": 19,
     "metadata": {},
     "output_type": "execute_result"
    }
   ],
   "source": [
    "#Integrated display of the columns\n",
    "df_internet.describe(include='all')"
   ]
  },
  {
   "cell_type": "markdown",
   "metadata": {},
   "source": [
    "- There are 104825 IDs (sessions), 1 per entry.\n",
    "- Mean and median values are almost the same, implying that the distribution doesn't have long tails. \n",
    "- Most sessions (mb_used) spend around ~366 data volume.\n",
    "- Min mb_used (sessions) is 0, Max is ~1693."
   ]
  },
  {
   "cell_type": "markdown",
   "metadata": {},
   "source": [
    "## Plans"
   ]
  },
  {
   "cell_type": "code",
   "execution_count": 20,
   "metadata": {},
   "outputs": [],
   "source": [
    "#First, in order to guarantee efficiency we immediately drop row-based duplicates\n",
    "df_plans.drop_duplicates(inplace=True,keep='first')\n",
    "df_plans.reset_index(drop=True, inplace=True)"
   ]
  },
  {
   "cell_type": "code",
   "execution_count": 21,
   "metadata": {},
   "outputs": [
    {
     "data": {
      "text/html": [
       "<div>\n",
       "<style scoped>\n",
       "    .dataframe tbody tr th:only-of-type {\n",
       "        vertical-align: middle;\n",
       "    }\n",
       "\n",
       "    .dataframe tbody tr th {\n",
       "        vertical-align: top;\n",
       "    }\n",
       "\n",
       "    .dataframe thead th {\n",
       "        text-align: right;\n",
       "    }\n",
       "</style>\n",
       "<table border=\"1\" class=\"dataframe\">\n",
       "  <thead>\n",
       "    <tr style=\"text-align: right;\">\n",
       "      <th></th>\n",
       "      <th>messages_included</th>\n",
       "      <th>mb_per_month_included</th>\n",
       "      <th>minutes_included</th>\n",
       "      <th>usd_monthly_pay</th>\n",
       "      <th>usd_per_gb</th>\n",
       "      <th>usd_per_message</th>\n",
       "      <th>usd_per_minute</th>\n",
       "      <th>plan_name</th>\n",
       "    </tr>\n",
       "  </thead>\n",
       "  <tbody>\n",
       "    <tr>\n",
       "      <th>0</th>\n",
       "      <td>50</td>\n",
       "      <td>15360</td>\n",
       "      <td>500</td>\n",
       "      <td>20</td>\n",
       "      <td>10</td>\n",
       "      <td>0.03</td>\n",
       "      <td>0.03</td>\n",
       "      <td>surf</td>\n",
       "    </tr>\n",
       "    <tr>\n",
       "      <th>1</th>\n",
       "      <td>1000</td>\n",
       "      <td>30720</td>\n",
       "      <td>3000</td>\n",
       "      <td>70</td>\n",
       "      <td>7</td>\n",
       "      <td>0.01</td>\n",
       "      <td>0.01</td>\n",
       "      <td>ultimate</td>\n",
       "    </tr>\n",
       "  </tbody>\n",
       "</table>\n",
       "</div>"
      ],
      "text/plain": [
       "   messages_included  mb_per_month_included  minutes_included  \\\n",
       "0                 50                  15360               500   \n",
       "1               1000                  30720              3000   \n",
       "\n",
       "   usd_monthly_pay  usd_per_gb  usd_per_message  usd_per_minute plan_name  \n",
       "0               20          10             0.03            0.03      surf  \n",
       "1               70           7             0.01            0.01  ultimate  "
      ]
     },
     "execution_count": 21,
     "metadata": {},
     "output_type": "execute_result"
    }
   ],
   "source": [
    "#Only 2 plans so we print the entire dataframe\n",
    "df_plans.head()"
   ]
  },
  {
   "cell_type": "code",
   "execution_count": 22,
   "metadata": {},
   "outputs": [
    {
     "name": "stdout",
     "output_type": "stream",
     "text": [
      "<class 'pandas.core.frame.DataFrame'>\n",
      "RangeIndex: 2 entries, 0 to 1\n",
      "Data columns (total 8 columns):\n",
      " #   Column                 Non-Null Count  Dtype  \n",
      "---  ------                 --------------  -----  \n",
      " 0   messages_included      2 non-null      int64  \n",
      " 1   mb_per_month_included  2 non-null      int64  \n",
      " 2   minutes_included       2 non-null      int64  \n",
      " 3   usd_monthly_pay        2 non-null      int64  \n",
      " 4   usd_per_gb             2 non-null      int64  \n",
      " 5   usd_per_message        2 non-null      float64\n",
      " 6   usd_per_minute         2 non-null      float64\n",
      " 7   plan_name              2 non-null      object \n",
      "dtypes: float64(2), int64(5), object(1)\n",
      "memory usage: 256.0+ bytes\n"
     ]
    }
   ],
   "source": [
    "#General file examination\n",
    "df_plans.info()"
   ]
  },
  {
   "cell_type": "markdown",
   "metadata": {},
   "source": [
    "- Results show column names are accurate to the project data description.\n",
    "- Dataset includes 2 entries and 8 columns.\n",
    "- There are no missing values."
   ]
  },
  {
   "cell_type": "code",
   "execution_count": 23,
   "metadata": {
    "scrolled": true
   },
   "outputs": [
    {
     "data": {
      "text/html": [
       "<div>\n",
       "<style scoped>\n",
       "    .dataframe tbody tr th:only-of-type {\n",
       "        vertical-align: middle;\n",
       "    }\n",
       "\n",
       "    .dataframe tbody tr th {\n",
       "        vertical-align: top;\n",
       "    }\n",
       "\n",
       "    .dataframe thead th {\n",
       "        text-align: right;\n",
       "    }\n",
       "</style>\n",
       "<table border=\"1\" class=\"dataframe\">\n",
       "  <thead>\n",
       "    <tr style=\"text-align: right;\">\n",
       "      <th></th>\n",
       "      <th>messages_included</th>\n",
       "      <th>mb_per_month_included</th>\n",
       "      <th>minutes_included</th>\n",
       "      <th>usd_monthly_pay</th>\n",
       "      <th>usd_per_gb</th>\n",
       "      <th>usd_per_message</th>\n",
       "      <th>usd_per_minute</th>\n",
       "      <th>plan_name</th>\n",
       "    </tr>\n",
       "  </thead>\n",
       "  <tbody>\n",
       "    <tr>\n",
       "      <th>count</th>\n",
       "      <td>2.000000</td>\n",
       "      <td>2.000000</td>\n",
       "      <td>2.000000</td>\n",
       "      <td>2.000000</td>\n",
       "      <td>2.00000</td>\n",
       "      <td>2.000000</td>\n",
       "      <td>2.000000</td>\n",
       "      <td>2</td>\n",
       "    </tr>\n",
       "    <tr>\n",
       "      <th>unique</th>\n",
       "      <td>NaN</td>\n",
       "      <td>NaN</td>\n",
       "      <td>NaN</td>\n",
       "      <td>NaN</td>\n",
       "      <td>NaN</td>\n",
       "      <td>NaN</td>\n",
       "      <td>NaN</td>\n",
       "      <td>2</td>\n",
       "    </tr>\n",
       "    <tr>\n",
       "      <th>top</th>\n",
       "      <td>NaN</td>\n",
       "      <td>NaN</td>\n",
       "      <td>NaN</td>\n",
       "      <td>NaN</td>\n",
       "      <td>NaN</td>\n",
       "      <td>NaN</td>\n",
       "      <td>NaN</td>\n",
       "      <td>surf</td>\n",
       "    </tr>\n",
       "    <tr>\n",
       "      <th>freq</th>\n",
       "      <td>NaN</td>\n",
       "      <td>NaN</td>\n",
       "      <td>NaN</td>\n",
       "      <td>NaN</td>\n",
       "      <td>NaN</td>\n",
       "      <td>NaN</td>\n",
       "      <td>NaN</td>\n",
       "      <td>1</td>\n",
       "    </tr>\n",
       "    <tr>\n",
       "      <th>mean</th>\n",
       "      <td>525.000000</td>\n",
       "      <td>23040.000000</td>\n",
       "      <td>1750.000000</td>\n",
       "      <td>45.000000</td>\n",
       "      <td>8.50000</td>\n",
       "      <td>0.020000</td>\n",
       "      <td>0.020000</td>\n",
       "      <td>NaN</td>\n",
       "    </tr>\n",
       "    <tr>\n",
       "      <th>std</th>\n",
       "      <td>671.751442</td>\n",
       "      <td>10861.160159</td>\n",
       "      <td>1767.766953</td>\n",
       "      <td>35.355339</td>\n",
       "      <td>2.12132</td>\n",
       "      <td>0.014142</td>\n",
       "      <td>0.014142</td>\n",
       "      <td>NaN</td>\n",
       "    </tr>\n",
       "    <tr>\n",
       "      <th>min</th>\n",
       "      <td>50.000000</td>\n",
       "      <td>15360.000000</td>\n",
       "      <td>500.000000</td>\n",
       "      <td>20.000000</td>\n",
       "      <td>7.00000</td>\n",
       "      <td>0.010000</td>\n",
       "      <td>0.010000</td>\n",
       "      <td>NaN</td>\n",
       "    </tr>\n",
       "    <tr>\n",
       "      <th>25%</th>\n",
       "      <td>287.500000</td>\n",
       "      <td>19200.000000</td>\n",
       "      <td>1125.000000</td>\n",
       "      <td>32.500000</td>\n",
       "      <td>7.75000</td>\n",
       "      <td>0.015000</td>\n",
       "      <td>0.015000</td>\n",
       "      <td>NaN</td>\n",
       "    </tr>\n",
       "    <tr>\n",
       "      <th>50%</th>\n",
       "      <td>525.000000</td>\n",
       "      <td>23040.000000</td>\n",
       "      <td>1750.000000</td>\n",
       "      <td>45.000000</td>\n",
       "      <td>8.50000</td>\n",
       "      <td>0.020000</td>\n",
       "      <td>0.020000</td>\n",
       "      <td>NaN</td>\n",
       "    </tr>\n",
       "    <tr>\n",
       "      <th>75%</th>\n",
       "      <td>762.500000</td>\n",
       "      <td>26880.000000</td>\n",
       "      <td>2375.000000</td>\n",
       "      <td>57.500000</td>\n",
       "      <td>9.25000</td>\n",
       "      <td>0.025000</td>\n",
       "      <td>0.025000</td>\n",
       "      <td>NaN</td>\n",
       "    </tr>\n",
       "    <tr>\n",
       "      <th>max</th>\n",
       "      <td>1000.000000</td>\n",
       "      <td>30720.000000</td>\n",
       "      <td>3000.000000</td>\n",
       "      <td>70.000000</td>\n",
       "      <td>10.00000</td>\n",
       "      <td>0.030000</td>\n",
       "      <td>0.030000</td>\n",
       "      <td>NaN</td>\n",
       "    </tr>\n",
       "  </tbody>\n",
       "</table>\n",
       "</div>"
      ],
      "text/plain": [
       "        messages_included  mb_per_month_included  minutes_included  \\\n",
       "count            2.000000               2.000000          2.000000   \n",
       "unique                NaN                    NaN               NaN   \n",
       "top                   NaN                    NaN               NaN   \n",
       "freq                  NaN                    NaN               NaN   \n",
       "mean           525.000000           23040.000000       1750.000000   \n",
       "std            671.751442           10861.160159       1767.766953   \n",
       "min             50.000000           15360.000000        500.000000   \n",
       "25%            287.500000           19200.000000       1125.000000   \n",
       "50%            525.000000           23040.000000       1750.000000   \n",
       "75%            762.500000           26880.000000       2375.000000   \n",
       "max           1000.000000           30720.000000       3000.000000   \n",
       "\n",
       "        usd_monthly_pay  usd_per_gb  usd_per_message  usd_per_minute plan_name  \n",
       "count          2.000000     2.00000         2.000000        2.000000         2  \n",
       "unique              NaN         NaN              NaN             NaN         2  \n",
       "top                 NaN         NaN              NaN             NaN      surf  \n",
       "freq                NaN         NaN              NaN             NaN         1  \n",
       "mean          45.000000     8.50000         0.020000        0.020000       NaN  \n",
       "std           35.355339     2.12132         0.014142        0.014142       NaN  \n",
       "min           20.000000     7.00000         0.010000        0.010000       NaN  \n",
       "25%           32.500000     7.75000         0.015000        0.015000       NaN  \n",
       "50%           45.000000     8.50000         0.020000        0.020000       NaN  \n",
       "75%           57.500000     9.25000         0.025000        0.025000       NaN  \n",
       "max           70.000000    10.00000         0.030000        0.030000       NaN  "
      ]
     },
     "execution_count": 23,
     "metadata": {},
     "output_type": "execute_result"
    }
   ],
   "source": [
    "#Integrated display of the columns\n",
    "df_plans.describe(include='all')"
   ]
  },
  {
   "cell_type": "markdown",
   "metadata": {},
   "source": [
    "There are 2 prepaid plans ('Surf' and 'Ultimate'). Errors aren't currently apparent."
   ]
  },
  {
   "cell_type": "markdown",
   "metadata": {},
   "source": [
    "# Preprocessing"
   ]
  },
  {
   "cell_type": "markdown",
   "metadata": {},
   "source": [
    "## Data type conversion"
   ]
  },
  {
   "cell_type": "markdown",
   "metadata": {},
   "source": [
    "### Datetime"
   ]
  },
  {
   "cell_type": "code",
   "execution_count": 24,
   "metadata": {},
   "outputs": [],
   "source": [
    "#We covert dates from object type to datetime using a loop\n",
    "for df in [df_users, df_messages, df_calls, df_internet]:\n",
    "    for col in ['reg_date','churn_date','message_date','call_date','session_date']:\n",
    "        if col in df.columns:\n",
    "            df[col] = pd.to_datetime(df[col], format='%Y-%m-%d')"
   ]
  },
  {
   "cell_type": "markdown",
   "metadata": {},
   "source": [
    "### Duration"
   ]
  },
  {
   "cell_type": "code",
   "execution_count": 25,
   "metadata": {},
   "outputs": [],
   "source": [
    "#Rounding up call duration to minutes and changing type from float to integer\n",
    "df_calls['duration'] = np.ceil((df_calls['duration'].values)).astype(int)"
   ]
  },
  {
   "cell_type": "markdown",
   "metadata": {},
   "source": [
    "## Missing values"
   ]
  },
  {
   "cell_type": "code",
   "execution_count": 26,
   "metadata": {},
   "outputs": [],
   "source": [
    "#Churn_date contains 466 missing values as calling plan was used while this data was generated\n",
    "#We'll fill in this values with the word active\n",
    "df_users['churn_date'] = df_users['churn_date'].fillna('active')"
   ]
  },
  {
   "cell_type": "markdown",
   "metadata": {},
   "source": [
    "Duplicates have been taken care of above in the general information phase."
   ]
  },
  {
   "cell_type": "markdown",
   "metadata": {},
   "source": [
    "## Error detection"
   ]
  },
  {
   "cell_type": "code",
   "execution_count": 27,
   "metadata": {},
   "outputs": [
    {
     "data": {
      "text/plain": [
       "0"
      ]
     },
     "execution_count": 27,
     "metadata": {},
     "output_type": "execute_result"
    }
   ],
   "source": [
    "#Subscription date (reg_date) must be before or same as churn_date\n",
    "df_users_dates=df_users.query('churn_date != \"active\"')\n",
    "sum(df_users_dates['reg_date'] > df_users_dates['churn_date'])"
   ]
  },
  {
   "cell_type": "markdown",
   "metadata": {},
   "source": [
    "Dates are in order."
   ]
  },
  {
   "cell_type": "code",
   "execution_count": 28,
   "metadata": {},
   "outputs": [
    {
     "name": "stdout",
     "output_type": "stream",
     "text": [
      "0 0 0\n"
     ]
    }
   ],
   "source": [
    "#Message, call and session dates must also all be before or same as churn_date\n",
    "#We'll create a merged dataframe and then verify the dates are in order\n",
    "df_merged=df_users.merge(df_messages, how='left').merge(df_calls,how='left').merge(df_internet, how='left')\n",
    "print(len(df_merged[df_merged['reg_date'] > df_merged['message_date']]),\n",
    "     len(df_merged[df_merged['reg_date'] > df_merged['call_date']]),\n",
    "     len(df_merged[df_merged['reg_date'] > df_merged['session_date']]))"
   ]
  },
  {
   "cell_type": "markdown",
   "metadata": {},
   "source": [
    "Again, all dates are indeed in order."
   ]
  },
  {
   "cell_type": "markdown",
   "metadata": {},
   "source": [
    "## Calculations"
   ]
  },
  {
   "cell_type": "markdown",
   "metadata": {},
   "source": [
    "### Number of calls made and minutes used per month"
   ]
  },
  {
   "cell_type": "code",
   "execution_count": 29,
   "metadata": {
    "scrolled": false
   },
   "outputs": [
    {
     "data": {
      "text/html": [
       "<div>\n",
       "<style scoped>\n",
       "    .dataframe tbody tr th:only-of-type {\n",
       "        vertical-align: middle;\n",
       "    }\n",
       "\n",
       "    .dataframe tbody tr th {\n",
       "        vertical-align: top;\n",
       "    }\n",
       "\n",
       "    .dataframe thead th {\n",
       "        text-align: right;\n",
       "    }\n",
       "</style>\n",
       "<table border=\"1\" class=\"dataframe\">\n",
       "  <thead>\n",
       "    <tr style=\"text-align: right;\">\n",
       "      <th></th>\n",
       "      <th>user_id</th>\n",
       "      <th>month</th>\n",
       "      <th>mins_per_month</th>\n",
       "      <th>calls_per_month</th>\n",
       "    </tr>\n",
       "  </thead>\n",
       "  <tbody>\n",
       "    <tr>\n",
       "      <th>0</th>\n",
       "      <td>1000</td>\n",
       "      <td>12</td>\n",
       "      <td>124</td>\n",
       "      <td>16</td>\n",
       "    </tr>\n",
       "    <tr>\n",
       "      <th>1</th>\n",
       "      <td>1001</td>\n",
       "      <td>8</td>\n",
       "      <td>182</td>\n",
       "      <td>27</td>\n",
       "    </tr>\n",
       "    <tr>\n",
       "      <th>2</th>\n",
       "      <td>1001</td>\n",
       "      <td>9</td>\n",
       "      <td>315</td>\n",
       "      <td>49</td>\n",
       "    </tr>\n",
       "    <tr>\n",
       "      <th>3</th>\n",
       "      <td>1001</td>\n",
       "      <td>10</td>\n",
       "      <td>393</td>\n",
       "      <td>65</td>\n",
       "    </tr>\n",
       "    <tr>\n",
       "      <th>4</th>\n",
       "      <td>1001</td>\n",
       "      <td>11</td>\n",
       "      <td>426</td>\n",
       "      <td>64</td>\n",
       "    </tr>\n",
       "    <tr>\n",
       "      <th>...</th>\n",
       "      <td>...</td>\n",
       "      <td>...</td>\n",
       "      <td>...</td>\n",
       "      <td>...</td>\n",
       "    </tr>\n",
       "    <tr>\n",
       "      <th>2253</th>\n",
       "      <td>1498</td>\n",
       "      <td>12</td>\n",
       "      <td>339</td>\n",
       "      <td>39</td>\n",
       "    </tr>\n",
       "    <tr>\n",
       "      <th>2254</th>\n",
       "      <td>1499</td>\n",
       "      <td>9</td>\n",
       "      <td>346</td>\n",
       "      <td>41</td>\n",
       "    </tr>\n",
       "    <tr>\n",
       "      <th>2255</th>\n",
       "      <td>1499</td>\n",
       "      <td>10</td>\n",
       "      <td>385</td>\n",
       "      <td>53</td>\n",
       "    </tr>\n",
       "    <tr>\n",
       "      <th>2256</th>\n",
       "      <td>1499</td>\n",
       "      <td>11</td>\n",
       "      <td>308</td>\n",
       "      <td>45</td>\n",
       "    </tr>\n",
       "    <tr>\n",
       "      <th>2257</th>\n",
       "      <td>1499</td>\n",
       "      <td>12</td>\n",
       "      <td>496</td>\n",
       "      <td>65</td>\n",
       "    </tr>\n",
       "  </tbody>\n",
       "</table>\n",
       "<p>2258 rows × 4 columns</p>\n",
       "</div>"
      ],
      "text/plain": [
       "      user_id  month  mins_per_month  calls_per_month\n",
       "0        1000     12             124               16\n",
       "1        1001      8             182               27\n",
       "2        1001      9             315               49\n",
       "3        1001     10             393               65\n",
       "4        1001     11             426               64\n",
       "...       ...    ...             ...              ...\n",
       "2253     1498     12             339               39\n",
       "2254     1499      9             346               41\n",
       "2255     1499     10             385               53\n",
       "2256     1499     11             308               45\n",
       "2257     1499     12             496               65\n",
       "\n",
       "[2258 rows x 4 columns]"
      ]
     },
     "execution_count": 29,
     "metadata": {},
     "output_type": "execute_result"
    }
   ],
   "source": [
    "#Creating a month column\n",
    "df_calls['month'] = df_calls['call_date'].dt.month\n",
    "#Creating a pivot table\n",
    "calls_per_month = df_calls.pivot_table(index=['user_id','month'],values=['duration'], aggfunc=['sum','count'])\n",
    "calls_per_month.columns = [\"mins_per_month\",\"calls_per_month\"]\n",
    "#Resetting index\n",
    "calls_per_month.reset_index(inplace=True)\n",
    "#Printing\n",
    "calls_per_month"
   ]
  },
  {
   "cell_type": "markdown",
   "metadata": {},
   "source": [
    "### Number of text messages sent per month"
   ]
  },
  {
   "cell_type": "code",
   "execution_count": 30,
   "metadata": {},
   "outputs": [
    {
     "data": {
      "text/html": [
       "<div>\n",
       "<style scoped>\n",
       "    .dataframe tbody tr th:only-of-type {\n",
       "        vertical-align: middle;\n",
       "    }\n",
       "\n",
       "    .dataframe tbody tr th {\n",
       "        vertical-align: top;\n",
       "    }\n",
       "\n",
       "    .dataframe thead th {\n",
       "        text-align: right;\n",
       "    }\n",
       "</style>\n",
       "<table border=\"1\" class=\"dataframe\">\n",
       "  <thead>\n",
       "    <tr style=\"text-align: right;\">\n",
       "      <th></th>\n",
       "      <th>user_id</th>\n",
       "      <th>month</th>\n",
       "      <th>messages_per_month</th>\n",
       "    </tr>\n",
       "  </thead>\n",
       "  <tbody>\n",
       "    <tr>\n",
       "      <th>0</th>\n",
       "      <td>1000</td>\n",
       "      <td>12</td>\n",
       "      <td>11</td>\n",
       "    </tr>\n",
       "    <tr>\n",
       "      <th>1</th>\n",
       "      <td>1001</td>\n",
       "      <td>8</td>\n",
       "      <td>30</td>\n",
       "    </tr>\n",
       "    <tr>\n",
       "      <th>2</th>\n",
       "      <td>1001</td>\n",
       "      <td>9</td>\n",
       "      <td>44</td>\n",
       "    </tr>\n",
       "    <tr>\n",
       "      <th>3</th>\n",
       "      <td>1001</td>\n",
       "      <td>10</td>\n",
       "      <td>53</td>\n",
       "    </tr>\n",
       "    <tr>\n",
       "      <th>4</th>\n",
       "      <td>1001</td>\n",
       "      <td>11</td>\n",
       "      <td>36</td>\n",
       "    </tr>\n",
       "    <tr>\n",
       "      <th>...</th>\n",
       "      <td>...</td>\n",
       "      <td>...</td>\n",
       "      <td>...</td>\n",
       "    </tr>\n",
       "    <tr>\n",
       "      <th>1801</th>\n",
       "      <td>1496</td>\n",
       "      <td>9</td>\n",
       "      <td>21</td>\n",
       "    </tr>\n",
       "    <tr>\n",
       "      <th>1802</th>\n",
       "      <td>1496</td>\n",
       "      <td>10</td>\n",
       "      <td>18</td>\n",
       "    </tr>\n",
       "    <tr>\n",
       "      <th>1803</th>\n",
       "      <td>1496</td>\n",
       "      <td>11</td>\n",
       "      <td>13</td>\n",
       "    </tr>\n",
       "    <tr>\n",
       "      <th>1804</th>\n",
       "      <td>1496</td>\n",
       "      <td>12</td>\n",
       "      <td>11</td>\n",
       "    </tr>\n",
       "    <tr>\n",
       "      <th>1805</th>\n",
       "      <td>1497</td>\n",
       "      <td>12</td>\n",
       "      <td>50</td>\n",
       "    </tr>\n",
       "  </tbody>\n",
       "</table>\n",
       "<p>1806 rows × 3 columns</p>\n",
       "</div>"
      ],
      "text/plain": [
       "      user_id  month  messages_per_month\n",
       "0        1000     12                  11\n",
       "1        1001      8                  30\n",
       "2        1001      9                  44\n",
       "3        1001     10                  53\n",
       "4        1001     11                  36\n",
       "...       ...    ...                 ...\n",
       "1801     1496      9                  21\n",
       "1802     1496     10                  18\n",
       "1803     1496     11                  13\n",
       "1804     1496     12                  11\n",
       "1805     1497     12                  50\n",
       "\n",
       "[1806 rows x 3 columns]"
      ]
     },
     "execution_count": 30,
     "metadata": {},
     "output_type": "execute_result"
    }
   ],
   "source": [
    "#Creating a month column\n",
    "df_messages['month'] = df_messages['message_date'].dt.month\n",
    "#Creating a pivot table\n",
    "messages_per_month = df_messages.pivot_table(index=['user_id','month'], values='id', aggfunc='count')\n",
    "messages_per_month.columns = [\"messages_per_month\"]\n",
    "#Resetting index\n",
    "messages_per_month.reset_index(inplace=True)\n",
    "#Printing\n",
    "messages_per_month"
   ]
  },
  {
   "cell_type": "markdown",
   "metadata": {},
   "source": [
    "### Volume of data per month"
   ]
  },
  {
   "cell_type": "code",
   "execution_count": 31,
   "metadata": {},
   "outputs": [
    {
     "data": {
      "text/html": [
       "<div>\n",
       "<style scoped>\n",
       "    .dataframe tbody tr th:only-of-type {\n",
       "        vertical-align: middle;\n",
       "    }\n",
       "\n",
       "    .dataframe tbody tr th {\n",
       "        vertical-align: top;\n",
       "    }\n",
       "\n",
       "    .dataframe thead th {\n",
       "        text-align: right;\n",
       "    }\n",
       "</style>\n",
       "<table border=\"1\" class=\"dataframe\">\n",
       "  <thead>\n",
       "    <tr style=\"text-align: right;\">\n",
       "      <th></th>\n",
       "      <th>user_id</th>\n",
       "      <th>month</th>\n",
       "      <th>mb_per_month</th>\n",
       "      <th>gb_per_month</th>\n",
       "    </tr>\n",
       "  </thead>\n",
       "  <tbody>\n",
       "    <tr>\n",
       "      <th>0</th>\n",
       "      <td>1000</td>\n",
       "      <td>12</td>\n",
       "      <td>1901.47</td>\n",
       "      <td>2</td>\n",
       "    </tr>\n",
       "    <tr>\n",
       "      <th>1</th>\n",
       "      <td>1001</td>\n",
       "      <td>8</td>\n",
       "      <td>6919.15</td>\n",
       "      <td>7</td>\n",
       "    </tr>\n",
       "    <tr>\n",
       "      <th>2</th>\n",
       "      <td>1001</td>\n",
       "      <td>9</td>\n",
       "      <td>13314.82</td>\n",
       "      <td>14</td>\n",
       "    </tr>\n",
       "    <tr>\n",
       "      <th>3</th>\n",
       "      <td>1001</td>\n",
       "      <td>10</td>\n",
       "      <td>22330.49</td>\n",
       "      <td>22</td>\n",
       "    </tr>\n",
       "    <tr>\n",
       "      <th>4</th>\n",
       "      <td>1001</td>\n",
       "      <td>11</td>\n",
       "      <td>18504.30</td>\n",
       "      <td>19</td>\n",
       "    </tr>\n",
       "    <tr>\n",
       "      <th>...</th>\n",
       "      <td>...</td>\n",
       "      <td>...</td>\n",
       "      <td>...</td>\n",
       "      <td>...</td>\n",
       "    </tr>\n",
       "    <tr>\n",
       "      <th>2272</th>\n",
       "      <td>1498</td>\n",
       "      <td>12</td>\n",
       "      <td>23137.69</td>\n",
       "      <td>23</td>\n",
       "    </tr>\n",
       "    <tr>\n",
       "      <th>2273</th>\n",
       "      <td>1499</td>\n",
       "      <td>9</td>\n",
       "      <td>12984.76</td>\n",
       "      <td>13</td>\n",
       "    </tr>\n",
       "    <tr>\n",
       "      <th>2274</th>\n",
       "      <td>1499</td>\n",
       "      <td>10</td>\n",
       "      <td>19492.43</td>\n",
       "      <td>20</td>\n",
       "    </tr>\n",
       "    <tr>\n",
       "      <th>2275</th>\n",
       "      <td>1499</td>\n",
       "      <td>11</td>\n",
       "      <td>16813.83</td>\n",
       "      <td>17</td>\n",
       "    </tr>\n",
       "    <tr>\n",
       "      <th>2276</th>\n",
       "      <td>1499</td>\n",
       "      <td>12</td>\n",
       "      <td>22059.21</td>\n",
       "      <td>22</td>\n",
       "    </tr>\n",
       "  </tbody>\n",
       "</table>\n",
       "<p>2277 rows × 4 columns</p>\n",
       "</div>"
      ],
      "text/plain": [
       "      user_id  month  mb_per_month  gb_per_month\n",
       "0        1000     12       1901.47             2\n",
       "1        1001      8       6919.15             7\n",
       "2        1001      9      13314.82            14\n",
       "3        1001     10      22330.49            22\n",
       "4        1001     11      18504.30            19\n",
       "...       ...    ...           ...           ...\n",
       "2272     1498     12      23137.69            23\n",
       "2273     1499      9      12984.76            13\n",
       "2274     1499     10      19492.43            20\n",
       "2275     1499     11      16813.83            17\n",
       "2276     1499     12      22059.21            22\n",
       "\n",
       "[2277 rows x 4 columns]"
      ]
     },
     "execution_count": 31,
     "metadata": {},
     "output_type": "execute_result"
    }
   ],
   "source": [
    "#Creating a month column\n",
    "df_internet['month'] = df_internet['session_date'].dt.month\n",
    "#Creating a pivot table\n",
    "volume_per_month = df_internet.pivot_table(index=['user_id','month'], values='mb_used', aggfunc='sum')\n",
    "volume_per_month.columns = [\"mb_per_month\"]\n",
    "#Adding gb_per_month column as Megaline total monthly megabytes to gigabytes\n",
    "volume_per_month['gb_per_month'] = np.ceil((volume_per_month['mb_per_month'].values) / 1024).astype(int)\n",
    "#Resetting index\n",
    "volume_per_month.reset_index(inplace=True)\n",
    "#Printing\n",
    "volume_per_month"
   ]
  },
  {
   "cell_type": "markdown",
   "metadata": {},
   "source": [
    "### Monthly revenue from each user"
   ]
  },
  {
   "cell_type": "code",
   "execution_count": 32,
   "metadata": {},
   "outputs": [
    {
     "data": {
      "text/html": [
       "<div>\n",
       "<style scoped>\n",
       "    .dataframe tbody tr th:only-of-type {\n",
       "        vertical-align: middle;\n",
       "    }\n",
       "\n",
       "    .dataframe tbody tr th {\n",
       "        vertical-align: top;\n",
       "    }\n",
       "\n",
       "    .dataframe thead th {\n",
       "        text-align: right;\n",
       "    }\n",
       "</style>\n",
       "<table border=\"1\" class=\"dataframe\">\n",
       "  <thead>\n",
       "    <tr style=\"text-align: right;\">\n",
       "      <th></th>\n",
       "      <th>index</th>\n",
       "      <th>user_id</th>\n",
       "      <th>month</th>\n",
       "      <th>mins_per_month</th>\n",
       "      <th>calls_per_month</th>\n",
       "      <th>messages_per_month</th>\n",
       "      <th>mb_per_month</th>\n",
       "      <th>gb_per_month</th>\n",
       "      <th>plan</th>\n",
       "      <th>city</th>\n",
       "      <th>messages_included</th>\n",
       "      <th>mb_per_month_included</th>\n",
       "      <th>minutes_included</th>\n",
       "      <th>usd_monthly_pay</th>\n",
       "      <th>usd_per_gb</th>\n",
       "      <th>usd_per_message</th>\n",
       "      <th>usd_per_minute</th>\n",
       "      <th>plan_name</th>\n",
       "    </tr>\n",
       "  </thead>\n",
       "  <tbody>\n",
       "    <tr>\n",
       "      <th>0</th>\n",
       "      <td>0</td>\n",
       "      <td>1000</td>\n",
       "      <td>12</td>\n",
       "      <td>124.0</td>\n",
       "      <td>16.0</td>\n",
       "      <td>11.0</td>\n",
       "      <td>1901.47</td>\n",
       "      <td>2.0</td>\n",
       "      <td>ultimate</td>\n",
       "      <td>Atlanta-Sandy Springs-Roswell, GA MSA</td>\n",
       "      <td>1000</td>\n",
       "      <td>30720</td>\n",
       "      <td>3000</td>\n",
       "      <td>70</td>\n",
       "      <td>7</td>\n",
       "      <td>0.01</td>\n",
       "      <td>0.01</td>\n",
       "      <td>ultimate</td>\n",
       "    </tr>\n",
       "    <tr>\n",
       "      <th>1</th>\n",
       "      <td>1</td>\n",
       "      <td>1001</td>\n",
       "      <td>8</td>\n",
       "      <td>182.0</td>\n",
       "      <td>27.0</td>\n",
       "      <td>30.0</td>\n",
       "      <td>6919.15</td>\n",
       "      <td>7.0</td>\n",
       "      <td>surf</td>\n",
       "      <td>Seattle-Tacoma-Bellevue, WA MSA</td>\n",
       "      <td>50</td>\n",
       "      <td>15360</td>\n",
       "      <td>500</td>\n",
       "      <td>20</td>\n",
       "      <td>10</td>\n",
       "      <td>0.03</td>\n",
       "      <td>0.03</td>\n",
       "      <td>surf</td>\n",
       "    </tr>\n",
       "    <tr>\n",
       "      <th>2</th>\n",
       "      <td>2</td>\n",
       "      <td>1001</td>\n",
       "      <td>9</td>\n",
       "      <td>315.0</td>\n",
       "      <td>49.0</td>\n",
       "      <td>44.0</td>\n",
       "      <td>13314.82</td>\n",
       "      <td>14.0</td>\n",
       "      <td>surf</td>\n",
       "      <td>Seattle-Tacoma-Bellevue, WA MSA</td>\n",
       "      <td>50</td>\n",
       "      <td>15360</td>\n",
       "      <td>500</td>\n",
       "      <td>20</td>\n",
       "      <td>10</td>\n",
       "      <td>0.03</td>\n",
       "      <td>0.03</td>\n",
       "      <td>surf</td>\n",
       "    </tr>\n",
       "    <tr>\n",
       "      <th>3</th>\n",
       "      <td>3</td>\n",
       "      <td>1001</td>\n",
       "      <td>10</td>\n",
       "      <td>393.0</td>\n",
       "      <td>65.0</td>\n",
       "      <td>53.0</td>\n",
       "      <td>22330.49</td>\n",
       "      <td>22.0</td>\n",
       "      <td>surf</td>\n",
       "      <td>Seattle-Tacoma-Bellevue, WA MSA</td>\n",
       "      <td>50</td>\n",
       "      <td>15360</td>\n",
       "      <td>500</td>\n",
       "      <td>20</td>\n",
       "      <td>10</td>\n",
       "      <td>0.03</td>\n",
       "      <td>0.03</td>\n",
       "      <td>surf</td>\n",
       "    </tr>\n",
       "    <tr>\n",
       "      <th>4</th>\n",
       "      <td>4</td>\n",
       "      <td>1001</td>\n",
       "      <td>11</td>\n",
       "      <td>426.0</td>\n",
       "      <td>64.0</td>\n",
       "      <td>36.0</td>\n",
       "      <td>18504.30</td>\n",
       "      <td>19.0</td>\n",
       "      <td>surf</td>\n",
       "      <td>Seattle-Tacoma-Bellevue, WA MSA</td>\n",
       "      <td>50</td>\n",
       "      <td>15360</td>\n",
       "      <td>500</td>\n",
       "      <td>20</td>\n",
       "      <td>10</td>\n",
       "      <td>0.03</td>\n",
       "      <td>0.03</td>\n",
       "      <td>surf</td>\n",
       "    </tr>\n",
       "  </tbody>\n",
       "</table>\n",
       "</div>"
      ],
      "text/plain": [
       "   index  user_id  month  mins_per_month  calls_per_month  messages_per_month  \\\n",
       "0      0     1000     12           124.0             16.0                11.0   \n",
       "1      1     1001      8           182.0             27.0                30.0   \n",
       "2      2     1001      9           315.0             49.0                44.0   \n",
       "3      3     1001     10           393.0             65.0                53.0   \n",
       "4      4     1001     11           426.0             64.0                36.0   \n",
       "\n",
       "   mb_per_month  gb_per_month      plan  \\\n",
       "0       1901.47           2.0  ultimate   \n",
       "1       6919.15           7.0      surf   \n",
       "2      13314.82          14.0      surf   \n",
       "3      22330.49          22.0      surf   \n",
       "4      18504.30          19.0      surf   \n",
       "\n",
       "                                    city  messages_included  \\\n",
       "0  Atlanta-Sandy Springs-Roswell, GA MSA               1000   \n",
       "1        Seattle-Tacoma-Bellevue, WA MSA                 50   \n",
       "2        Seattle-Tacoma-Bellevue, WA MSA                 50   \n",
       "3        Seattle-Tacoma-Bellevue, WA MSA                 50   \n",
       "4        Seattle-Tacoma-Bellevue, WA MSA                 50   \n",
       "\n",
       "   mb_per_month_included  minutes_included  usd_monthly_pay  usd_per_gb  \\\n",
       "0                  30720              3000               70           7   \n",
       "1                  15360               500               20          10   \n",
       "2                  15360               500               20          10   \n",
       "3                  15360               500               20          10   \n",
       "4                  15360               500               20          10   \n",
       "\n",
       "   usd_per_message  usd_per_minute plan_name  \n",
       "0             0.01            0.01  ultimate  \n",
       "1             0.03            0.03      surf  \n",
       "2             0.03            0.03      surf  \n",
       "3             0.03            0.03      surf  \n",
       "4             0.03            0.03      surf  "
      ]
     },
     "execution_count": 32,
     "metadata": {},
     "output_type": "execute_result"
    }
   ],
   "source": [
    "#Merging all monthly dataframes we calclutaed above with df_users and df_plans\n",
    "plan_per_user = df_users[['user_id','plan', 'city']].merge(df_plans, left_on='plan', right_on='plan_name')\n",
    "monthly = (calls_per_month.merge(messages_per_month, how='outer', on=['user_id','month'])\n",
    "              .merge(volume_per_month, how='outer', on=['user_id','month'])\n",
    "              .merge(plan_per_user, on='user_id'))\n",
    "#Resetting index\n",
    "monthly.reset_index(inplace=True)\n",
    "#Printing first 5 entries \n",
    "monthly.head()"
   ]
  },
  {
   "cell_type": "code",
   "execution_count": 33,
   "metadata": {},
   "outputs": [
    {
     "data": {
      "text/plain": [
       "index                     0.000000\n",
       "user_id                   0.000000\n",
       "month                     0.000000\n",
       "mins_per_month            1.526385\n",
       "calls_per_month           1.526385\n",
       "messages_per_month       21.238552\n",
       "mb_per_month              0.697776\n",
       "gb_per_month              0.697776\n",
       "plan                      0.000000\n",
       "city                      0.000000\n",
       "messages_included         0.000000\n",
       "mb_per_month_included     0.000000\n",
       "minutes_included          0.000000\n",
       "usd_monthly_pay           0.000000\n",
       "usd_per_gb                0.000000\n",
       "usd_per_message           0.000000\n",
       "usd_per_minute            0.000000\n",
       "plan_name                 0.000000\n",
       "dtype: float64"
      ]
     },
     "execution_count": 33,
     "metadata": {},
     "output_type": "execute_result"
    }
   ],
   "source": [
    "#Checking for missing values\n",
    "monthly.isna().sum()*100/len(monthly)"
   ]
  },
  {
   "cell_type": "code",
   "execution_count": 34,
   "metadata": {
    "scrolled": true
   },
   "outputs": [
    {
     "data": {
      "text/plain": [
       "index                    0.0\n",
       "user_id                  0.0\n",
       "month                    0.0\n",
       "mins_per_month           0.0\n",
       "calls_per_month          0.0\n",
       "messages_per_month       0.0\n",
       "mb_per_month             0.0\n",
       "gb_per_month             0.0\n",
       "plan                     0.0\n",
       "city                     0.0\n",
       "messages_included        0.0\n",
       "mb_per_month_included    0.0\n",
       "minutes_included         0.0\n",
       "usd_monthly_pay          0.0\n",
       "usd_per_gb               0.0\n",
       "usd_per_message          0.0\n",
       "usd_per_minute           0.0\n",
       "plan_name                0.0\n",
       "dtype: float64"
      ]
     },
     "execution_count": 34,
     "metadata": {},
     "output_type": "execute_result"
    }
   ],
   "source": [
    "#These missing values are of number calls (and minutes), messages and volume used. \n",
    "#Most likely since these services haven't been used, therefore we'll fill them in with 0, using a loop.\n",
    "for col in ['mins_per_month','calls_per_month','messages_per_month','mb_per_month','gb_per_month']:\n",
    "    monthly[col] = monthly[col].fillna(0)\n",
    "monthly.isna().sum()*100/len(monthly)"
   ]
  },
  {
   "cell_type": "markdown",
   "metadata": {},
   "source": [
    "Much better, now we move on to calculating the monthly revenue generated by each user by subtracting the free package limit from the total number of calls, text messages, and data. Then, multiplying the result by the calling plan value.\n",
    "And finally, adding the monthly charge depending on the calling plan."
   ]
  },
  {
   "cell_type": "code",
   "execution_count": 35,
   "metadata": {},
   "outputs": [],
   "source": [
    "call_cost=monthly.apply(lambda x: max(0,x['mins_per_month']-x['minutes_included'])*x['usd_per_minute'],axis=1)\n",
    "message_cost=monthly.apply(lambda x: max(0, x['messages_per_month'] - x['messages_included']) * x['usd_per_message'],axis = 1)\n",
    "gb_cost=monthly.apply(lambda x: np.ceil(max(0, x['mb_per_month'] - x['mb_per_month_included'])/1024)*x['usd_per_gb'],axis = 1)\n",
    "monthly['monthly_revenue']=call_cost+message_cost+gb_cost+monthly['usd_monthly_pay']"
   ]
  },
  {
   "cell_type": "code",
   "execution_count": 36,
   "metadata": {},
   "outputs": [
    {
     "data": {
      "text/html": [
       "<div>\n",
       "<style scoped>\n",
       "    .dataframe tbody tr th:only-of-type {\n",
       "        vertical-align: middle;\n",
       "    }\n",
       "\n",
       "    .dataframe tbody tr th {\n",
       "        vertical-align: top;\n",
       "    }\n",
       "\n",
       "    .dataframe thead th {\n",
       "        text-align: right;\n",
       "    }\n",
       "</style>\n",
       "<table border=\"1\" class=\"dataframe\">\n",
       "  <thead>\n",
       "    <tr style=\"text-align: right;\">\n",
       "      <th></th>\n",
       "      <th>user_id</th>\n",
       "      <th>month</th>\n",
       "      <th>monthly_revenue</th>\n",
       "    </tr>\n",
       "  </thead>\n",
       "  <tbody>\n",
       "    <tr>\n",
       "      <th>0</th>\n",
       "      <td>1000</td>\n",
       "      <td>12</td>\n",
       "      <td>70.00</td>\n",
       "    </tr>\n",
       "    <tr>\n",
       "      <th>1</th>\n",
       "      <td>1001</td>\n",
       "      <td>8</td>\n",
       "      <td>20.00</td>\n",
       "    </tr>\n",
       "    <tr>\n",
       "      <th>2</th>\n",
       "      <td>1001</td>\n",
       "      <td>9</td>\n",
       "      <td>20.00</td>\n",
       "    </tr>\n",
       "    <tr>\n",
       "      <th>3</th>\n",
       "      <td>1001</td>\n",
       "      <td>10</td>\n",
       "      <td>90.09</td>\n",
       "    </tr>\n",
       "    <tr>\n",
       "      <th>4</th>\n",
       "      <td>1001</td>\n",
       "      <td>11</td>\n",
       "      <td>60.00</td>\n",
       "    </tr>\n",
       "    <tr>\n",
       "      <th>...</th>\n",
       "      <td>...</td>\n",
       "      <td>...</td>\n",
       "      <td>...</td>\n",
       "    </tr>\n",
       "    <tr>\n",
       "      <th>2288</th>\n",
       "      <td>1204</td>\n",
       "      <td>12</td>\n",
       "      <td>112.00</td>\n",
       "    </tr>\n",
       "    <tr>\n",
       "      <th>2289</th>\n",
       "      <td>1349</td>\n",
       "      <td>10</td>\n",
       "      <td>20.78</td>\n",
       "    </tr>\n",
       "    <tr>\n",
       "      <th>2290</th>\n",
       "      <td>1349</td>\n",
       "      <td>11</td>\n",
       "      <td>40.66</td>\n",
       "    </tr>\n",
       "    <tr>\n",
       "      <th>2291</th>\n",
       "      <td>1349</td>\n",
       "      <td>12</td>\n",
       "      <td>20.33</td>\n",
       "    </tr>\n",
       "    <tr>\n",
       "      <th>2292</th>\n",
       "      <td>1108</td>\n",
       "      <td>12</td>\n",
       "      <td>70.00</td>\n",
       "    </tr>\n",
       "  </tbody>\n",
       "</table>\n",
       "<p>2293 rows × 3 columns</p>\n",
       "</div>"
      ],
      "text/plain": [
       "      user_id  month  monthly_revenue\n",
       "0        1000     12            70.00\n",
       "1        1001      8            20.00\n",
       "2        1001      9            20.00\n",
       "3        1001     10            90.09\n",
       "4        1001     11            60.00\n",
       "...       ...    ...              ...\n",
       "2288     1204     12           112.00\n",
       "2289     1349     10            20.78\n",
       "2290     1349     11            40.66\n",
       "2291     1349     12            20.33\n",
       "2292     1108     12            70.00\n",
       "\n",
       "[2293 rows x 3 columns]"
      ]
     },
     "execution_count": 36,
     "metadata": {},
     "output_type": "execute_result"
    }
   ],
   "source": [
    "monthly[['user_id','month','monthly_revenue']]"
   ]
  },
  {
   "cell_type": "markdown",
   "metadata": {},
   "source": [
    "# EDA - distribution"
   ]
  },
  {
   "cell_type": "markdown",
   "metadata": {},
   "source": [
    "Here we'll describe the customers' behavior. To so so we'll find the minutes, texts, and volume of data the users of each plan require per month by plotting histograms. Then, calculate the mean, variance, and standard deviation. And finally, describe the distributions."
   ]
  },
  {
   "cell_type": "code",
   "execution_count": 37,
   "metadata": {},
   "outputs": [],
   "source": [
    "#In order to analyze monthly user behaviour of each plan, we create 2 dataframes one per plan\n",
    "df_surf=monthly[monthly['plan'] == 'surf']\n",
    "df_ultimate=monthly[monthly['plan'] == 'ultimate']"
   ]
  },
  {
   "cell_type": "markdown",
   "metadata": {},
   "source": [
    "## Minutes"
   ]
  },
  {
   "cell_type": "code",
   "execution_count": 38,
   "metadata": {},
   "outputs": [
    {
     "data": {
      "image/png": "[encoded data removed]",
      "text/plain": [
       "<Figure size 432x288 with 1 Axes>"
      ]
     },
     "metadata": {
      "needs_background": "light"
     },
     "output_type": "display_data"
    }
   ],
   "source": [
    "#Minutes the users of 'Surf' and 'Ultimate' use per month\n",
    "monthly.groupby(by='plan')['mins_per_month'].plot(kind='hist', grid=True)\n",
    "plt.title('Monthly calls duration (minutes)')\n",
    "plt.xlabel('minutes')\n",
    "plt.ylabel('users')\n",
    "plt.legend(loc='upper right');"
   ]
  },
  {
   "cell_type": "code",
   "execution_count": 39,
   "metadata": {},
   "outputs": [
    {
     "name": "stdout",
     "output_type": "stream",
     "text": [
      "Mean of \"Surf\" monthly calls duration in minutes: 429\n",
      "Variance of \"Surf\" monthly calls duration in minutes: 54968\n",
      "Standard deviation of \"Surf\" monthly calls duration in minutes: 234\n",
      "\n",
      "Mean of \"Ultimate\" monthly calls duration in minutes: 430\n",
      "Variance of \"Ultimate\" monthly calls duration in minutes: 57844\n",
      "Standard deviation of \"Ultimate\" monthly calls duration in minutes: 241\n"
     ]
    }
   ],
   "source": [
    "#'Surf' mean, variance, and standard deviation\n",
    "print('Mean of \"Surf\" monthly calls duration in minutes: {:.0f}'.format(df_surf['mins_per_month'].mean()))\n",
    "print('Variance of \"Surf\" monthly calls duration in minutes: {:.0f}'.format(df_surf['mins_per_month'].var()))\n",
    "print('Standard deviation of \"Surf\" monthly calls duration in minutes: {:.0f}'.format(df_surf['mins_per_month'].std()))\n",
    "print()\n",
    "#'Ultimate' mean, variance, and standard deviation\n",
    "print('Mean of \"Ultimate\" monthly calls duration in minutes: {:.0f}'.format(df_ultimate['mins_per_month'].mean()))\n",
    "print('Variance of \"Ultimate\" monthly calls duration in minutes: {:.0f}'.format(df_ultimate['mins_per_month'].var()))\n",
    "print('Standard deviation of \"Ultimate\" monthly calls duration in minutes: {:.0f}'.format(df_ultimate['mins_per_month'].std()))"
   ]
  },
  {
   "cell_type": "code",
   "execution_count": 40,
   "metadata": {},
   "outputs": [
    {
     "name": "stdout",
     "output_type": "stream",
     "text": [
      "(1573, 19) (720, 19)\n"
     ]
    }
   ],
   "source": [
    "print(df_surf.shape, df_ultimate.shape)"
   ]
  },
  {
   "cell_type": "markdown",
   "metadata": {},
   "source": [
    "Means of monthly call durations are almost the same (Surf-429 and Ultimate-430), implying that the distribution is close to normal. Both plans histograms are positively skewed to the right. Standard deviations are also quite close (Surf-234 and Ultimate-241 minutes each) and the variance is large as the data is more spread out.\n",
    "\n",
    "Surf has 1573 users and Ultimate has 720 as seen in the histogram where surf user values are higher. Most users' calls last anywhere from 250 to just over 400 minutes.\n",
    "\n",
    "We see almost half of the Surf plan users exceed the limit (500 minutes per month) while none of Ulimate's come anywhere close to their limit of 3000 (~1500 at most-half the limit), meaning the Ultimate plan isn't profitable in the least in this case."
   ]
  },
  {
   "cell_type": "markdown",
   "metadata": {},
   "source": [
    "## Texts"
   ]
  },
  {
   "cell_type": "code",
   "execution_count": 41,
   "metadata": {},
   "outputs": [
    {
     "data": {
      "image/png": "[encoded data removed]",
      "text/plain": [
       "<Figure size 432x288 with 1 Axes>"
      ]
     },
     "metadata": {
      "needs_background": "light"
     },
     "output_type": "display_data"
    }
   ],
   "source": [
    "#Texts the users of 'Surf' and 'Ultimate' send per month\n",
    "monthly.groupby(by='plan')['messages_per_month'].plot(kind='hist', grid=True)\n",
    "plt.title('Monthly messages')\n",
    "plt.xlabel('messages')\n",
    "plt.ylabel('users')\n",
    "plt.legend(loc='upper right');"
   ]
  },
  {
   "cell_type": "code",
   "execution_count": 42,
   "metadata": {},
   "outputs": [
    {
     "name": "stdout",
     "output_type": "stream",
     "text": [
      "Mean of \"Surf\" monthly messages: 31\n",
      "Variance of \"Surf\" monthly messages: 1127\n",
      "Standard deviation of \"Surf\" monthly messages: 34\n",
      "\n",
      "Mean of \"Ultimate\" monthly messages: 38\n",
      "Variance of \"Ultimate\" monthly messages: 1209\n",
      "Standard deviation of \"Ultimate\" monthly messages: 35\n"
     ]
    }
   ],
   "source": [
    "#'Surf' mean, variance, and standard deviation\n",
    "print('Mean of \"Surf\" monthly messages: {:.0f}'.format(df_surf['messages_per_month'].mean()))\n",
    "print('Variance of \"Surf\" monthly messages: {:.0f}'.format(df_surf['messages_per_month'].var()))\n",
    "print('Standard deviation of \"Surf\" monthly messages: {:.0f}'.format(df_surf['messages_per_month'].std()))\n",
    "print()\n",
    "#'Ultimate' mean, variance, and standard deviation\n",
    "print('Mean of \"Ultimate\" monthly messages: {:.0f}'.format(df_ultimate['messages_per_month'].mean()))\n",
    "print('Variance of \"Ultimate\" monthly messages: {:.0f}'.format(df_ultimate['messages_per_month'].var()))\n",
    "print('Standard deviation of \"Ultimate\" monthly messages: {:.0f}'.format(df_ultimate['messages_per_month'].std()))"
   ]
  },
  {
   "cell_type": "markdown",
   "metadata": {},
   "source": [
    "Means of monthly messages and standard deviations are close- std is almost same as the mean (Surf-mean 31, std 34 and Ultimate-mean 38, std 35). Both plans histograms are positively skewed to the right, and not too spread out.\n",
    "\n",
    "Surf has 1573 users and Ultimate has 720 as seen in the histogram where surf user values are higher. Most users send a number of monthly messages anywhere from 0 to just over ~25. \n",
    "\n",
    "We see most Surf plan users stay in the limit (500 messages per month) and none of Ulimate's come anywhere close to their limit of 1000 (~250 at most-quater the limit), meaning the Ultimate plan isn't profitable in the least in this case."
   ]
  },
  {
   "cell_type": "markdown",
   "metadata": {},
   "source": [
    "## Volume"
   ]
  },
  {
   "cell_type": "code",
   "execution_count": 43,
   "metadata": {},
   "outputs": [
    {
     "data": {
      "image/png": "[encoded data removed]",
      "text/plain": [
       "<Figure size 432x288 with 1 Axes>"
      ]
     },
     "metadata": {
      "needs_background": "light"
     },
     "output_type": "display_data"
    }
   ],
   "source": [
    "#Volume of data the users of 'Surf' and 'Ultimate' require per month\n",
    "monthly.groupby(by='plan')['gb_per_month'].plot(kind='hist', grid=True)\n",
    "plt.title('Monthly volume (GB)')\n",
    "plt.xlabel('volume')\n",
    "plt.ylabel('users')\n",
    "plt.legend(loc='upper right');"
   ]
  },
  {
   "cell_type": "code",
   "execution_count": 44,
   "metadata": {},
   "outputs": [
    {
     "name": "stdout",
     "output_type": "stream",
     "text": [
      "Mean of \"Surf\" monthly volume: 17\n",
      "Variance of \"Surf\" monthly volume: 62\n",
      "Standard deviation of \"Surf\" monthly volume: 8\n",
      "\n",
      "Mean of \"Ultimate\" monthly volume: 17\n",
      "Variance of \"Ultimate\" monthly volume: 59\n",
      "Standard deviation of \"Ultimate\" monthly volume: 8\n"
     ]
    }
   ],
   "source": [
    "#'Surf' mean, variance, and standard deviation\n",
    "print('Mean of \"Surf\" monthly volume: {:.0f}'.format(df_surf['gb_per_month'].mean()))\n",
    "print('Variance of \"Surf\" monthly volume: {:.0f}'.format(df_surf['gb_per_month'].var()))\n",
    "print('Standard deviation of \"Surf\" monthly volume: {:.0f}'.format(df_surf['gb_per_month'].std()))\n",
    "print()\n",
    "#'Ultimate' mean, variance, and standard deviation\n",
    "print('Mean of \"Ultimate\" monthly volume: {:.0f}'.format(df_ultimate['gb_per_month'].mean()))\n",
    "print('Variance of \"Ultimate\" monthly volume: {:.0f}'.format(df_ultimate['gb_per_month'].var()))\n",
    "print('Standard deviation of \"Ultimate\" monthly volume: {:.0f}'.format(df_ultimate['gb_per_month'].std()))"
   ]
  },
  {
   "cell_type": "markdown",
   "metadata": {},
   "source": [
    "Means of monthly volume are almost the same (Surf-17 gb per month and Ultimate-18), both distributions are similar and close to normal. Standard deviations are the same and not that large (both 8 gb) and the variance is close (Surf-64, Ultimate-62.\n",
    "\n",
    "Surf has 1573 users and Ultimate has 720 as seen in the histogram where surf user values are higher. Most users' volume usage is anywhere from 0 to just over 70 gigabytes.\n",
    "\n",
    "We see almost half of the Surf plan users don't exceed the limit (16 gb per month- close to the mean usage) while only very few of Ulimate's exceed their limit of 31. This is the most profitable service for both plans yet still way less for Ultimate out of the two."
   ]
  },
  {
   "cell_type": "markdown",
   "metadata": {},
   "source": [
    "# SDA - hypotheses testing"
   ]
  },
  {
   "cell_type": "markdown",
   "metadata": {},
   "source": [
    "## Average revenue from users of Ultimate and Surf calling plans differs"
   ]
  },
  {
   "cell_type": "markdown",
   "metadata": {},
   "source": [
    "Null Hypothesis H0: average revenue from users of Ultimate and Surf calling plans doesn't differ.\n",
    "\n",
    "Alternative Hypothesis H1: average revenue from users of Ultimate and Surf calling plans differs.\n",
    "\n",
    "The criterion we'll use to test the hypotheses is 5% significance level (alpha) as it is typical in behavioral science."
   ]
  },
  {
   "cell_type": "code",
   "execution_count": 45,
   "metadata": {},
   "outputs": [
    {
     "name": "stdout",
     "output_type": "stream",
     "text": [
      "p-value:  3.17039054811355e-15\n",
      "We reject the null hypothesis\n"
     ]
    }
   ],
   "source": [
    "#Testing hypotheses by running t-test\n",
    "results = st.ttest_ind(df_surf['monthly_revenue'], df_ultimate['monthly_revenue'], equal_var=False)\n",
    "p_value = results.pvalue\n",
    "alpha = 0.05\n",
    "\n",
    "print('p-value: ', results.pvalue)\n",
    "\n",
    "if (results.pvalue < alpha):\n",
    "        print(\"We reject the null hypothesis\")\n",
    "else:\n",
    "        print(\"We can't reject the null hypothesis\")"
   ]
  },
  {
   "cell_type": "markdown",
   "metadata": {},
   "source": [
    "T-test results above show that based on the p_value, we reject the null hypothesis. Therefore, the average revenue from users of Ultimate and Surf calling plans differs.\n",
    "\n",
    "Note: We choose not to further analyze the hypotheses to test what plan has the higher average monthly revenue, since we already gathered above in the EDA phase that Surf is more profitable."
   ]
  },
  {
   "cell_type": "markdown",
   "metadata": {},
   "source": [
    "## Average revenue from users in NY-NJ area is different from that of the users from other regions"
   ]
  },
  {
   "cell_type": "markdown",
   "metadata": {},
   "source": [
    "Null Hypothesis H0: average revenue from users in NY-NJ area isn't different from that of the users from other regions.\n",
    "\n",
    "Alternative Hypothesis H1: average revenue from users in NY-NJ area is different from that of the users from other regions.\n",
    "\n",
    "Once again, the criterion we'll use to test the hypotheses is 5% significance level (alpha) as it is typical in behavioral science."
   ]
  },
  {
   "cell_type": "code",
   "execution_count": 46,
   "metadata": {},
   "outputs": [],
   "source": [
    "#We create 2 dataframes for NY-NJ area and others and then 2 more of revenue per area\n",
    "NY_NJ=monthly[monthly['city'] == 'New York-Newark-Jersey City, NY-NJ-PA MSA']\n",
    "NY_NJ_revenue=NY_NJ['monthly_revenue']\n",
    "other=monthly[monthly['city'] != 'New York-Newark-Jersey City, NY-NJ-PA MSA']\n",
    "other_revenue=other['monthly_revenue']"
   ]
  },
  {
   "cell_type": "code",
   "execution_count": 47,
   "metadata": {},
   "outputs": [
    {
     "name": "stdout",
     "output_type": "stream",
     "text": [
      "p-value:  0.03352561588530014\n",
      "We reject the null hypothesis\n"
     ]
    }
   ],
   "source": [
    "#Again, we test hypotheses by running t-test\n",
    "results = st.ttest_ind(NY_NJ_revenue, other_revenue, equal_var=False)\n",
    "p_value = results.pvalue\n",
    "alpha = 0.05\n",
    "\n",
    "print('p-value: ', results.pvalue)\n",
    "\n",
    "if (results.pvalue < alpha):\n",
    "        print(\"We reject the null hypothesis\")\n",
    "else:\n",
    "        print(\"We can't reject the null hypothesis\")"
   ]
  },
  {
   "cell_type": "markdown",
   "metadata": {},
   "source": [
    "T-test results above show that based on the p_value, we reject the null hypothesis. Therefore, the average revenue from users in NY-NJ area is different from that of the users from other regions.\n",
    "\n",
    "Note: We choose not to further analyze the hypotheses to test what area has the higher average monthly revenue, since we need to determine which prepaid plan brings in more revenue and not which area does."
   ]
  },
  {
   "cell_type": "markdown",
   "metadata": {},
   "source": [
    "# Overall conclusion"
   ]
  },
  {
   "cell_type": "markdown",
   "metadata": {},
   "source": [
    "In this project, we have worked as analysts for the telecom operator Megaline, which offers its clients two prepaid plans, Surf and Ultimate. \n",
    "\n",
    "The commercial department wanted to know which of the plans generates more revenue in order to adjust the advertising budget.\n",
    "\n",
    "First, following the methodology, we performed a preliminary analysis of the plans based on the data of 500 Megaline users: who the clients are, where they're from, which plan they use, and the number of calls they made and text messages they sent in 2018. \n",
    "We analyzed clients' behavior and finally determined which prepaid plan brings in more revenue.\n",
    "\n",
    "In conclusion, the data analysis revealed that the Surf plan generates more revenue than Ultimate.\n",
    "\n",
    "Surf plan has lower package limits in comparison to Ultimate as 50% less GB; 95% less texts; and 16.66% less calls. Hence, users exceed the Surf plan limits and end up generating higher revenue. Unlike Surf, Ultimate plan offers high package limits and therefore users don't reach them and all in the all the plan is not profitable to Megaline and even loss-making. "
   ]
  }
 ],
 "metadata": {
  "ExecuteTimeLog": [
   {
    "duration": 3,
    "start_time": "2021-11-04T16:54:06.083Z"
   },
   {
    "duration": 2,
    "start_time": "2021-11-04T17:02:46.594Z"
   },
   {
    "duration": 586,
    "start_time": "2021-11-04T17:03:14.619Z"
   },
   {
    "duration": 1901,
    "start_time": "2021-11-04T17:09:37.791Z"
   },
   {
    "duration": 3,
    "start_time": "2021-11-04T17:09:50.692Z"
   },
   {
    "duration": 2156,
    "start_time": "2021-11-04T17:09:53.420Z"
   },
   {
    "duration": 1636,
    "start_time": "2021-11-04T17:10:44.874Z"
   },
   {
    "duration": 1660,
    "start_time": "2021-11-04T17:11:40.792Z"
   },
   {
    "duration": 3479,
    "start_time": "2021-11-04T17:12:42.680Z"
   },
   {
    "duration": 2458,
    "start_time": "2021-11-04T17:13:32.331Z"
   },
   {
    "duration": 335,
    "start_time": "2021-11-04T17:14:19.868Z"
   },
   {
    "duration": 306,
    "start_time": "2021-11-04T17:14:30.167Z"
   },
   {
    "duration": 2,
    "start_time": "2021-11-04T17:16:54.130Z"
   },
   {
    "duration": 39,
    "start_time": "2021-11-04T17:21:12.835Z"
   },
   {
    "duration": 40,
    "start_time": "2021-11-04T17:21:12.876Z"
   },
   {
    "duration": 19,
    "start_time": "2021-11-04T17:21:12.918Z"
   },
   {
    "duration": 4,
    "start_time": "2021-11-04T17:21:12.939Z"
   },
   {
    "duration": 9,
    "start_time": "2021-11-04T17:21:12.945Z"
   },
   {
    "duration": 6,
    "start_time": "2021-11-04T17:24:52.660Z"
   },
   {
    "duration": 42,
    "start_time": "2021-11-04T17:24:52.668Z"
   },
   {
    "duration": 18,
    "start_time": "2021-11-04T17:24:52.712Z"
   },
   {
    "duration": 38,
    "start_time": "2021-11-04T17:24:52.732Z"
   },
   {
    "duration": 21,
    "start_time": "2021-11-04T17:24:52.772Z"
   },
   {
    "duration": 6,
    "start_time": "2021-11-04T17:25:00.562Z"
   },
   {
    "duration": 42,
    "start_time": "2021-11-04T17:25:00.570Z"
   },
   {
    "duration": 20,
    "start_time": "2021-11-04T17:25:00.614Z"
   },
   {
    "duration": 44,
    "start_time": "2021-11-04T17:25:00.636Z"
   },
   {
    "duration": 14,
    "start_time": "2021-11-04T17:25:00.681Z"
   },
   {
    "duration": 11,
    "start_time": "2021-11-04T17:28:30.531Z"
   },
   {
    "duration": 6,
    "start_time": "2021-11-04T17:31:05.201Z"
   },
   {
    "duration": 29,
    "start_time": "2021-11-04T17:31:07.208Z"
   },
   {
    "duration": 16,
    "start_time": "2021-11-04T17:36:35.961Z"
   },
   {
    "duration": 12,
    "start_time": "2021-11-04T17:36:39.328Z"
   },
   {
    "duration": 14,
    "start_time": "2021-11-04T17:36:57.002Z"
   },
   {
    "duration": 7,
    "start_time": "2021-11-04T17:37:00.059Z"
   },
   {
    "duration": 9,
    "start_time": "2021-11-04T17:37:12.343Z"
   },
   {
    "duration": 7,
    "start_time": "2021-11-04T17:44:54.765Z"
   },
   {
    "duration": 10,
    "start_time": "2021-11-04T17:44:54.774Z"
   },
   {
    "duration": 7,
    "start_time": "2021-11-04T17:44:54.786Z"
   },
   {
    "duration": 29,
    "start_time": "2021-11-04T17:44:54.795Z"
   },
   {
    "duration": 20,
    "start_time": "2021-11-04T17:44:54.826Z"
   },
   {
    "duration": 7,
    "start_time": "2021-11-04T17:44:54.848Z"
   },
   {
    "duration": 12,
    "start_time": "2021-11-04T17:44:54.913Z"
   },
   {
    "duration": 62,
    "start_time": "2021-11-04T17:44:54.927Z"
   },
   {
    "duration": 38,
    "start_time": "2021-11-04T17:44:54.991Z"
   },
   {
    "duration": 7,
    "start_time": "2021-11-04T17:44:55.031Z"
   },
   {
    "duration": 16,
    "start_time": "2021-11-04T17:44:55.040Z"
   },
   {
    "duration": 154,
    "start_time": "2021-11-04T17:44:55.058Z"
   },
   {
    "duration": 38,
    "start_time": "2021-11-04T17:44:55.214Z"
   },
   {
    "duration": 6,
    "start_time": "2021-11-04T17:44:55.254Z"
   },
   {
    "duration": 29,
    "start_time": "2021-11-04T17:44:55.262Z"
   },
   {
    "duration": 109,
    "start_time": "2021-11-04T17:44:55.293Z"
   },
   {
    "duration": 4,
    "start_time": "2021-11-04T17:44:55.404Z"
   },
   {
    "duration": 18,
    "start_time": "2021-11-04T17:44:55.409Z"
   },
   {
    "duration": 11,
    "start_time": "2021-11-04T17:44:55.428Z"
   },
   {
    "duration": 31,
    "start_time": "2021-11-04T17:44:55.440Z"
   },
   {
    "duration": 41,
    "start_time": "2021-11-04T18:17:05.815Z"
   },
   {
    "duration": 5,
    "start_time": "2021-11-05T15:53:11.372Z"
   },
   {
    "duration": 451,
    "start_time": "2021-11-05T15:57:33.287Z"
   },
   {
    "duration": 871,
    "start_time": "2021-11-05T15:57:45.058Z"
   },
   {
    "duration": 394,
    "start_time": "2021-11-05T15:57:45.932Z"
   },
   {
    "duration": 9,
    "start_time": "2021-11-05T15:57:46.329Z"
   },
   {
    "duration": 24,
    "start_time": "2021-11-05T15:57:46.341Z"
   },
   {
    "duration": 10,
    "start_time": "2021-11-05T15:57:46.368Z"
   },
   {
    "duration": 52,
    "start_time": "2021-11-05T15:57:46.380Z"
   },
   {
    "duration": 52,
    "start_time": "2021-11-05T15:57:46.434Z"
   },
   {
    "duration": 9,
    "start_time": "2021-11-05T15:57:46.488Z"
   },
   {
    "duration": 19,
    "start_time": "2021-11-05T15:57:46.501Z"
   },
   {
    "duration": 86,
    "start_time": "2021-11-05T15:57:46.522Z"
   },
   {
    "duration": 99,
    "start_time": "2021-11-05T15:57:46.611Z"
   },
   {
    "duration": 81,
    "start_time": "2021-11-05T15:57:46.713Z"
   },
   {
    "duration": 11,
    "start_time": "2021-11-05T15:57:46.796Z"
   },
   {
    "duration": 24,
    "start_time": "2021-11-05T15:57:46.809Z"
   },
   {
    "duration": 198,
    "start_time": "2021-11-05T15:57:46.835Z"
   },
   {
    "duration": 74,
    "start_time": "2021-11-05T15:57:47.035Z"
   },
   {
    "duration": 11,
    "start_time": "2021-11-05T15:57:47.111Z"
   },
   {
    "duration": 35,
    "start_time": "2021-11-05T15:57:47.124Z"
   },
   {
    "duration": 163,
    "start_time": "2021-11-05T15:57:47.161Z"
   },
   {
    "duration": 8,
    "start_time": "2021-11-05T15:57:47.326Z"
   },
   {
    "duration": 28,
    "start_time": "2021-11-05T15:57:47.336Z"
   },
   {
    "duration": 12,
    "start_time": "2021-11-05T15:57:47.366Z"
   },
   {
    "duration": 46,
    "start_time": "2021-11-05T15:57:47.380Z"
   },
   {
    "duration": 83,
    "start_time": "2021-11-05T15:57:47.428Z"
   },
   {
    "duration": 8,
    "start_time": "2021-11-05T16:12:29.824Z"
   },
   {
    "duration": 5,
    "start_time": "2021-11-05T16:14:16.273Z"
   },
   {
    "duration": 3,
    "start_time": "2021-11-05T16:16:21.174Z"
   },
   {
    "duration": 6,
    "start_time": "2021-11-05T16:24:02.535Z"
   },
   {
    "duration": 137,
    "start_time": "2021-11-05T16:24:41.122Z"
   },
   {
    "duration": 1581,
    "start_time": "2021-11-05T16:31:40.185Z"
   },
   {
    "duration": 15,
    "start_time": "2021-11-05T16:32:36.567Z"
   },
   {
    "duration": 672,
    "start_time": "2021-11-05T16:39:35.843Z"
   },
   {
    "duration": 389,
    "start_time": "2021-11-05T16:39:53.138Z"
   },
   {
    "duration": 351,
    "start_time": "2021-11-05T18:58:28.755Z"
   },
   {
    "duration": 835,
    "start_time": "2021-11-05T18:58:36.216Z"
   },
   {
    "duration": 398,
    "start_time": "2021-11-05T18:58:37.053Z"
   },
   {
    "duration": 9,
    "start_time": "2021-11-05T18:58:37.454Z"
   },
   {
    "duration": 19,
    "start_time": "2021-11-05T18:58:37.466Z"
   },
   {
    "duration": 8,
    "start_time": "2021-11-05T18:58:37.487Z"
   },
   {
    "duration": 74,
    "start_time": "2021-11-05T18:58:37.498Z"
   },
   {
    "duration": 33,
    "start_time": "2021-11-05T18:58:37.574Z"
   },
   {
    "duration": 11,
    "start_time": "2021-11-05T18:58:37.612Z"
   },
   {
    "duration": 48,
    "start_time": "2021-11-05T18:58:37.625Z"
   },
   {
    "duration": 63,
    "start_time": "2021-11-05T18:58:37.676Z"
   },
   {
    "duration": 111,
    "start_time": "2021-11-05T18:58:37.742Z"
   },
   {
    "duration": 74,
    "start_time": "2021-11-05T18:58:37.868Z"
   },
   {
    "duration": 25,
    "start_time": "2021-11-05T18:58:37.944Z"
   },
   {
    "duration": 26,
    "start_time": "2021-11-05T18:58:37.971Z"
   },
   {
    "duration": 238,
    "start_time": "2021-11-05T18:58:37.999Z"
   },
   {
    "duration": 82,
    "start_time": "2021-11-05T18:58:38.240Z"
   },
   {
    "duration": 12,
    "start_time": "2021-11-05T18:58:38.325Z"
   },
   {
    "duration": 42,
    "start_time": "2021-11-05T18:58:38.340Z"
   },
   {
    "duration": 187,
    "start_time": "2021-11-05T18:58:38.385Z"
   },
   {
    "duration": 7,
    "start_time": "2021-11-05T18:58:38.575Z"
   },
   {
    "duration": 16,
    "start_time": "2021-11-05T18:58:38.584Z"
   },
   {
    "duration": 11,
    "start_time": "2021-11-05T18:58:38.603Z"
   },
   {
    "duration": 73,
    "start_time": "2021-11-05T18:58:38.618Z"
   },
   {
    "duration": 77,
    "start_time": "2021-11-05T18:58:38.694Z"
   },
   {
    "duration": 321,
    "start_time": "2021-11-05T18:58:38.773Z"
   },
   {
    "duration": -271,
    "start_time": "2021-11-05T18:58:39.368Z"
   },
   {
    "duration": -273,
    "start_time": "2021-11-05T18:58:39.371Z"
   },
   {
    "duration": -276,
    "start_time": "2021-11-05T18:58:39.375Z"
   },
   {
    "duration": 9,
    "start_time": "2021-11-05T18:58:58.692Z"
   },
   {
    "duration": 5,
    "start_time": "2021-11-05T18:59:02.484Z"
   },
   {
    "duration": 6,
    "start_time": "2021-11-05T18:59:09.740Z"
   },
   {
    "duration": 16,
    "start_time": "2021-11-05T18:59:10.740Z"
   },
   {
    "duration": 303,
    "start_time": "2021-11-05T18:59:13.452Z"
   },
   {
    "duration": 612,
    "start_time": "2021-11-05T19:04:23.473Z"
   },
   {
    "duration": 319,
    "start_time": "2021-11-05T19:04:44.408Z"
   },
   {
    "duration": 10,
    "start_time": "2021-11-05T19:04:51.003Z"
   },
   {
    "duration": 9,
    "start_time": "2021-11-05T19:04:55.956Z"
   },
   {
    "duration": 313,
    "start_time": "2021-11-05T19:12:59.657Z"
   },
   {
    "duration": -345,
    "start_time": "2021-11-05T19:14:11.934Z"
   },
   {
    "duration": -359,
    "start_time": "2021-11-05T19:15:21.367Z"
   },
   {
    "duration": -333,
    "start_time": "2021-11-05T19:16:08.970Z"
   },
   {
    "duration": -335,
    "start_time": "2021-11-05T19:16:08.973Z"
   },
   {
    "duration": -335,
    "start_time": "2021-11-05T19:16:08.975Z"
   },
   {
    "duration": -336,
    "start_time": "2021-11-05T19:16:08.977Z"
   },
   {
    "duration": -337,
    "start_time": "2021-11-05T19:16:08.979Z"
   },
   {
    "duration": -338,
    "start_time": "2021-11-05T19:16:08.981Z"
   },
   {
    "duration": -339,
    "start_time": "2021-11-05T19:16:08.983Z"
   },
   {
    "duration": -340,
    "start_time": "2021-11-05T19:16:08.986Z"
   },
   {
    "duration": -340,
    "start_time": "2021-11-05T19:16:08.987Z"
   },
   {
    "duration": -431,
    "start_time": "2021-11-05T19:16:09.079Z"
   },
   {
    "duration": -433,
    "start_time": "2021-11-05T19:16:09.082Z"
   },
   {
    "duration": -436,
    "start_time": "2021-11-05T19:16:09.086Z"
   },
   {
    "duration": -436,
    "start_time": "2021-11-05T19:16:09.088Z"
   },
   {
    "duration": -437,
    "start_time": "2021-11-05T19:16:09.090Z"
   },
   {
    "duration": -438,
    "start_time": "2021-11-05T19:16:09.092Z"
   },
   {
    "duration": -439,
    "start_time": "2021-11-05T19:16:09.094Z"
   },
   {
    "duration": -439,
    "start_time": "2021-11-05T19:16:09.096Z"
   },
   {
    "duration": -459,
    "start_time": "2021-11-05T19:16:09.118Z"
   },
   {
    "duration": -460,
    "start_time": "2021-11-05T19:16:09.120Z"
   },
   {
    "duration": -462,
    "start_time": "2021-11-05T19:16:09.123Z"
   },
   {
    "duration": -463,
    "start_time": "2021-11-05T19:16:09.125Z"
   },
   {
    "duration": -465,
    "start_time": "2021-11-05T19:16:09.128Z"
   },
   {
    "duration": -465,
    "start_time": "2021-11-05T19:16:09.130Z"
   },
   {
    "duration": -467,
    "start_time": "2021-11-05T19:16:09.133Z"
   },
   {
    "duration": -468,
    "start_time": "2021-11-05T19:16:09.135Z"
   },
   {
    "duration": -468,
    "start_time": "2021-11-05T19:16:09.137Z"
   },
   {
    "duration": -469,
    "start_time": "2021-11-05T19:16:09.139Z"
   },
   {
    "duration": -470,
    "start_time": "2021-11-05T19:16:09.141Z"
   },
   {
    "duration": -471,
    "start_time": "2021-11-05T19:16:09.143Z"
   },
   {
    "duration": 884,
    "start_time": "2021-11-05T19:16:44.878Z"
   },
   {
    "duration": 373,
    "start_time": "2021-11-05T19:16:45.766Z"
   },
   {
    "duration": 9,
    "start_time": "2021-11-05T19:16:46.142Z"
   },
   {
    "duration": 24,
    "start_time": "2021-11-05T19:16:46.154Z"
   },
   {
    "duration": 9,
    "start_time": "2021-11-05T19:16:46.180Z"
   },
   {
    "duration": 48,
    "start_time": "2021-11-05T19:16:46.192Z"
   },
   {
    "duration": 54,
    "start_time": "2021-11-05T19:16:46.242Z"
   },
   {
    "duration": 10,
    "start_time": "2021-11-05T19:16:46.300Z"
   },
   {
    "duration": 15,
    "start_time": "2021-11-05T19:16:46.314Z"
   },
   {
    "duration": 64,
    "start_time": "2021-11-05T19:16:46.368Z"
   },
   {
    "duration": 113,
    "start_time": "2021-11-05T19:16:46.434Z"
   },
   {
    "duration": 86,
    "start_time": "2021-11-05T19:16:46.550Z"
   },
   {
    "duration": 11,
    "start_time": "2021-11-05T19:16:46.639Z"
   },
   {
    "duration": 21,
    "start_time": "2021-11-05T19:16:46.667Z"
   },
   {
    "duration": 212,
    "start_time": "2021-11-05T19:16:46.690Z"
   },
   {
    "duration": 79,
    "start_time": "2021-11-05T19:16:46.905Z"
   },
   {
    "duration": 11,
    "start_time": "2021-11-05T19:16:46.987Z"
   },
   {
    "duration": 20,
    "start_time": "2021-11-05T19:16:47.001Z"
   },
   {
    "duration": 206,
    "start_time": "2021-11-05T19:16:47.023Z"
   },
   {
    "duration": 8,
    "start_time": "2021-11-05T19:16:47.231Z"
   },
   {
    "duration": 30,
    "start_time": "2021-11-05T19:16:47.242Z"
   },
   {
    "duration": 12,
    "start_time": "2021-11-05T19:16:47.274Z"
   },
   {
    "duration": 49,
    "start_time": "2021-11-05T19:16:47.291Z"
   },
   {
    "duration": 85,
    "start_time": "2021-11-05T19:16:47.342Z"
   },
   {
    "duration": 4,
    "start_time": "2021-11-05T19:16:47.430Z"
   },
   {
    "duration": 30,
    "start_time": "2021-11-05T19:16:47.437Z"
   },
   {
    "duration": 17,
    "start_time": "2021-11-05T19:16:47.470Z"
   },
   {
    "duration": 359,
    "start_time": "2021-11-05T19:16:47.489Z"
   },
   {
    "duration": -476,
    "start_time": "2021-11-05T19:17:32.835Z"
   },
   {
    "duration": -222,
    "start_time": "2021-11-05T19:18:41.956Z"
   },
   {
    "duration": 56,
    "start_time": "2021-11-05T19:18:43.755Z"
   },
   {
    "duration": 61,
    "start_time": "2021-11-05T19:19:19.375Z"
   },
   {
    "duration": 60,
    "start_time": "2021-11-05T19:19:27.965Z"
   },
   {
    "duration": 282,
    "start_time": "2021-11-05T19:19:51.138Z"
   },
   {
    "duration": 16,
    "start_time": "2021-11-05T19:19:57.860Z"
   },
   {
    "duration": 51,
    "start_time": "2021-11-05T19:20:27.412Z"
   },
   {
    "duration": 50,
    "start_time": "2021-11-05T19:20:32.708Z"
   },
   {
    "duration": 50,
    "start_time": "2021-11-05T19:20:40.546Z"
   },
   {
    "duration": 60,
    "start_time": "2021-11-05T19:20:48.936Z"
   },
   {
    "duration": 50,
    "start_time": "2021-11-05T19:20:54.651Z"
   },
   {
    "duration": 60,
    "start_time": "2021-11-05T19:20:58.123Z"
   },
   {
    "duration": 61,
    "start_time": "2021-11-05T19:23:32.299Z"
   },
   {
    "duration": 4,
    "start_time": "2021-11-05T19:24:03.262Z"
   },
   {
    "duration": 106,
    "start_time": "2021-11-05T19:30:20.974Z"
   },
   {
    "duration": 117,
    "start_time": "2021-11-05T19:30:27.289Z"
   },
   {
    "duration": 88,
    "start_time": "2021-11-05T19:30:39.417Z"
   },
   {
    "duration": 9,
    "start_time": "2021-11-05T19:31:23.346Z"
   },
   {
    "duration": 23,
    "start_time": "2021-11-05T19:31:31.603Z"
   },
   {
    "duration": 25,
    "start_time": "2021-11-05T19:31:51.201Z"
   },
   {
    "duration": 8,
    "start_time": "2021-11-05T19:32:05.753Z"
   },
   {
    "duration": 22,
    "start_time": "2021-11-05T19:33:36.605Z"
   },
   {
    "duration": 23,
    "start_time": "2021-11-05T19:33:49.935Z"
   },
   {
    "duration": 21,
    "start_time": "2021-11-05T19:33:58.400Z"
   },
   {
    "duration": 22,
    "start_time": "2021-11-05T19:34:04.468Z"
   },
   {
    "duration": 7,
    "start_time": "2021-11-05T19:34:20.309Z"
   },
   {
    "duration": 21,
    "start_time": "2021-11-05T19:34:31.549Z"
   },
   {
    "duration": 21,
    "start_time": "2021-11-05T19:34:38.004Z"
   },
   {
    "duration": 22,
    "start_time": "2021-11-05T19:34:44.384Z"
   },
   {
    "duration": 7,
    "start_time": "2021-11-05T19:35:31.011Z"
   },
   {
    "duration": 11,
    "start_time": "2021-11-05T19:35:50.445Z"
   },
   {
    "duration": 11,
    "start_time": "2021-11-05T19:35:55.728Z"
   },
   {
    "duration": 105,
    "start_time": "2021-11-05T19:37:02.294Z"
   },
   {
    "duration": 7629,
    "start_time": "2021-11-05T19:37:08.916Z"
   },
   {
    "duration": 712,
    "start_time": "2021-11-05T19:37:23.575Z"
   },
   {
    "duration": 97,
    "start_time": "2021-11-05T19:37:28.348Z"
   },
   {
    "duration": 10,
    "start_time": "2021-11-05T19:37:52.434Z"
   },
   {
    "duration": 318,
    "start_time": "2021-11-05T19:38:05.986Z"
   },
   {
    "duration": 16,
    "start_time": "2021-11-05T19:38:13.089Z"
   },
   {
    "duration": 98,
    "start_time": "2021-11-05T19:40:36.334Z"
   },
   {
    "duration": 7773,
    "start_time": "2021-11-05T19:40:54.155Z"
   },
   {
    "duration": 93,
    "start_time": "2021-11-05T19:41:15.604Z"
   },
   {
    "duration": 7343,
    "start_time": "2021-11-05T19:41:23.393Z"
   },
   {
    "duration": 319,
    "start_time": "2021-11-05T19:41:32.854Z"
   },
   {
    "duration": 97,
    "start_time": "2021-11-05T19:41:36.051Z"
   },
   {
    "duration": 95,
    "start_time": "2021-11-05T19:43:47.668Z"
   },
   {
    "duration": 378,
    "start_time": "2021-11-05T19:44:00.299Z"
   },
   {
    "duration": 97,
    "start_time": "2021-11-05T19:45:50.262Z"
   },
   {
    "duration": 371,
    "start_time": "2021-11-05T19:45:54.932Z"
   },
   {
    "duration": 105,
    "start_time": "2021-11-05T19:47:03.647Z"
   },
   {
    "duration": 1231,
    "start_time": "2021-11-05T19:47:51.292Z"
   },
   {
    "duration": 96,
    "start_time": "2021-11-05T19:48:14.457Z"
   },
   {
    "duration": 93,
    "start_time": "2021-11-05T19:48:48.239Z"
   },
   {
    "duration": 98,
    "start_time": "2021-11-05T19:48:59.986Z"
   },
   {
    "duration": 402,
    "start_time": "2021-11-05T19:49:36.744Z"
   },
   {
    "duration": 53,
    "start_time": "2021-11-05T19:49:52.135Z"
   },
   {
    "duration": 48,
    "start_time": "2021-11-05T19:50:38.530Z"
   },
   {
    "duration": 8,
    "start_time": "2021-11-05T19:57:26.022Z"
   },
   {
    "duration": 8,
    "start_time": "2021-11-05T19:57:42.244Z"
   },
   {
    "duration": 4,
    "start_time": "2021-11-05T19:59:42.619Z"
   },
   {
    "duration": 368,
    "start_time": "2021-11-05T20:09:13.999Z"
   },
   {
    "duration": 53,
    "start_time": "2021-11-05T20:09:19.847Z"
   },
   {
    "duration": 342,
    "start_time": "2021-11-05T20:18:32.109Z"
   },
   {
    "duration": 320,
    "start_time": "2021-11-05T20:19:36.376Z"
   },
   {
    "duration": 9,
    "start_time": "2021-11-05T20:21:08.164Z"
   },
   {
    "duration": 34,
    "start_time": "2021-11-05T20:21:18.831Z"
   },
   {
    "duration": 33,
    "start_time": "2021-11-05T20:22:07.074Z"
   },
   {
    "duration": 495,
    "start_time": "2021-11-05T20:26:08.832Z"
   },
   {
    "duration": 314,
    "start_time": "2021-11-05T20:26:27.889Z"
   },
   {
    "duration": 33,
    "start_time": "2021-11-05T20:27:24.694Z"
   },
   {
    "duration": 825,
    "start_time": "2021-11-05T20:29:03.413Z"
   },
   {
    "duration": 32,
    "start_time": "2021-11-05T20:29:11.569Z"
   },
   {
    "duration": 52,
    "start_time": "2021-11-05T20:29:25.036Z"
   },
   {
    "duration": 333,
    "start_time": "2021-11-05T20:30:59.940Z"
   },
   {
    "duration": 304,
    "start_time": "2021-11-05T20:31:10.714Z"
   },
   {
    "duration": 51,
    "start_time": "2021-11-05T20:31:31.467Z"
   },
   {
    "duration": 54,
    "start_time": "2021-11-05T20:32:51.389Z"
   },
   {
    "duration": 10,
    "start_time": "2021-11-05T20:35:20.608Z"
   },
   {
    "duration": 11,
    "start_time": "2021-11-05T20:40:22.359Z"
   },
   {
    "duration": 7312,
    "start_time": "2021-11-05T20:45:07.916Z"
   },
   {
    "duration": 7267,
    "start_time": "2021-11-05T20:45:18.147Z"
   },
   {
    "duration": 8097,
    "start_time": "2021-11-05T20:45:30.315Z"
   },
   {
    "duration": 13,
    "start_time": "2021-11-05T20:45:48.660Z"
   },
   {
    "duration": 14,
    "start_time": "2021-11-05T20:46:26.712Z"
   },
   {
    "duration": 8801,
    "start_time": "2021-11-05T20:51:14.477Z"
   },
   {
    "duration": 9646,
    "start_time": "2021-11-05T20:51:57.455Z"
   },
   {
    "duration": 8032,
    "start_time": "2021-11-05T20:52:37.911Z"
   },
   {
    "duration": 8,
    "start_time": "2021-11-05T20:53:03.661Z"
   },
   {
    "duration": 7173,
    "start_time": "2021-11-05T20:53:07.686Z"
   },
   {
    "duration": 16,
    "start_time": "2021-11-05T20:54:27.012Z"
   },
   {
    "duration": 52,
    "start_time": "2021-11-05T20:55:05.449Z"
   },
   {
    "duration": 9,
    "start_time": "2021-11-05T20:55:05.504Z"
   },
   {
    "duration": 13,
    "start_time": "2021-11-05T20:55:05.516Z"
   },
   {
    "duration": 39,
    "start_time": "2021-11-05T20:55:05.531Z"
   },
   {
    "duration": 18,
    "start_time": "2021-11-05T20:55:05.573Z"
   },
   {
    "duration": 7,
    "start_time": "2021-11-05T21:02:17.037Z"
   },
   {
    "duration": 16,
    "start_time": "2021-11-05T21:02:21.613Z"
   },
   {
    "duration": 12,
    "start_time": "2021-11-05T21:02:31.752Z"
   },
   {
    "duration": 8,
    "start_time": "2021-11-05T21:02:32.645Z"
   },
   {
    "duration": 15,
    "start_time": "2021-11-05T21:02:33.054Z"
   },
   {
    "duration": 8,
    "start_time": "2021-11-05T21:03:13.177Z"
   },
   {
    "duration": 14,
    "start_time": "2021-11-05T21:03:13.856Z"
   },
   {
    "duration": 307,
    "start_time": "2021-11-05T21:11:57.037Z"
   },
   {
    "duration": 19,
    "start_time": "2021-11-05T21:12:07.541Z"
   },
   {
    "duration": 828,
    "start_time": "2021-11-05T21:19:20.506Z"
   },
   {
    "duration": 1905,
    "start_time": "2021-11-05T21:19:28.643Z"
   },
   {
    "duration": 741,
    "start_time": "2021-11-05T21:20:26.665Z"
   },
   {
    "duration": 3,
    "start_time": "2021-11-06T09:41:06.476Z"
   },
   {
    "duration": 2,
    "start_time": "2021-11-06T09:41:09.228Z"
   },
   {
    "duration": 280,
    "start_time": "2021-11-06T09:58:49.381Z"
   },
   {
    "duration": 703,
    "start_time": "2021-11-06T09:58:57.169Z"
   },
   {
    "duration": 379,
    "start_time": "2021-11-06T09:58:57.874Z"
   },
   {
    "duration": 6,
    "start_time": "2021-11-06T09:58:58.256Z"
   },
   {
    "duration": 19,
    "start_time": "2021-11-06T09:58:58.264Z"
   },
   {
    "duration": 12,
    "start_time": "2021-11-06T09:58:58.285Z"
   },
   {
    "duration": 34,
    "start_time": "2021-11-06T09:58:58.299Z"
   },
   {
    "duration": 43,
    "start_time": "2021-11-06T09:58:58.334Z"
   },
   {
    "duration": 8,
    "start_time": "2021-11-06T09:58:58.379Z"
   },
   {
    "duration": 14,
    "start_time": "2021-11-06T09:58:58.389Z"
   },
   {
    "duration": 86,
    "start_time": "2021-11-06T09:58:58.406Z"
   },
   {
    "duration": 99,
    "start_time": "2021-11-06T09:58:58.495Z"
   },
   {
    "duration": 74,
    "start_time": "2021-11-06T09:58:58.596Z"
   },
   {
    "duration": 8,
    "start_time": "2021-11-06T09:58:58.673Z"
   },
   {
    "duration": 19,
    "start_time": "2021-11-06T09:58:58.684Z"
   },
   {
    "duration": 228,
    "start_time": "2021-11-06T09:58:58.705Z"
   },
   {
    "duration": 70,
    "start_time": "2021-11-06T09:58:58.935Z"
   },
   {
    "duration": 10,
    "start_time": "2021-11-06T09:58:59.007Z"
   },
   {
    "duration": 17,
    "start_time": "2021-11-06T09:58:59.019Z"
   },
   {
    "duration": 207,
    "start_time": "2021-11-06T09:58:59.038Z"
   },
   {
    "duration": 6,
    "start_time": "2021-11-06T09:58:59.247Z"
   },
   {
    "duration": 16,
    "start_time": "2021-11-06T09:58:59.255Z"
   },
   {
    "duration": 8,
    "start_time": "2021-11-06T09:58:59.273Z"
   },
   {
    "duration": 30,
    "start_time": "2021-11-06T09:58:59.285Z"
   },
   {
    "duration": 78,
    "start_time": "2021-11-06T09:58:59.318Z"
   },
   {
    "duration": 5,
    "start_time": "2021-11-06T09:58:59.398Z"
   },
   {
    "duration": 6,
    "start_time": "2021-11-06T09:58:59.406Z"
   },
   {
    "duration": 18,
    "start_time": "2021-11-06T09:58:59.414Z"
   },
   {
    "duration": 305,
    "start_time": "2021-11-06T09:58:59.434Z"
   },
   {
    "duration": 74,
    "start_time": "2021-11-06T09:58:59.741Z"
   },
   {
    "duration": 46,
    "start_time": "2021-11-06T09:58:59.818Z"
   },
   {
    "duration": 41,
    "start_time": "2021-11-06T09:58:59.866Z"
   },
   {
    "duration": 56,
    "start_time": "2021-11-06T09:58:59.909Z"
   },
   {
    "duration": 10,
    "start_time": "2021-11-06T09:58:59.968Z"
   },
   {
    "duration": 11,
    "start_time": "2021-11-06T09:58:59.980Z"
   },
   {
    "duration": 7,
    "start_time": "2021-11-06T09:58:59.993Z"
   },
   {
    "duration": 16,
    "start_time": "2021-11-06T09:59:00.002Z"
   },
   {
    "duration": 42,
    "start_time": "2021-11-06T09:59:00.021Z"
   },
   {
    "duration": 185,
    "start_time": "2021-11-06T10:03:56.737Z"
   },
   {
    "duration": 78,
    "start_time": "2021-11-06T10:10:31.538Z"
   },
   {
    "duration": 78,
    "start_time": "2021-11-06T10:11:32.829Z"
   },
   {
    "duration": 82,
    "start_time": "2021-11-06T10:11:52.585Z"
   },
   {
    "duration": 78,
    "start_time": "2021-11-06T10:12:11.317Z"
   },
   {
    "duration": 86,
    "start_time": "2021-11-06T10:13:25.311Z"
   },
   {
    "duration": 186,
    "start_time": "2021-11-06T10:13:37.996Z"
   },
   {
    "duration": 184,
    "start_time": "2021-11-06T10:13:52.215Z"
   },
   {
    "duration": 237,
    "start_time": "2021-11-06T10:14:14.341Z"
   },
   {
    "duration": 186,
    "start_time": "2021-11-06T10:14:26.424Z"
   },
   {
    "duration": 264,
    "start_time": "2021-11-06T10:18:58.839Z"
   },
   {
    "duration": 236,
    "start_time": "2021-11-06T10:19:14.688Z"
   },
   {
    "duration": 216,
    "start_time": "2021-11-06T10:19:35.545Z"
   },
   {
    "duration": 151,
    "start_time": "2021-11-06T10:24:09.083Z"
   },
   {
    "duration": 1133,
    "start_time": "2021-11-06T10:24:19.505Z"
   },
   {
    "duration": 150,
    "start_time": "2021-11-06T10:24:30.789Z"
   },
   {
    "duration": 309,
    "start_time": "2021-11-06T10:24:34.015Z"
   },
   {
    "duration": 798,
    "start_time": "2021-11-06T10:25:06.802Z"
   },
   {
    "duration": 302,
    "start_time": "2021-11-06T10:25:17.449Z"
   },
   {
    "duration": 265,
    "start_time": "2021-11-06T10:25:37.026Z"
   },
   {
    "duration": 413,
    "start_time": "2021-11-06T10:25:43.298Z"
   },
   {
    "duration": 302,
    "start_time": "2021-11-06T10:26:10.437Z"
   },
   {
    "duration": 500,
    "start_time": "2021-11-06T10:26:20.817Z"
   },
   {
    "duration": 300,
    "start_time": "2021-11-06T10:26:43.913Z"
   },
   {
    "duration": 482,
    "start_time": "2021-11-06T10:26:54.890Z"
   },
   {
    "duration": 343,
    "start_time": "2021-11-06T10:27:02.073Z"
   },
   {
    "duration": 339,
    "start_time": "2021-11-06T10:27:14.825Z"
   },
   {
    "duration": 536,
    "start_time": "2021-11-06T10:27:22.898Z"
   },
   {
    "duration": 261,
    "start_time": "2021-11-06T10:28:17.649Z"
   },
   {
    "duration": 257,
    "start_time": "2021-11-06T10:28:55.298Z"
   },
   {
    "duration": 264,
    "start_time": "2021-11-06T10:29:08.186Z"
   },
   {
    "duration": 554,
    "start_time": "2021-11-06T10:29:13.322Z"
   },
   {
    "duration": 282,
    "start_time": "2021-11-06T10:29:20.777Z"
   },
   {
    "duration": 485,
    "start_time": "2021-11-06T10:33:29.724Z"
   },
   {
    "duration": 5,
    "start_time": "2021-11-06T10:33:51.093Z"
   },
   {
    "duration": 216,
    "start_time": "2021-11-06T10:34:34.143Z"
   },
   {
    "duration": 204,
    "start_time": "2021-11-06T10:34:45.761Z"
   },
   {
    "duration": 358,
    "start_time": "2021-11-06T10:35:03.922Z"
   },
   {
    "duration": 205,
    "start_time": "2021-11-06T11:04:09.415Z"
   },
   {
    "duration": 259,
    "start_time": "2021-11-06T11:06:40.624Z"
   },
   {
    "duration": 1159,
    "start_time": "2021-11-06T11:06:41.054Z"
   },
   {
    "duration": 721,
    "start_time": "2021-11-06T11:07:03.329Z"
   },
   {
    "duration": 248,
    "start_time": "2021-11-06T11:07:16.029Z"
   },
   {
    "duration": 245,
    "start_time": "2021-11-06T11:07:27.030Z"
   },
   {
    "duration": 736,
    "start_time": "2021-11-06T11:07:44.157Z"
   },
   {
    "duration": 694,
    "start_time": "2021-11-06T11:07:59.245Z"
   },
   {
    "duration": 621,
    "start_time": "2021-11-06T11:08:14.863Z"
   },
   {
    "duration": 213,
    "start_time": "2021-11-06T11:08:15.669Z"
   },
   {
    "duration": 502,
    "start_time": "2021-11-06T11:10:25.973Z"
   },
   {
    "duration": 779,
    "start_time": "2021-11-06T11:10:34.010Z"
   },
   {
    "duration": 802,
    "start_time": "2021-11-06T11:10:49.197Z"
   },
   {
    "duration": 1434,
    "start_time": "2021-11-06T11:10:59.962Z"
   },
   {
    "duration": 194,
    "start_time": "2021-11-06T11:11:32.269Z"
   },
   {
    "duration": 466,
    "start_time": "2021-11-06T11:11:45.767Z"
   },
   {
    "duration": 187,
    "start_time": "2021-11-06T11:11:50.780Z"
   },
   {
    "duration": 194,
    "start_time": "2021-11-06T11:12:04.899Z"
   },
   {
    "duration": 195,
    "start_time": "2021-11-06T11:12:15.336Z"
   },
   {
    "duration": 214,
    "start_time": "2021-11-06T11:12:20.227Z"
   },
   {
    "duration": 187,
    "start_time": "2021-11-06T11:12:27.295Z"
   },
   {
    "duration": 257,
    "start_time": "2021-11-06T11:13:30.072Z"
   },
   {
    "duration": 436,
    "start_time": "2021-11-06T11:13:35.990Z"
   },
   {
    "duration": 699,
    "start_time": "2021-11-06T11:13:46.124Z"
   },
   {
    "duration": 586,
    "start_time": "2021-11-06T11:13:50.812Z"
   },
   {
    "duration": 332,
    "start_time": "2021-11-06T11:13:59.158Z"
   },
   {
    "duration": 561,
    "start_time": "2021-11-06T11:19:50.644Z"
   },
   {
    "duration": 383,
    "start_time": "2021-11-06T11:19:55.045Z"
   },
   {
    "duration": 192,
    "start_time": "2021-11-06T11:20:37.490Z"
   },
   {
    "duration": 257,
    "start_time": "2021-11-06T11:26:26.558Z"
   },
   {
    "duration": 295,
    "start_time": "2021-11-06T11:27:21.166Z"
   },
   {
    "duration": 418,
    "start_time": "2021-11-06T11:27:33.487Z"
   },
   {
    "duration": 255,
    "start_time": "2021-11-06T11:27:43.143Z"
   },
   {
    "duration": 297,
    "start_time": "2021-11-06T11:27:56.855Z"
   },
   {
    "duration": 6,
    "start_time": "2021-11-06T11:31:59.363Z"
   },
   {
    "duration": 160,
    "start_time": "2021-11-06T11:32:15.461Z"
   },
   {
    "duration": 5,
    "start_time": "2021-11-06T11:32:25.588Z"
   },
   {
    "duration": 5,
    "start_time": "2021-11-06T11:32:34.685Z"
   },
   {
    "duration": 20,
    "start_time": "2021-11-06T11:34:41.048Z"
   },
   {
    "duration": 90,
    "start_time": "2021-11-06T11:34:55.084Z"
   },
   {
    "duration": 19,
    "start_time": "2021-11-06T11:35:02.932Z"
   },
   {
    "duration": 22,
    "start_time": "2021-11-06T11:35:10.280Z"
   },
   {
    "duration": 232,
    "start_time": "2021-11-06T11:39:18.273Z"
   },
   {
    "duration": 222,
    "start_time": "2021-11-06T11:39:28.746Z"
   },
   {
    "duration": 243,
    "start_time": "2021-11-06T13:00:51.443Z"
   },
   {
    "duration": 5,
    "start_time": "2021-11-06T13:01:07.259Z"
   },
   {
    "duration": 5,
    "start_time": "2021-11-06T13:01:09.863Z"
   },
   {
    "duration": 8,
    "start_time": "2021-11-06T13:02:54.656Z"
   },
   {
    "duration": 9,
    "start_time": "2021-11-06T13:03:02.787Z"
   },
   {
    "duration": 238,
    "start_time": "2021-11-06T13:28:14.928Z"
   },
   {
    "duration": 9,
    "start_time": "2021-11-06T13:28:18.730Z"
   },
   {
    "duration": 24,
    "start_time": "2021-11-06T13:30:06.006Z"
   },
   {
    "duration": 260,
    "start_time": "2021-11-06T13:30:41.718Z"
   },
   {
    "duration": 4,
    "start_time": "2021-11-06T13:30:51.618Z"
   },
   {
    "duration": 4,
    "start_time": "2021-11-06T13:30:56.691Z"
   },
   {
    "duration": 260,
    "start_time": "2021-11-06T13:31:26.874Z"
   },
   {
    "duration": 4,
    "start_time": "2021-11-06T13:31:38.847Z"
   },
   {
    "duration": 3,
    "start_time": "2021-11-06T13:31:50.319Z"
   },
   {
    "duration": 579,
    "start_time": "2021-11-06T14:20:23.825Z"
   },
   {
    "duration": 676,
    "start_time": "2021-11-06T14:20:29.567Z"
   },
   {
    "duration": 221,
    "start_time": "2021-11-06T14:20:36.059Z"
   },
   {
    "duration": 203,
    "start_time": "2021-11-06T14:20:40.534Z"
   },
   {
    "duration": 222,
    "start_time": "2021-11-06T14:21:06.102Z"
   },
   {
    "duration": 8,
    "start_time": "2021-11-06T14:27:39.914Z"
   },
   {
    "duration": 245,
    "start_time": "2021-11-06T14:34:03.430Z"
   },
   {
    "duration": 8,
    "start_time": "2021-11-06T14:35:19.732Z"
   },
   {
    "duration": 266,
    "start_time": "2021-11-06T14:45:57.583Z"
   },
   {
    "duration": 2,
    "start_time": "2021-11-06T15:08:40.886Z"
   },
   {
    "duration": 3,
    "start_time": "2021-11-06T15:08:42.588Z"
   },
   {
    "duration": 3,
    "start_time": "2021-11-06T15:08:52.589Z"
   },
   {
    "duration": 3,
    "start_time": "2021-11-06T15:09:50.316Z"
   },
   {
    "duration": 2,
    "start_time": "2021-11-06T15:09:53.626Z"
   },
   {
    "duration": 37,
    "start_time": "2021-11-06T15:11:25.937Z"
   },
   {
    "duration": 7,
    "start_time": "2021-11-06T15:11:25.976Z"
   },
   {
    "duration": 10,
    "start_time": "2021-11-06T15:11:25.985Z"
   },
   {
    "duration": 8,
    "start_time": "2021-11-06T15:11:25.997Z"
   },
   {
    "duration": 15,
    "start_time": "2021-11-06T15:11:26.006Z"
   },
   {
    "duration": 43,
    "start_time": "2021-11-06T15:11:26.023Z"
   },
   {
    "duration": 264,
    "start_time": "2021-11-06T15:11:26.069Z"
   },
   {
    "duration": 8,
    "start_time": "2021-11-06T15:11:26.335Z"
   },
   {
    "duration": 20,
    "start_time": "2021-11-06T15:11:26.344Z"
   },
   {
    "duration": 247,
    "start_time": "2021-11-06T15:11:26.367Z"
   },
   {
    "duration": 7,
    "start_time": "2021-11-06T15:11:26.617Z"
   },
   {
    "duration": 257,
    "start_time": "2021-11-06T15:11:26.625Z"
   },
   {
    "duration": 7,
    "start_time": "2021-11-06T15:11:26.884Z"
   },
   {
    "duration": 6,
    "start_time": "2021-11-06T15:11:26.893Z"
   },
   {
    "duration": 1439,
    "start_time": "2021-11-07T20:24:23.907Z"
   },
   {
    "duration": 640,
    "start_time": "2021-11-07T20:31:38.702Z"
   },
   {
    "duration": 4,
    "start_time": "2021-11-07T20:31:52.633Z"
   },
   {
    "duration": 316,
    "start_time": "2021-11-07T20:31:52.639Z"
   },
   {
    "duration": 7,
    "start_time": "2021-11-07T20:31:52.957Z"
   },
   {
    "duration": 18,
    "start_time": "2021-11-07T20:31:52.967Z"
   },
   {
    "duration": 6,
    "start_time": "2021-11-07T20:31:52.987Z"
   },
   {
    "duration": 35,
    "start_time": "2021-11-07T20:31:52.995Z"
   },
   {
    "duration": 22,
    "start_time": "2021-11-07T20:31:53.032Z"
   },
   {
    "duration": 8,
    "start_time": "2021-11-07T20:31:53.056Z"
   },
   {
    "duration": 17,
    "start_time": "2021-11-07T20:31:53.066Z"
   },
   {
    "duration": 65,
    "start_time": "2021-11-07T20:31:53.085Z"
   },
   {
    "duration": 89,
    "start_time": "2021-11-07T20:31:53.152Z"
   },
   {
    "duration": 52,
    "start_time": "2021-11-07T20:31:53.243Z"
   },
   {
    "duration": 16,
    "start_time": "2021-11-07T20:31:53.297Z"
   },
   {
    "duration": 17,
    "start_time": "2021-11-07T20:31:53.315Z"
   },
   {
    "duration": 177,
    "start_time": "2021-11-07T20:31:53.334Z"
   },
   {
    "duration": 46,
    "start_time": "2021-11-07T20:31:53.513Z"
   },
   {
    "duration": 8,
    "start_time": "2021-11-07T20:31:53.561Z"
   },
   {
    "duration": 18,
    "start_time": "2021-11-07T20:31:53.570Z"
   },
   {
    "duration": 148,
    "start_time": "2021-11-07T20:31:53.607Z"
   },
   {
    "duration": 6,
    "start_time": "2021-11-07T20:31:53.757Z"
   },
   {
    "duration": 13,
    "start_time": "2021-11-07T20:31:53.765Z"
   },
   {
    "duration": 12,
    "start_time": "2021-11-07T20:31:53.780Z"
   },
   {
    "duration": 38,
    "start_time": "2021-11-07T20:31:53.794Z"
   },
   {
    "duration": 44,
    "start_time": "2021-11-07T20:31:53.833Z"
   },
   {
    "duration": 3,
    "start_time": "2021-11-07T20:31:53.879Z"
   },
   {
    "duration": 26,
    "start_time": "2021-11-07T20:31:53.884Z"
   },
   {
    "duration": 13,
    "start_time": "2021-11-07T20:31:53.914Z"
   },
   {
    "duration": 245,
    "start_time": "2021-11-07T20:31:53.929Z"
   },
   {
    "duration": 70,
    "start_time": "2021-11-07T20:31:54.176Z"
   },
   {
    "duration": 35,
    "start_time": "2021-11-07T20:31:54.248Z"
   },
   {
    "duration": 51,
    "start_time": "2021-11-07T20:31:54.284Z"
   },
   {
    "duration": 34,
    "start_time": "2021-11-07T20:31:54.337Z"
   },
   {
    "duration": 7,
    "start_time": "2021-11-07T20:31:54.373Z"
   },
   {
    "duration": 33,
    "start_time": "2021-11-07T20:31:54.382Z"
   },
   {
    "duration": 7,
    "start_time": "2021-11-07T20:31:54.417Z"
   },
   {
    "duration": 15,
    "start_time": "2021-11-07T20:31:54.426Z"
   },
   {
    "duration": 9,
    "start_time": "2021-11-07T20:31:54.443Z"
   },
   {
    "duration": 273,
    "start_time": "2021-11-07T20:31:54.453Z"
   },
   {
    "duration": 8,
    "start_time": "2021-11-07T20:31:54.727Z"
   },
   {
    "duration": 6,
    "start_time": "2021-11-07T20:31:54.737Z"
   },
   {
    "duration": 251,
    "start_time": "2021-11-07T20:31:54.745Z"
   },
   {
    "duration": 12,
    "start_time": "2021-11-07T20:31:54.998Z"
   },
   {
    "duration": 240,
    "start_time": "2021-11-07T20:31:55.011Z"
   },
   {
    "duration": 7,
    "start_time": "2021-11-07T20:31:55.253Z"
   },
   {
    "duration": 8,
    "start_time": "2021-11-07T20:31:55.262Z"
   },
   {
    "duration": 8,
    "start_time": "2021-11-07T20:31:55.272Z"
   },
   {
    "duration": 7,
    "start_time": "2021-11-07T20:51:52.273Z"
   },
   {
    "duration": 5,
    "start_time": "2021-11-07T20:52:20.135Z"
   },
   {
    "duration": 7,
    "start_time": "2021-11-07T20:55:35.063Z"
   },
   {
    "duration": 5,
    "start_time": "2021-11-07T20:55:35.415Z"
   },
   {
    "duration": 3,
    "start_time": "2021-11-07T20:58:52.685Z"
   },
   {
    "duration": 307,
    "start_time": "2021-11-07T20:58:52.691Z"
   },
   {
    "duration": 7,
    "start_time": "2021-11-07T20:58:53.000Z"
   },
   {
    "duration": 13,
    "start_time": "2021-11-07T20:58:53.009Z"
   },
   {
    "duration": 10,
    "start_time": "2021-11-07T20:58:53.024Z"
   },
   {
    "duration": 37,
    "start_time": "2021-11-07T20:58:53.036Z"
   },
   {
    "duration": 22,
    "start_time": "2021-11-07T20:58:53.074Z"
   },
   {
    "duration": 7,
    "start_time": "2021-11-07T20:58:53.098Z"
   },
   {
    "duration": 16,
    "start_time": "2021-11-07T20:58:53.107Z"
   },
   {
    "duration": 49,
    "start_time": "2021-11-07T20:58:53.125Z"
   },
   {
    "duration": 70,
    "start_time": "2021-11-07T20:58:53.175Z"
   },
   {
    "duration": 49,
    "start_time": "2021-11-07T20:58:53.247Z"
   },
   {
    "duration": 9,
    "start_time": "2021-11-07T20:58:53.298Z"
   },
   {
    "duration": 17,
    "start_time": "2021-11-07T20:58:53.308Z"
   },
   {
    "duration": 171,
    "start_time": "2021-11-07T20:58:53.327Z"
   },
   {
    "duration": 46,
    "start_time": "2021-11-07T20:58:53.500Z"
   },
   {
    "duration": 8,
    "start_time": "2021-11-07T20:58:53.548Z"
   },
   {
    "duration": 19,
    "start_time": "2021-11-07T20:58:53.558Z"
   },
   {
    "duration": 148,
    "start_time": "2021-11-07T20:58:53.579Z"
   },
   {
    "duration": 6,
    "start_time": "2021-11-07T20:58:53.728Z"
   },
   {
    "duration": 20,
    "start_time": "2021-11-07T20:58:53.736Z"
   },
   {
    "duration": 10,
    "start_time": "2021-11-07T20:58:53.758Z"
   },
   {
    "duration": 43,
    "start_time": "2021-11-07T20:58:53.770Z"
   },
   {
    "duration": 55,
    "start_time": "2021-11-07T20:58:53.815Z"
   },
   {
    "duration": 38,
    "start_time": "2021-11-07T20:58:53.872Z"
   },
   {
    "duration": 12,
    "start_time": "2021-11-07T20:58:53.912Z"
   },
   {
    "duration": 12,
    "start_time": "2021-11-07T20:58:53.930Z"
   },
   {
    "duration": 330,
    "start_time": "2021-11-07T20:58:53.944Z"
   },
   {
    "duration": 58,
    "start_time": "2021-11-07T20:58:54.276Z"
   },
   {
    "duration": 34,
    "start_time": "2021-11-07T20:58:54.336Z"
   },
   {
    "duration": 44,
    "start_time": "2021-11-07T20:58:54.372Z"
   },
   {
    "duration": 35,
    "start_time": "2021-11-07T20:58:54.418Z"
   },
   {
    "duration": 8,
    "start_time": "2021-11-07T20:58:54.455Z"
   },
   {
    "duration": 11,
    "start_time": "2021-11-07T20:58:54.465Z"
   },
   {
    "duration": 6,
    "start_time": "2021-11-07T20:58:54.478Z"
   },
   {
    "duration": 23,
    "start_time": "2021-11-07T20:58:54.486Z"
   },
   {
    "duration": 6,
    "start_time": "2021-11-07T20:58:54.511Z"
   },
   {
    "duration": 257,
    "start_time": "2021-11-07T20:58:54.519Z"
   },
   {
    "duration": 8,
    "start_time": "2021-11-07T20:58:54.778Z"
   },
   {
    "duration": 19,
    "start_time": "2021-11-07T20:58:54.788Z"
   },
   {
    "duration": 246,
    "start_time": "2021-11-07T20:58:54.809Z"
   },
   {
    "duration": 7,
    "start_time": "2021-11-07T20:58:55.057Z"
   },
   {
    "duration": 248,
    "start_time": "2021-11-07T20:58:55.066Z"
   },
   {
    "duration": 7,
    "start_time": "2021-11-07T20:58:55.316Z"
   },
   {
    "duration": 17,
    "start_time": "2021-11-07T20:58:55.325Z"
   },
   {
    "duration": 9,
    "start_time": "2021-11-07T20:58:55.344Z"
   },
   {
    "duration": 9,
    "start_time": "2021-11-07T20:58:55.355Z"
   },
   {
    "duration": 10,
    "start_time": "2021-11-07T21:08:20.106Z"
   },
   {
    "duration": 9,
    "start_time": "2021-11-07T21:15:55.974Z"
   },
   {
    "duration": 997,
    "start_time": "2021-11-08T08:40:29.774Z"
   },
   {
    "duration": 321,
    "start_time": "2021-11-08T08:40:30.773Z"
   },
   {
    "duration": 7,
    "start_time": "2021-11-08T08:40:31.096Z"
   },
   {
    "duration": 20,
    "start_time": "2021-11-08T08:40:31.105Z"
   },
   {
    "duration": 10,
    "start_time": "2021-11-08T08:40:31.126Z"
   },
   {
    "duration": 30,
    "start_time": "2021-11-08T08:40:31.138Z"
   },
   {
    "duration": 33,
    "start_time": "2021-11-08T08:40:31.169Z"
   },
   {
    "duration": 6,
    "start_time": "2021-11-08T08:40:31.205Z"
   },
   {
    "duration": 28,
    "start_time": "2021-11-08T08:40:31.213Z"
   },
   {
    "duration": 41,
    "start_time": "2021-11-08T08:40:31.243Z"
   },
   {
    "duration": 66,
    "start_time": "2021-11-08T08:40:31.285Z"
   },
   {
    "duration": 59,
    "start_time": "2021-11-08T08:40:31.352Z"
   },
   {
    "duration": 7,
    "start_time": "2021-11-08T08:40:31.413Z"
   },
   {
    "duration": 20,
    "start_time": "2021-11-08T08:40:31.421Z"
   },
   {
    "duration": 233,
    "start_time": "2021-11-08T08:40:31.443Z"
   },
   {
    "duration": 40,
    "start_time": "2021-11-08T08:40:31.678Z"
   },
   {
    "duration": 7,
    "start_time": "2021-11-08T08:40:31.719Z"
   },
   {
    "duration": 18,
    "start_time": "2021-11-08T08:40:31.728Z"
   },
   {
    "duration": 130,
    "start_time": "2021-11-08T08:40:31.748Z"
   },
   {
    "duration": 13,
    "start_time": "2021-11-08T08:40:31.880Z"
   },
   {
    "duration": 10,
    "start_time": "2021-11-08T08:40:31.894Z"
   },
   {
    "duration": 8,
    "start_time": "2021-11-08T08:40:31.905Z"
   },
   {
    "duration": 27,
    "start_time": "2021-11-08T08:40:31.917Z"
   },
   {
    "duration": 69,
    "start_time": "2021-11-08T08:40:31.947Z"
   },
   {
    "duration": 5,
    "start_time": "2021-11-08T08:40:32.017Z"
   },
   {
    "duration": 14,
    "start_time": "2021-11-08T08:40:32.024Z"
   },
   {
    "duration": 12,
    "start_time": "2021-11-08T08:40:32.039Z"
   },
   {
    "duration": 215,
    "start_time": "2021-11-08T08:40:32.053Z"
   },
   {
    "duration": 60,
    "start_time": "2021-11-08T08:40:32.270Z"
   },
   {
    "duration": 32,
    "start_time": "2021-11-08T08:40:32.332Z"
   },
   {
    "duration": 50,
    "start_time": "2021-11-08T08:40:32.366Z"
   },
   {
    "duration": 30,
    "start_time": "2021-11-08T08:40:32.418Z"
   },
   {
    "duration": 7,
    "start_time": "2021-11-08T08:40:32.450Z"
   },
   {
    "duration": 8,
    "start_time": "2021-11-08T08:40:32.459Z"
   },
   {
    "duration": 5,
    "start_time": "2021-11-08T08:40:32.491Z"
   },
   {
    "duration": 13,
    "start_time": "2021-11-08T08:40:32.497Z"
   },
   {
    "duration": 5,
    "start_time": "2021-11-08T08:40:32.511Z"
   },
   {
    "duration": 252,
    "start_time": "2021-11-08T08:40:32.518Z"
   },
   {
    "duration": 7,
    "start_time": "2021-11-08T08:40:32.771Z"
   },
   {
    "duration": 12,
    "start_time": "2021-11-08T08:40:32.779Z"
   },
   {
    "duration": 224,
    "start_time": "2021-11-08T08:40:32.793Z"
   },
   {
    "duration": 7,
    "start_time": "2021-11-08T08:40:33.019Z"
   },
   {
    "duration": 256,
    "start_time": "2021-11-08T08:40:33.028Z"
   },
   {
    "duration": 11,
    "start_time": "2021-11-08T08:40:33.286Z"
   },
   {
    "duration": 10,
    "start_time": "2021-11-08T08:40:33.298Z"
   },
   {
    "duration": 14,
    "start_time": "2021-11-08T08:40:33.309Z"
   },
   {
    "duration": 8,
    "start_time": "2021-11-08T08:40:33.324Z"
   },
   {
    "duration": 8,
    "start_time": "2021-11-08T08:47:19.146Z"
   },
   {
    "duration": 78,
    "start_time": "2021-11-08T08:47:55.710Z"
   },
   {
    "duration": 22,
    "start_time": "2021-11-08T08:48:47.892Z"
   },
   {
    "duration": 19,
    "start_time": "2021-11-08T08:52:58.664Z"
   },
   {
    "duration": 30,
    "start_time": "2021-11-08T09:01:23.119Z"
   },
   {
    "duration": 309,
    "start_time": "2021-11-08T14:19:37.133Z"
   },
   {
    "duration": 1104,
    "start_time": "2021-11-08T14:19:45.376Z"
   },
   {
    "duration": 310,
    "start_time": "2021-11-08T14:19:46.482Z"
   },
   {
    "duration": 7,
    "start_time": "2021-11-08T14:19:46.794Z"
   },
   {
    "duration": 13,
    "start_time": "2021-11-08T14:19:46.803Z"
   },
   {
    "duration": 11,
    "start_time": "2021-11-08T14:19:46.818Z"
   },
   {
    "duration": 38,
    "start_time": "2021-11-08T14:19:46.831Z"
   },
   {
    "duration": 22,
    "start_time": "2021-11-08T14:19:46.871Z"
   },
   {
    "duration": 7,
    "start_time": "2021-11-08T14:19:46.895Z"
   },
   {
    "duration": 14,
    "start_time": "2021-11-08T14:19:46.904Z"
   },
   {
    "duration": 69,
    "start_time": "2021-11-08T14:19:46.920Z"
   },
   {
    "duration": 97,
    "start_time": "2021-11-08T14:19:46.990Z"
   },
   {
    "duration": 68,
    "start_time": "2021-11-08T14:19:47.089Z"
   },
   {
    "duration": 11,
    "start_time": "2021-11-08T14:19:47.159Z"
   },
   {
    "duration": 21,
    "start_time": "2021-11-08T14:19:47.173Z"
   },
   {
    "duration": 204,
    "start_time": "2021-11-08T14:19:47.197Z"
   },
   {
    "duration": 56,
    "start_time": "2021-11-08T14:19:47.402Z"
   },
   {
    "duration": 8,
    "start_time": "2021-11-08T14:19:47.460Z"
   },
   {
    "duration": 16,
    "start_time": "2021-11-08T14:19:47.469Z"
   },
   {
    "duration": 151,
    "start_time": "2021-11-08T14:19:47.488Z"
   },
   {
    "duration": 6,
    "start_time": "2021-11-08T14:19:47.645Z"
   },
   {
    "duration": 12,
    "start_time": "2021-11-08T14:19:47.654Z"
   },
   {
    "duration": 13,
    "start_time": "2021-11-08T14:19:47.668Z"
   },
   {
    "duration": 32,
    "start_time": "2021-11-08T14:19:47.683Z"
   },
   {
    "duration": 61,
    "start_time": "2021-11-08T14:19:47.717Z"
   },
   {
    "duration": 5,
    "start_time": "2021-11-08T14:19:47.780Z"
   },
   {
    "duration": 13,
    "start_time": "2021-11-08T14:19:47.787Z"
   },
   {
    "duration": 21,
    "start_time": "2021-11-08T14:19:47.805Z"
   },
   {
    "duration": 352,
    "start_time": "2021-11-08T14:19:47.829Z"
   },
   {
    "duration": 82,
    "start_time": "2021-11-08T14:19:48.183Z"
   },
   {
    "duration": 48,
    "start_time": "2021-11-08T14:19:48.267Z"
   },
   {
    "duration": 69,
    "start_time": "2021-11-08T14:19:48.317Z"
   },
   {
    "duration": 36,
    "start_time": "2021-11-08T14:19:48.388Z"
   },
   {
    "duration": 20,
    "start_time": "2021-11-08T14:19:48.426Z"
   },
   {
    "duration": 11,
    "start_time": "2021-11-08T14:19:48.447Z"
   },
   {
    "duration": 6805,
    "start_time": "2021-11-08T14:19:48.459Z"
   },
   {
    "duration": -403,
    "start_time": "2021-11-08T14:19:55.668Z"
   },
   {
    "duration": -406,
    "start_time": "2021-11-08T14:19:55.672Z"
   },
   {
    "duration": -410,
    "start_time": "2021-11-08T14:19:55.677Z"
   },
   {
    "duration": -415,
    "start_time": "2021-11-08T14:19:55.683Z"
   },
   {
    "duration": -418,
    "start_time": "2021-11-08T14:19:55.687Z"
   },
   {
    "duration": -423,
    "start_time": "2021-11-08T14:19:55.692Z"
   },
   {
    "duration": -429,
    "start_time": "2021-11-08T14:19:55.699Z"
   },
   {
    "duration": -432,
    "start_time": "2021-11-08T14:19:55.703Z"
   },
   {
    "duration": -438,
    "start_time": "2021-11-08T14:19:55.710Z"
   },
   {
    "duration": -444,
    "start_time": "2021-11-08T14:19:55.717Z"
   },
   {
    "duration": -447,
    "start_time": "2021-11-08T14:19:55.721Z"
   },
   {
    "duration": -451,
    "start_time": "2021-11-08T14:19:55.726Z"
   },
   {
    "duration": 6,
    "start_time": "2021-11-08T14:21:19.817Z"
   },
   {
    "duration": 17,
    "start_time": "2021-11-08T15:41:19.102Z"
   },
   {
    "duration": 26,
    "start_time": "2021-11-08T15:41:32.415Z"
   },
   {
    "duration": 15,
    "start_time": "2021-11-08T15:41:47.950Z"
   },
   {
    "duration": 12,
    "start_time": "2021-11-08T15:57:15.658Z"
   },
   {
    "duration": 89,
    "start_time": "2021-11-08T16:29:41.677Z"
   },
   {
    "duration": 491,
    "start_time": "2021-11-08T16:29:52.497Z"
   },
   {
    "duration": 93,
    "start_time": "2021-11-08T16:30:00.704Z"
   },
   {
    "duration": 86,
    "start_time": "2021-11-08T16:30:04.369Z"
   },
   {
    "duration": 284,
    "start_time": "2021-11-08T16:30:22.353Z"
   },
   {
    "duration": 111,
    "start_time": "2021-11-08T16:30:27.866Z"
   },
   {
    "duration": 97,
    "start_time": "2021-11-08T16:30:52.629Z"
   },
   {
    "duration": 91,
    "start_time": "2021-11-08T16:30:58.580Z"
   },
   {
    "duration": 85,
    "start_time": "2021-11-08T16:31:05.952Z"
   },
   {
    "duration": 95,
    "start_time": "2021-11-08T16:31:40.725Z"
   },
   {
    "duration": 98,
    "start_time": "2021-11-08T16:31:47.735Z"
   },
   {
    "duration": 1028,
    "start_time": "2021-11-08T16:32:09.993Z"
   },
   {
    "duration": 294,
    "start_time": "2021-11-08T16:32:11.023Z"
   },
   {
    "duration": 7,
    "start_time": "2021-11-08T16:32:11.319Z"
   },
   {
    "duration": 11,
    "start_time": "2021-11-08T16:32:11.328Z"
   },
   {
    "duration": 8,
    "start_time": "2021-11-08T16:32:11.341Z"
   },
   {
    "duration": 29,
    "start_time": "2021-11-08T16:32:11.350Z"
   },
   {
    "duration": 21,
    "start_time": "2021-11-08T16:32:11.381Z"
   },
   {
    "duration": 8,
    "start_time": "2021-11-08T16:32:11.405Z"
   },
   {
    "duration": 34,
    "start_time": "2021-11-08T16:32:11.415Z"
   },
   {
    "duration": 49,
    "start_time": "2021-11-08T16:32:11.451Z"
   },
   {
    "duration": 86,
    "start_time": "2021-11-08T16:32:11.502Z"
   },
   {
    "duration": 60,
    "start_time": "2021-11-08T16:32:11.590Z"
   },
   {
    "duration": 8,
    "start_time": "2021-11-08T16:32:11.652Z"
   },
   {
    "duration": 19,
    "start_time": "2021-11-08T16:32:11.662Z"
   },
   {
    "duration": 165,
    "start_time": "2021-11-08T16:32:11.682Z"
   },
   {
    "duration": 40,
    "start_time": "2021-11-08T16:32:11.849Z"
   },
   {
    "duration": 7,
    "start_time": "2021-11-08T16:32:11.891Z"
   },
   {
    "duration": 17,
    "start_time": "2021-11-08T16:32:11.899Z"
   },
   {
    "duration": 146,
    "start_time": "2021-11-08T16:32:11.918Z"
   },
   {
    "duration": 4,
    "start_time": "2021-11-08T16:32:12.066Z"
   },
   {
    "duration": 27,
    "start_time": "2021-11-08T16:32:12.072Z"
   },
   {
    "duration": 11,
    "start_time": "2021-11-08T16:32:12.101Z"
   },
   {
    "duration": 29,
    "start_time": "2021-11-08T16:32:12.116Z"
   },
   {
    "duration": 45,
    "start_time": "2021-11-08T16:32:12.148Z"
   },
   {
    "duration": 4,
    "start_time": "2021-11-08T16:32:12.195Z"
   },
   {
    "duration": 8,
    "start_time": "2021-11-08T16:32:12.200Z"
   },
   {
    "duration": 14,
    "start_time": "2021-11-08T16:32:12.209Z"
   },
   {
    "duration": 229,
    "start_time": "2021-11-08T16:32:12.224Z"
   },
   {
    "duration": 49,
    "start_time": "2021-11-08T16:32:12.454Z"
   },
   {
    "duration": 49,
    "start_time": "2021-11-08T16:32:12.505Z"
   },
   {
    "duration": 35,
    "start_time": "2021-11-08T16:32:12.555Z"
   },
   {
    "duration": 34,
    "start_time": "2021-11-08T16:32:12.592Z"
   },
   {
    "duration": 8,
    "start_time": "2021-11-08T16:32:12.645Z"
   },
   {
    "duration": 9,
    "start_time": "2021-11-08T16:32:12.655Z"
   },
   {
    "duration": 8,
    "start_time": "2021-11-08T16:32:12.666Z"
   },
   {
    "duration": 98,
    "start_time": "2021-11-08T16:32:12.676Z"
   },
   {
    "duration": -275,
    "start_time": "2021-11-08T16:32:13.052Z"
   },
   {
    "duration": -278,
    "start_time": "2021-11-08T16:32:13.056Z"
   },
   {
    "duration": -281,
    "start_time": "2021-11-08T16:32:13.060Z"
   },
   {
    "duration": -284,
    "start_time": "2021-11-08T16:32:13.065Z"
   },
   {
    "duration": -289,
    "start_time": "2021-11-08T16:32:13.071Z"
   },
   {
    "duration": -304,
    "start_time": "2021-11-08T16:32:13.088Z"
   },
   {
    "duration": -306,
    "start_time": "2021-11-08T16:32:13.091Z"
   },
   {
    "duration": -308,
    "start_time": "2021-11-08T16:32:13.095Z"
   },
   {
    "duration": -311,
    "start_time": "2021-11-08T16:32:13.099Z"
   },
   {
    "duration": -313,
    "start_time": "2021-11-08T16:32:13.102Z"
   },
   {
    "duration": -315,
    "start_time": "2021-11-08T16:32:13.106Z"
   },
   {
    "duration": -317,
    "start_time": "2021-11-08T16:32:13.109Z"
   },
   {
    "duration": -318,
    "start_time": "2021-11-08T16:32:13.112Z"
   },
   {
    "duration": 101,
    "start_time": "2021-11-08T16:32:28.949Z"
   },
   {
    "duration": 96,
    "start_time": "2021-11-08T16:32:33.874Z"
   },
   {
    "duration": 100,
    "start_time": "2021-11-08T16:32:39.018Z"
   },
   {
    "duration": 90,
    "start_time": "2021-11-08T16:34:08.830Z"
   },
   {
    "duration": 82,
    "start_time": "2021-11-08T16:34:25.265Z"
   },
   {
    "duration": 84,
    "start_time": "2021-11-08T16:34:37.322Z"
   },
   {
    "duration": 570,
    "start_time": "2021-11-08T16:34:48.899Z"
   },
   {
    "duration": 91,
    "start_time": "2021-11-08T16:34:51.234Z"
   },
   {
    "duration": 91,
    "start_time": "2021-11-08T16:35:18.392Z"
   },
   {
    "duration": 95,
    "start_time": "2021-11-08T16:35:55.251Z"
   },
   {
    "duration": 88,
    "start_time": "2021-11-08T16:36:35.693Z"
   },
   {
    "duration": 278,
    "start_time": "2021-11-08T16:37:12.825Z"
   },
   {
    "duration": 268,
    "start_time": "2021-11-08T16:40:46.161Z"
   },
   {
    "duration": 962,
    "start_time": "2021-11-08T16:41:03.485Z"
   },
   {
    "duration": 274,
    "start_time": "2021-11-08T16:43:06.551Z"
   },
   {
    "duration": 282,
    "start_time": "2021-11-08T16:43:47.852Z"
   },
   {
    "duration": 254,
    "start_time": "2021-11-08T16:45:33.423Z"
   },
   {
    "duration": 293,
    "start_time": "2021-11-08T16:47:22.103Z"
   },
   {
    "duration": 277,
    "start_time": "2021-11-08T16:47:28.293Z"
   },
   {
    "duration": 261,
    "start_time": "2021-11-08T16:47:32.753Z"
   },
   {
    "duration": 307,
    "start_time": "2021-11-08T16:47:36.102Z"
   },
   {
    "duration": 267,
    "start_time": "2021-11-08T16:48:04.006Z"
   },
   {
    "duration": 266,
    "start_time": "2021-11-08T16:49:28.611Z"
   },
   {
    "duration": 6,
    "start_time": "2021-11-08T16:50:19.277Z"
   },
   {
    "duration": 6884,
    "start_time": "2021-11-08T16:51:55.700Z"
   },
   {
    "duration": 291,
    "start_time": "2021-11-08T16:52:23.834Z"
   },
   {
    "duration": 114,
    "start_time": "2021-11-08T16:55:40.895Z"
   },
   {
    "duration": 97,
    "start_time": "2021-11-08T16:56:16.350Z"
   },
   {
    "duration": 86,
    "start_time": "2021-11-08T16:56:35.662Z"
   },
   {
    "duration": 89,
    "start_time": "2021-11-08T16:56:58.934Z"
   },
   {
    "duration": 92,
    "start_time": "2021-11-08T16:57:12.984Z"
   },
   {
    "duration": 98,
    "start_time": "2021-11-08T16:57:16.961Z"
   },
   {
    "duration": 276,
    "start_time": "2021-11-08T16:58:33.861Z"
   },
   {
    "duration": 12,
    "start_time": "2021-11-08T16:58:37.942Z"
   },
   {
    "duration": 3,
    "start_time": "2021-11-08T16:58:46.640Z"
   },
   {
    "duration": 8172,
    "start_time": "2021-11-08T17:14:10.224Z"
   },
   {
    "duration": 269,
    "start_time": "2021-11-08T17:14:35.482Z"
   },
   {
    "duration": 88,
    "start_time": "2021-11-08T17:34:19.826Z"
   },
   {
    "duration": 408,
    "start_time": "2021-11-08T17:34:23.163Z"
   },
   {
    "duration": 88,
    "start_time": "2021-11-08T17:35:01.913Z"
   },
   {
    "duration": 98,
    "start_time": "2021-11-08T17:35:05.516Z"
   },
   {
    "duration": 259,
    "start_time": "2021-11-08T17:35:12.949Z"
   },
   {
    "duration": 4,
    "start_time": "2021-11-08T17:35:20.714Z"
   },
   {
    "duration": 4,
    "start_time": "2021-11-08T17:35:24.334Z"
   },
   {
    "duration": 284,
    "start_time": "2021-11-08T17:35:42.118Z"
   },
   {
    "duration": 125,
    "start_time": "2021-11-08T19:03:02.675Z"
   },
   {
    "duration": 86,
    "start_time": "2021-11-08T19:03:37.293Z"
   },
   {
    "duration": 5,
    "start_time": "2021-11-08T19:03:44.851Z"
   },
   {
    "duration": 6,
    "start_time": "2021-11-08T19:04:14.972Z"
   },
   {
    "duration": 260,
    "start_time": "2021-11-08T19:05:37.298Z"
   },
   {
    "duration": 270,
    "start_time": "2021-11-08T19:05:50.308Z"
   },
   {
    "duration": 8,
    "start_time": "2021-11-08T19:05:57.917Z"
   },
   {
    "duration": 279,
    "start_time": "2021-11-08T19:06:02.610Z"
   },
   {
    "duration": 6,
    "start_time": "2021-11-08T19:06:06.369Z"
   },
   {
    "duration": 126,
    "start_time": "2021-11-08T19:06:55.076Z"
   },
   {
    "duration": 89,
    "start_time": "2021-11-08T19:07:19.751Z"
   },
   {
    "duration": 7,
    "start_time": "2021-11-08T19:09:01.290Z"
   },
   {
    "duration": 59,
    "start_time": "2021-11-08T19:22:32.200Z"
   },
   {
    "duration": 4,
    "start_time": "2021-11-08T19:22:43.794Z"
   },
   {
    "duration": 300,
    "start_time": "2021-11-08T19:22:43.822Z"
   },
   {
    "duration": 6,
    "start_time": "2021-11-08T19:22:44.124Z"
   },
   {
    "duration": 9,
    "start_time": "2021-11-08T19:22:44.132Z"
   },
   {
    "duration": 10,
    "start_time": "2021-11-08T19:22:44.143Z"
   },
   {
    "duration": 30,
    "start_time": "2021-11-08T19:22:44.155Z"
   },
   {
    "duration": 21,
    "start_time": "2021-11-08T19:22:44.872Z"
   },
   {
    "duration": 7,
    "start_time": "2021-11-08T19:22:44.894Z"
   },
   {
    "duration": 21,
    "start_time": "2021-11-08T19:22:44.902Z"
   },
   {
    "duration": 50,
    "start_time": "2021-11-08T19:22:44.925Z"
   },
   {
    "duration": 73,
    "start_time": "2021-11-08T19:22:44.977Z"
   },
   {
    "duration": 42,
    "start_time": "2021-11-08T19:22:45.052Z"
   },
   {
    "duration": 8,
    "start_time": "2021-11-08T19:22:45.096Z"
   },
   {
    "duration": 16,
    "start_time": "2021-11-08T19:22:45.106Z"
   },
   {
    "duration": 175,
    "start_time": "2021-11-08T19:22:45.125Z"
   },
   {
    "duration": 46,
    "start_time": "2021-11-08T19:22:45.301Z"
   },
   {
    "duration": 8,
    "start_time": "2021-11-08T19:22:45.349Z"
   },
   {
    "duration": 16,
    "start_time": "2021-11-08T19:22:45.358Z"
   },
   {
    "duration": 126,
    "start_time": "2021-11-08T19:22:45.376Z"
   },
   {
    "duration": 5,
    "start_time": "2021-11-08T19:22:45.503Z"
   },
   {
    "duration": 41,
    "start_time": "2021-11-08T19:22:45.510Z"
   },
   {
    "duration": 9,
    "start_time": "2021-11-08T19:22:45.553Z"
   },
   {
    "duration": 31,
    "start_time": "2021-11-08T19:22:45.563Z"
   },
   {
    "duration": 63,
    "start_time": "2021-11-08T19:22:45.595Z"
   },
   {
    "duration": 4,
    "start_time": "2021-11-08T19:22:45.659Z"
   },
   {
    "duration": 33,
    "start_time": "2021-11-08T19:22:45.665Z"
   },
   {
    "duration": 16,
    "start_time": "2021-11-08T19:22:45.700Z"
   },
   {
    "duration": 216,
    "start_time": "2021-11-08T19:22:45.718Z"
   },
   {
    "duration": 50,
    "start_time": "2021-11-08T19:22:45.937Z"
   },
   {
    "duration": 30,
    "start_time": "2021-11-08T19:22:45.989Z"
   },
   {
    "duration": 51,
    "start_time": "2021-11-08T19:22:46.021Z"
   },
   {
    "duration": 33,
    "start_time": "2021-11-08T19:22:46.073Z"
   },
   {
    "duration": 7,
    "start_time": "2021-11-08T19:22:46.107Z"
   },
   {
    "duration": 34,
    "start_time": "2021-11-08T19:22:46.115Z"
   },
   {
    "duration": 8,
    "start_time": "2021-11-08T19:22:46.151Z"
   },
   {
    "duration": 13,
    "start_time": "2021-11-08T19:22:46.160Z"
   },
   {
    "duration": 74,
    "start_time": "2021-11-08T19:22:46.174Z"
   },
   {
    "duration": 5,
    "start_time": "2021-11-08T19:22:46.249Z"
   },
   {
    "duration": 236,
    "start_time": "2021-11-08T19:22:46.256Z"
   },
   {
    "duration": 7,
    "start_time": "2021-11-08T19:22:46.494Z"
   },
   {
    "duration": 7,
    "start_time": "2021-11-08T19:22:46.502Z"
   },
   {
    "duration": 334,
    "start_time": "2021-11-08T19:22:46.510Z"
   },
   {
    "duration": 7,
    "start_time": "2021-11-08T19:22:46.846Z"
   },
   {
    "duration": 237,
    "start_time": "2021-11-08T19:22:46.854Z"
   },
   {
    "duration": 7,
    "start_time": "2021-11-08T19:22:47.093Z"
   },
   {
    "duration": 12,
    "start_time": "2021-11-08T19:22:47.102Z"
   },
   {
    "duration": 9,
    "start_time": "2021-11-08T19:22:47.116Z"
   },
   {
    "duration": 20,
    "start_time": "2021-11-08T19:22:47.126Z"
   },
   {
    "duration": 7,
    "start_time": "2021-11-08T19:23:08.676Z"
   },
   {
    "duration": 281,
    "start_time": "2021-11-08T19:23:19.451Z"
   },
   {
    "duration": 316,
    "start_time": "2021-11-08T19:23:38.541Z"
   },
   {
    "duration": 63,
    "start_time": "2021-11-08T19:23:55.834Z"
   },
   {
    "duration": 64,
    "start_time": "2021-11-08T19:30:36.075Z"
   },
   {
    "duration": 63,
    "start_time": "2021-11-08T19:31:37.308Z"
   },
   {
    "duration": 184,
    "start_time": "2021-11-08T19:31:53.115Z"
   },
   {
    "duration": 176,
    "start_time": "2021-11-08T19:32:03.383Z"
   },
   {
    "duration": 164,
    "start_time": "2021-11-08T19:33:13.223Z"
   },
   {
    "duration": 211,
    "start_time": "2021-11-08T19:33:40.924Z"
   },
   {
    "duration": 166,
    "start_time": "2021-11-08T19:34:10.985Z"
   },
   {
    "duration": 11,
    "start_time": "2021-11-08T19:34:12.519Z"
   },
   {
    "duration": 3,
    "start_time": "2021-11-08T19:35:05.462Z"
   },
   {
    "duration": 296,
    "start_time": "2021-11-08T19:35:05.467Z"
   },
   {
    "duration": 7,
    "start_time": "2021-11-08T19:35:05.765Z"
   },
   {
    "duration": 12,
    "start_time": "2021-11-08T19:35:05.773Z"
   },
   {
    "duration": 10,
    "start_time": "2021-11-08T19:35:05.786Z"
   },
   {
    "duration": 31,
    "start_time": "2021-11-08T19:35:05.798Z"
   },
   {
    "duration": 34,
    "start_time": "2021-11-08T19:35:05.831Z"
   },
   {
    "duration": 7,
    "start_time": "2021-11-08T19:35:05.867Z"
   },
   {
    "duration": 14,
    "start_time": "2021-11-08T19:35:05.878Z"
   },
   {
    "duration": 73,
    "start_time": "2021-11-08T19:35:05.894Z"
   },
   {
    "duration": 78,
    "start_time": "2021-11-08T19:35:05.969Z"
   },
   {
    "duration": 41,
    "start_time": "2021-11-08T19:35:06.050Z"
   },
   {
    "duration": 8,
    "start_time": "2021-11-08T19:35:06.093Z"
   },
   {
    "duration": 17,
    "start_time": "2021-11-08T19:35:06.103Z"
   },
   {
    "duration": 179,
    "start_time": "2021-11-08T19:35:06.122Z"
   },
   {
    "duration": 49,
    "start_time": "2021-11-08T19:35:06.302Z"
   },
   {
    "duration": 8,
    "start_time": "2021-11-08T19:35:06.352Z"
   },
   {
    "duration": 22,
    "start_time": "2021-11-08T19:35:06.362Z"
   },
   {
    "duration": 128,
    "start_time": "2021-11-08T19:35:06.386Z"
   },
   {
    "duration": 6,
    "start_time": "2021-11-08T19:35:06.516Z"
   },
   {
    "duration": 21,
    "start_time": "2021-11-08T19:35:06.524Z"
   },
   {
    "duration": 19,
    "start_time": "2021-11-08T19:35:06.547Z"
   },
   {
    "duration": 44,
    "start_time": "2021-11-08T19:35:06.568Z"
   },
   {
    "duration": 41,
    "start_time": "2021-11-08T19:35:06.614Z"
   },
   {
    "duration": 3,
    "start_time": "2021-11-08T19:35:06.657Z"
   },
   {
    "duration": 9,
    "start_time": "2021-11-08T19:35:06.662Z"
   },
   {
    "duration": 22,
    "start_time": "2021-11-08T19:35:06.674Z"
   },
   {
    "duration": 218,
    "start_time": "2021-11-08T19:35:06.698Z"
   },
   {
    "duration": 58,
    "start_time": "2021-11-08T19:35:06.917Z"
   },
   {
    "duration": 31,
    "start_time": "2021-11-08T19:35:06.977Z"
   },
   {
    "duration": 47,
    "start_time": "2021-11-08T19:35:07.010Z"
   },
   {
    "duration": 32,
    "start_time": "2021-11-08T19:35:07.059Z"
   },
   {
    "duration": 6,
    "start_time": "2021-11-08T19:35:07.093Z"
   },
   {
    "duration": 10,
    "start_time": "2021-11-08T19:35:07.100Z"
   },
   {
    "duration": 191,
    "start_time": "2021-11-08T19:35:07.112Z"
   },
   {
    "duration": 10,
    "start_time": "2021-11-08T19:35:07.305Z"
   },
   {
    "duration": 17,
    "start_time": "2021-11-08T19:35:07.317Z"
   },
   {
    "duration": 228,
    "start_time": "2021-11-08T19:35:07.336Z"
   },
   {
    "duration": 7,
    "start_time": "2021-11-08T19:35:07.565Z"
   },
   {
    "duration": 18,
    "start_time": "2021-11-08T19:35:07.573Z"
   },
   {
    "duration": 220,
    "start_time": "2021-11-08T19:35:07.592Z"
   },
   {
    "duration": 7,
    "start_time": "2021-11-08T19:35:07.814Z"
   },
   {
    "duration": 232,
    "start_time": "2021-11-08T19:35:07.823Z"
   },
   {
    "duration": 7,
    "start_time": "2021-11-08T19:35:08.057Z"
   },
   {
    "duration": 27,
    "start_time": "2021-11-08T19:35:08.065Z"
   },
   {
    "duration": 18,
    "start_time": "2021-11-08T19:35:08.094Z"
   },
   {
    "duration": 10,
    "start_time": "2021-11-08T19:35:08.114Z"
   },
   {
    "duration": 4,
    "start_time": "2021-11-08T19:40:40.429Z"
   },
   {
    "duration": 325,
    "start_time": "2021-11-08T19:40:40.435Z"
   },
   {
    "duration": 6,
    "start_time": "2021-11-08T19:40:40.762Z"
   },
   {
    "duration": 38,
    "start_time": "2021-11-08T19:40:40.770Z"
   },
   {
    "duration": 35,
    "start_time": "2021-11-08T19:40:40.810Z"
   },
   {
    "duration": 45,
    "start_time": "2021-11-08T19:40:40.847Z"
   },
   {
    "duration": 29,
    "start_time": "2021-11-08T19:40:40.894Z"
   },
   {
    "duration": 7,
    "start_time": "2021-11-08T19:40:40.925Z"
   },
   {
    "duration": 35,
    "start_time": "2021-11-08T19:40:40.934Z"
   },
   {
    "duration": 66,
    "start_time": "2021-11-08T19:40:40.971Z"
   },
   {
    "duration": 69,
    "start_time": "2021-11-08T19:40:41.038Z"
   },
   {
    "duration": 44,
    "start_time": "2021-11-08T19:40:41.110Z"
   },
   {
    "duration": 8,
    "start_time": "2021-11-08T19:40:41.156Z"
   },
   {
    "duration": 38,
    "start_time": "2021-11-08T19:40:41.165Z"
   },
   {
    "duration": 173,
    "start_time": "2021-11-08T19:40:41.205Z"
   },
   {
    "duration": 45,
    "start_time": "2021-11-08T19:40:41.380Z"
   },
   {
    "duration": 17,
    "start_time": "2021-11-08T19:40:41.427Z"
   },
   {
    "duration": 12,
    "start_time": "2021-11-08T19:40:41.446Z"
   },
   {
    "duration": 132,
    "start_time": "2021-11-08T19:40:41.460Z"
   },
   {
    "duration": 5,
    "start_time": "2021-11-08T19:40:41.593Z"
   },
   {
    "duration": 32,
    "start_time": "2021-11-08T19:40:41.600Z"
   },
   {
    "duration": 22,
    "start_time": "2021-11-08T19:40:41.634Z"
   },
   {
    "duration": 35,
    "start_time": "2021-11-08T19:40:41.660Z"
   },
   {
    "duration": 42,
    "start_time": "2021-11-08T19:40:41.697Z"
   },
   {
    "duration": 3,
    "start_time": "2021-11-08T19:40:41.741Z"
   },
   {
    "duration": 20,
    "start_time": "2021-11-08T19:40:41.746Z"
   },
   {
    "duration": 34,
    "start_time": "2021-11-08T19:40:41.768Z"
   },
   {
    "duration": 259,
    "start_time": "2021-11-08T19:40:41.804Z"
   },
   {
    "duration": 52,
    "start_time": "2021-11-08T19:40:42.064Z"
   },
   {
    "duration": 49,
    "start_time": "2021-11-08T19:40:42.118Z"
   },
   {
    "duration": 37,
    "start_time": "2021-11-08T19:40:42.169Z"
   },
   {
    "duration": 50,
    "start_time": "2021-11-08T19:40:42.208Z"
   },
   {
    "duration": 9,
    "start_time": "2021-11-08T19:40:42.260Z"
   },
   {
    "duration": 28,
    "start_time": "2021-11-08T19:40:42.271Z"
   },
   {
    "duration": 186,
    "start_time": "2021-11-08T19:40:42.301Z"
   },
   {
    "duration": 11,
    "start_time": "2021-11-08T19:40:42.489Z"
   },
   {
    "duration": 22,
    "start_time": "2021-11-08T19:40:42.503Z"
   },
   {
    "duration": 273,
    "start_time": "2021-11-08T19:40:42.527Z"
   },
   {
    "duration": 8,
    "start_time": "2021-11-08T19:40:42.802Z"
   },
   {
    "duration": 14,
    "start_time": "2021-11-08T19:40:42.812Z"
   },
   {
    "duration": 318,
    "start_time": "2021-11-08T19:40:42.828Z"
   },
   {
    "duration": 8,
    "start_time": "2021-11-08T19:40:43.148Z"
   },
   {
    "duration": 233,
    "start_time": "2021-11-08T19:40:43.158Z"
   },
   {
    "duration": 8,
    "start_time": "2021-11-08T19:40:43.394Z"
   },
   {
    "duration": 23,
    "start_time": "2021-11-08T19:40:43.404Z"
   },
   {
    "duration": 24,
    "start_time": "2021-11-08T19:40:43.429Z"
   },
   {
    "duration": 22,
    "start_time": "2021-11-08T19:40:43.454Z"
   },
   {
    "duration": 1321,
    "start_time": "2021-11-09T09:50:22.039Z"
   },
   {
    "duration": 442,
    "start_time": "2021-11-09T09:50:23.363Z"
   },
   {
    "duration": 12,
    "start_time": "2021-11-09T09:50:23.808Z"
   },
   {
    "duration": 20,
    "start_time": "2021-11-09T09:50:23.823Z"
   },
   {
    "duration": 11,
    "start_time": "2021-11-09T09:50:23.846Z"
   },
   {
    "duration": 78,
    "start_time": "2021-11-09T09:50:23.859Z"
   },
   {
    "duration": 38,
    "start_time": "2021-11-09T09:50:23.939Z"
   },
   {
    "duration": 27,
    "start_time": "2021-11-09T09:50:23.981Z"
   },
   {
    "duration": 17,
    "start_time": "2021-11-09T09:50:24.013Z"
   },
   {
    "duration": 94,
    "start_time": "2021-11-09T09:50:24.033Z"
   },
   {
    "duration": 112,
    "start_time": "2021-11-09T09:50:24.130Z"
   },
   {
    "duration": 86,
    "start_time": "2021-11-09T09:50:24.246Z"
   },
   {
    "duration": 12,
    "start_time": "2021-11-09T09:50:24.335Z"
   },
   {
    "duration": 51,
    "start_time": "2021-11-09T09:50:24.350Z"
   },
   {
    "duration": 205,
    "start_time": "2021-11-09T09:50:24.403Z"
   },
   {
    "duration": 65,
    "start_time": "2021-11-09T09:50:24.611Z"
   },
   {
    "duration": 29,
    "start_time": "2021-11-09T09:50:24.678Z"
   },
   {
    "duration": 20,
    "start_time": "2021-11-09T09:50:24.709Z"
   },
   {
    "duration": 174,
    "start_time": "2021-11-09T09:50:24.732Z"
   },
   {
    "duration": 8,
    "start_time": "2021-11-09T09:50:24.908Z"
   },
   {
    "duration": 16,
    "start_time": "2021-11-09T09:50:24.918Z"
   },
   {
    "duration": 10,
    "start_time": "2021-11-09T09:50:24.936Z"
   },
   {
    "duration": 78,
    "start_time": "2021-11-09T09:50:24.951Z"
   },
   {
    "duration": 75,
    "start_time": "2021-11-09T09:50:25.032Z"
   },
   {
    "duration": 5,
    "start_time": "2021-11-09T09:50:25.110Z"
   },
   {
    "duration": 10,
    "start_time": "2021-11-09T09:50:25.117Z"
   },
   {
    "duration": 21,
    "start_time": "2021-11-09T09:50:25.130Z"
   },
   {
    "duration": 350,
    "start_time": "2021-11-09T09:50:25.153Z"
   },
   {
    "duration": 74,
    "start_time": "2021-11-09T09:50:25.506Z"
   },
   {
    "duration": 48,
    "start_time": "2021-11-09T09:50:25.600Z"
   },
   {
    "duration": 73,
    "start_time": "2021-11-09T09:50:25.650Z"
   },
   {
    "duration": 52,
    "start_time": "2021-11-09T09:50:25.725Z"
   },
   {
    "duration": 26,
    "start_time": "2021-11-09T09:50:25.780Z"
   },
   {
    "duration": 13,
    "start_time": "2021-11-09T09:50:25.808Z"
   },
   {
    "duration": 316,
    "start_time": "2021-11-09T09:50:25.823Z"
   },
   {
    "duration": 16,
    "start_time": "2021-11-09T09:50:26.141Z"
   },
   {
    "duration": 8,
    "start_time": "2021-11-09T09:50:26.160Z"
   },
   {
    "duration": 418,
    "start_time": "2021-11-09T09:50:26.170Z"
   },
   {
    "duration": 18,
    "start_time": "2021-11-09T09:50:26.590Z"
   },
   {
    "duration": 12,
    "start_time": "2021-11-09T09:50:26.610Z"
   },
   {
    "duration": 500,
    "start_time": "2021-11-09T09:50:26.625Z"
   },
   {
    "duration": 11,
    "start_time": "2021-11-09T09:50:27.128Z"
   },
   {
    "duration": 413,
    "start_time": "2021-11-09T09:50:27.142Z"
   },
   {
    "duration": 11,
    "start_time": "2021-11-09T09:50:27.558Z"
   },
   {
    "duration": 32,
    "start_time": "2021-11-09T09:50:27.572Z"
   },
   {
    "duration": 10,
    "start_time": "2021-11-09T09:50:27.606Z"
   },
   {
    "duration": 20,
    "start_time": "2021-11-09T09:50:27.618Z"
   },
   {
    "duration": 32,
    "start_time": "2021-11-09T09:55:56.395Z"
   }
  ],
  "kernelspec": {
   "display_name": "Python 3",
   "language": "python",
   "name": "python3"
  },
  "language_info": {
   "codemirror_mode": {
    "name": "ipython",
    "version": 3
   },
   "file_extension": ".py",
   "mimetype": "text/x-python",
   "name": "python",
   "nbconvert_exporter": "python",
   "pygments_lexer": "ipython3",
   "version": "3.8.8"
  },
  "toc": {
   "base_numbering": 1,
   "nav_menu": {},
   "number_sections": true,
   "sideBar": true,
   "skip_h1_title": true,
   "title_cell": "Table of Contents",
   "title_sidebar": "Contents",
   "toc_cell": false,
   "toc_position": {},
   "toc_section_display": true,
   "toc_window_display": true
  }
 },
 "nbformat": 4,
 "nbformat_minor": 2
}
